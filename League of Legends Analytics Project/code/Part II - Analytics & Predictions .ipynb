{
 "cells": [
  {
   "cell_type": "raw",
   "metadata": {},
   "source": [
    "<a id = 'top'></a>"
   ]
  },
  {
   "cell_type": "markdown",
   "metadata": {},
   "source": [
    "<br>"
   ]
  },
  {
   "cell_type": "markdown",
   "metadata": {},
   "source": [
    "# League of Legends Data Project\n",
    "___"
   ]
  },
  {
   "cell_type": "markdown",
   "metadata": {},
   "source": [
    "## Part II: Analytics & Predictive Modeling\n",
    "___\n",
    "In Part I of this project, we accessed the Riot Games API and learned how to compile League of Legends match history information into a database ready for analytics, and stored that data in a permanent local copy.\n",
    "\n",
    "The data gathered in Part I can be customized to the user's personal interest by specifying a new Summoner Name and match type(s) and re-executing the API calls. However, the original data has been included for your use as well.\n",
    "\n",
    "In this section, the aim becomes to explore the data—look for trends, patterns, and connections—and then apply a collection of predictive modeling functions to connect those patterns with our defined target: whether the match resulted in a Win or a Loss for the player."
   ]
  },
  {
   "cell_type": "markdown",
   "metadata": {},
   "source": [
    "### Table of Contents\n",
    "___\n",
    "1. [**Data Loading & Preprocessing**](#dlp)<br>\n",
    "    *Reading in Match Data and preparing to run predictions*\n",
    "    + [Preprocessing—standard](#preprocessing)\n",
    "    + [Preprocessing—specialized](#special-prep)\n",
    "        - *Summary statistics*\n",
    "    + [Data Preparation](#prep) \n",
    "        - *Train-Test Split, Normalization* \n",
    "<br>\n",
    "<br>\n",
    "2. [**Exploratory Data Analysis**](#eda)<br>\n",
    "    *Visualizing Target Distribution and other features*\n",
    "<br>\n",
    "<br>\n",
    "3. [**Modeling & Prediction**](#models)\n",
    "    + [Decision Tree](#decision-tree)\n",
    "    + [Extremely Random (\"Extra\") Trees](#extra-trees)\n",
    "    + [Random Forest](#random-forest)\n",
    "        - [*Feature Importance*](#feature-importance) *in decision trees*\n",
    "        - [*Collective Intelligence*](#collective-intelligence), *how groups become smarter*\n",
    "    + [Boosting](#boosting)\n",
    "    + [Gradient Boosting](#gradient-boosting)\n",
    "    + [Bagging](#bagging)\n",
    "    + [Logistic Regression](#logistic-regression)\n",
    "    + [Naïve Bayes](#bayes)\n",
    "    + [*k*-Nearest Neighbors (KNN)](#knn)\n",
    "    + [Stacking (Ensemble Voting)](#stacking)\n",
    "    + [Support Vector Machines (SVM)](#svm)\n",
    "    + [Artificual Neural Network (ANN)](#ann)\n",
    "<br>\n",
    "<br>\n",
    "4. [**Results & Conclusion**](#results)<br>\n",
    "    *Summary table of Model Scores. Final recommendation. Looking forward.*\n",
    "<br>\n",
    "___"
   ]
  },
  {
   "cell_type": "markdown",
   "metadata": {},
   "source": [
    "### Setup\n",
    "___\n",
    "> **Note:** *Running (reproducing) the code in this notebook will require the [PyTimeParse](https://github.com/wroberts/pytimeparse) package (for converting match durations to seconds).*\n",
    ">\n",
    "> *Install it through Anaconda Navigator's Environments command prompt:* `pip install pytimeparse`"
   ]
  },
  {
   "cell_type": "code",
   "execution_count": 1,
   "metadata": {},
   "outputs": [],
   "source": [
    "# Import packages\n",
    "\n",
    "%matplotlib inline \n",
    "import pandas as pd\n",
    "import numpy as np\n",
    "import scipy as sp\n",
    "import scipy.stats as ss\n",
    "import seaborn as sns\n",
    "import matplotlib.pyplot as plt\n",
    "import os\n",
    "import sys\n",
    "import time\n",
    "import datetime\n",
    "import itertools\n",
    "import pytimeparse\n",
    "from sklearn import preprocessing\n",
    "from sklearn.metrics import accuracy_score, precision_score, recall_score, f1_score\n",
    "from sklearn.metrics import confusion_matrix, classification_report\n",
    "from sklearn.model_selection import train_test_split, cross_val_score, KFold, GridSearchCV"
   ]
  },
  {
   "cell_type": "code",
   "execution_count": 2,
   "metadata": {},
   "outputs": [],
   "source": [
    "# Suppress deprecation warning messages\n",
    "import warnings\n",
    "warnings.filterwarnings(\"ignore\")"
   ]
  },
  {
   "cell_type": "code",
   "execution_count": 3,
   "metadata": {},
   "outputs": [
    {
     "name": "stdout",
     "output_type": "stream",
     "text": [
      "This project was created in Python version 3.6.4\n"
     ]
    }
   ],
   "source": [
    "print(\"This project was created in Python version %s.%s.%s\" % sys.version_info[:3])"
   ]
  },
  {
   "cell_type": "code",
   "execution_count": 4,
   "metadata": {},
   "outputs": [],
   "source": [
    "# Get current working directory\n",
    "os.getcwd()"
   ]
  },
  {
   "cell_type": "code",
   "execution_count": 5,
   "metadata": {},
   "outputs": [],
   "source": [
    "# Change directory\n",
    "os.chdir('')"
   ]
  },
  {
   "cell_type": "markdown",
   "metadata": {},
   "source": [
    "(Credit for official display [fonts](https://github.com/tracyfu/lol-armory/tree/master/app/assets/fonts), and the [code](https://stackoverflow.com/questions/33061785/can-i-load-google-fonts-with-matplotlib-and-jupyter) for implementing them in plots.)"
   ]
  },
  {
   "cell_type": "code",
   "execution_count": 6,
   "metadata": {},
   "outputs": [],
   "source": [
    "from tempfile import NamedTemporaryFile\n",
    "from urllib.request import urlopen\n",
    "import matplotlib.font_manager as fm\n",
    "import matplotlib.pyplot as plt\n",
    "\n",
    "github_url = 'https://github.com/tracyfu/lol-armory/blob/master/app/assets/fonts/Beaufort-Bold.ttf'\n",
    "url = github_url + '?raw=true'  # You want the actual file, not some html\n",
    "\n",
    "response = urlopen(url)\n",
    "f = NamedTemporaryFile(delete = False, suffix = '.ttf')\n",
    "f.write(response.read())\n",
    "f.close()\n",
    "\n",
    "main = fm.FontProperties(fname = f.name)\n",
    "\n",
    "github_url = 'https://github.com/tracyfu/lol-armory/blob/master/app/assets/fonts/Spiegel-Regular.ttf'\n",
    "url = github_url + '?raw=true'  # You want the actual file, not some html\n",
    "\n",
    "response = urlopen(url)\n",
    "g = NamedTemporaryFile(delete = False, suffix = '.ttf')\n",
    "g.write(response.read())\n",
    "g.close()\n",
    "\n",
    "body = fm.FontProperties(fname = g.name)"
   ]
  },
  {
   "cell_type": "raw",
   "metadata": {},
   "source": [
    "<a id = 'dlp'></a>"
   ]
  },
  {
   "cell_type": "markdown",
   "metadata": {},
   "source": [
    "<br>"
   ]
  },
  {
   "cell_type": "markdown",
   "metadata": {},
   "source": [
    "### Data Loading & Preprocessing\n",
    "___\n",
    "The data (created in Part I of this project) represents a League of Legends match history for player \"Proxy Fox\" (the author's personal account), with 1100 observations on 176 features. All matches are of the ARAM game mode.\n",
    "\n",
    "**Prediction Goal: Predict Match Outcome (Win/Loss) based on available attributes and statistics.**\n",
    "\n",
    "An overview of the features, by [column or range] is included below.\n",
    "\n",
    " * [0]: **Match ID#** (int)— unique 10-digit identifier for the match\n",
    " * [1]: **Duration** (timecode) — length of the match in HH:MM:SS\n",
    " * [2]: **Side** (factor, 2 levels)['Red', 'Blue'] — player team's side of the map\n",
    " * [3]: **Win** (boolean) — the intended Target: \"True\" if player's team won the match\n",
    " * [4]: **First Blood** (boolean) — \"True\" if player's team made the first enemy kill\n",
    " * [5]: **First Tower** (boolean) — \"True\" if player's team destroyed the first tower\n",
    " * [6]: **Champion** (factor, 114 levels) — name of the player's Champion\n",
    " * [7]: **Champion Type** (factor, 6 levels) — type of the player's Champion\n",
    " * [8]: **Mastery Level** (int) — player's lifetime Mastery score for that Champion\n",
    " * [9]: **Level** (int) — player's level attained in the match (max 18)\n",
    " * [9:35]: **Player Stats** (int) — various post-game stats for the player, like Kills, Deaths, Damage Dealt, and Healing Done.\n",
    " * [36:176]: **Teammates** (binary) — a sparse matrix of all 140 Champions, indicating which four others composed the player's team.\n",
    "\n",
    "The data was generated over a period of approximately two years. It was accessed via the [Riot Games API](https://developer.riotgames.com/) and imported with the third-party [Cassiopeia](https://zenodo.org/record/1183285#.WukZMIgvyUk) API framework for Python.\n",
    "\n",
    "> ##### A Background for non-Leaguers\n",
    "> ___\n",
    "> League of Legends is a Massively Online Battle Arena (MOBA) published by Riot Games. It is free-to-play on PC.\n",
    ">\n",
    "> The game's \"Champions\", currently numbering 140, are unique avatars that players (\"Summoners\") control in a match. Each has a unique skillset and special strengths—and weaknesses—and falls roughly within one of a few broad categories, like Damage, Tank, or Support.\n",
    ">\n",
    "> League's premier game mode, *Summoner's Rift*, pits two teams of five players against each other to capture objectives and destroy the enemy base. This mode is typically referred to simply as \"Normal\". A Ranked version also exists, which is the subject of officially-sponsored \"e-sports\" competitions, where professional teams from all over the world compete for cash prizes. \n",
    ">\n",
    "> ARAM (\"All Random All Mid\") is a more straightforward and dynamic variant of this game mode. \n",
    ">\n",
    "> Key distinctions include random assignment of Champions—*\"All Random\"* (in Normal matches, players can pick their favorite), and a single lane that forces more direct team battles—*\"All Mid\"* (the Normal map has three lanes, requiring teammates to strategize and communicate more effectively.)\n",
    "> ___\n",
    "> Understanding the \"business question\" is an essential part of data science. Look for ***\"League explained\"*** comments throughout the notebook for deeper insight as to how certain aspects of the data help to answer our question."
   ]
  },
  {
   "cell_type": "code",
   "execution_count": 7,
   "metadata": {},
   "outputs": [
    {
     "data": {
      "text/plain": [
       "(1100, 176)"
      ]
     },
     "execution_count": 7,
     "metadata": {},
     "output_type": "execute_result"
    }
   ],
   "source": [
    "# Read in the saved CSV file\n",
    "df = pd.read_csv('data/proxy_fox_aram_1100.csv')\n",
    "\n",
    "df.shape"
   ]
  },
  {
   "cell_type": "markdown",
   "metadata": {},
   "source": [
    "> The code in this notebook is designed to be standardized—easily copied and reused from one project to another. \n",
    ">\n",
    "> Thus, we use generic names (`df` for the dataframe, `target` for the variable we're trying to predict, etc.) whenever possible."
   ]
  },
  {
   "cell_type": "code",
   "execution_count": 8,
   "metadata": {},
   "outputs": [
    {
     "data": {
      "text/html": [
       "<div>\n",
       "<style scoped>\n",
       "    .dataframe tbody tr th:only-of-type {\n",
       "        vertical-align: middle;\n",
       "    }\n",
       "\n",
       "    .dataframe tbody tr th {\n",
       "        vertical-align: top;\n",
       "    }\n",
       "\n",
       "    .dataframe thead th {\n",
       "        text-align: right;\n",
       "    }\n",
       "</style>\n",
       "<table border=\"1\" class=\"dataframe\">\n",
       "  <thead>\n",
       "    <tr style=\"text-align: right;\">\n",
       "      <th></th>\n",
       "      <th>match_id</th>\n",
       "      <th>duration</th>\n",
       "      <th>side</th>\n",
       "      <th>win</th>\n",
       "      <th>team_first_blood</th>\n",
       "      <th>team_first_tower</th>\n",
       "      <th>champion</th>\n",
       "      <th>champion_type</th>\n",
       "      <th>mastery_level</th>\n",
       "      <th>level</th>\n",
       "      <th>...</th>\n",
       "      <th>tmate_Xerath</th>\n",
       "      <th>tmate_Xin_Zhao</th>\n",
       "      <th>tmate_Yasuo</th>\n",
       "      <th>tmate_Yorick</th>\n",
       "      <th>tmate_Zac</th>\n",
       "      <th>tmate_Zed</th>\n",
       "      <th>tmate_Ziggs</th>\n",
       "      <th>tmate_Zilean</th>\n",
       "      <th>tmate_Zoe</th>\n",
       "      <th>tmate_Zyra</th>\n",
       "    </tr>\n",
       "  </thead>\n",
       "  <tbody>\n",
       "    <tr>\n",
       "      <th>0</th>\n",
       "      <td>2775186012</td>\n",
       "      <td>0 days 00:18:12.000000000</td>\n",
       "      <td>blue</td>\n",
       "      <td>False</td>\n",
       "      <td>True</td>\n",
       "      <td>False</td>\n",
       "      <td>Xayah</td>\n",
       "      <td>Marksman</td>\n",
       "      <td>2</td>\n",
       "      <td>16</td>\n",
       "      <td>...</td>\n",
       "      <td>0</td>\n",
       "      <td>0</td>\n",
       "      <td>0</td>\n",
       "      <td>0</td>\n",
       "      <td>0</td>\n",
       "      <td>1</td>\n",
       "      <td>0</td>\n",
       "      <td>0</td>\n",
       "      <td>0</td>\n",
       "      <td>0</td>\n",
       "    </tr>\n",
       "    <tr>\n",
       "      <th>1</th>\n",
       "      <td>2775165096</td>\n",
       "      <td>0 days 00:18:38.000000000</td>\n",
       "      <td>red</td>\n",
       "      <td>True</td>\n",
       "      <td>True</td>\n",
       "      <td>True</td>\n",
       "      <td>Rakan</td>\n",
       "      <td>Support</td>\n",
       "      <td>4</td>\n",
       "      <td>17</td>\n",
       "      <td>...</td>\n",
       "      <td>0</td>\n",
       "      <td>0</td>\n",
       "      <td>0</td>\n",
       "      <td>0</td>\n",
       "      <td>0</td>\n",
       "      <td>0</td>\n",
       "      <td>0</td>\n",
       "      <td>0</td>\n",
       "      <td>0</td>\n",
       "      <td>0</td>\n",
       "    </tr>\n",
       "    <tr>\n",
       "      <th>2</th>\n",
       "      <td>2774959782</td>\n",
       "      <td>0 days 00:22:05.000000000</td>\n",
       "      <td>red</td>\n",
       "      <td>True</td>\n",
       "      <td>True</td>\n",
       "      <td>False</td>\n",
       "      <td>Zyra</td>\n",
       "      <td>Mage</td>\n",
       "      <td>2</td>\n",
       "      <td>18</td>\n",
       "      <td>...</td>\n",
       "      <td>0</td>\n",
       "      <td>0</td>\n",
       "      <td>0</td>\n",
       "      <td>0</td>\n",
       "      <td>0</td>\n",
       "      <td>0</td>\n",
       "      <td>0</td>\n",
       "      <td>0</td>\n",
       "      <td>0</td>\n",
       "      <td>0</td>\n",
       "    </tr>\n",
       "    <tr>\n",
       "      <th>3</th>\n",
       "      <td>2774936273</td>\n",
       "      <td>0 days 00:18:25.000000000</td>\n",
       "      <td>red</td>\n",
       "      <td>True</td>\n",
       "      <td>False</td>\n",
       "      <td>True</td>\n",
       "      <td>Maokai</td>\n",
       "      <td>Tank</td>\n",
       "      <td>3</td>\n",
       "      <td>17</td>\n",
       "      <td>...</td>\n",
       "      <td>0</td>\n",
       "      <td>0</td>\n",
       "      <td>0</td>\n",
       "      <td>0</td>\n",
       "      <td>0</td>\n",
       "      <td>0</td>\n",
       "      <td>0</td>\n",
       "      <td>0</td>\n",
       "      <td>0</td>\n",
       "      <td>0</td>\n",
       "    </tr>\n",
       "    <tr>\n",
       "      <th>4</th>\n",
       "      <td>2774941224</td>\n",
       "      <td>0 days 00:19:21.000000000</td>\n",
       "      <td>blue</td>\n",
       "      <td>False</td>\n",
       "      <td>False</td>\n",
       "      <td>False</td>\n",
       "      <td>Rakan</td>\n",
       "      <td>Support</td>\n",
       "      <td>4</td>\n",
       "      <td>16</td>\n",
       "      <td>...</td>\n",
       "      <td>0</td>\n",
       "      <td>0</td>\n",
       "      <td>0</td>\n",
       "      <td>0</td>\n",
       "      <td>0</td>\n",
       "      <td>0</td>\n",
       "      <td>0</td>\n",
       "      <td>0</td>\n",
       "      <td>0</td>\n",
       "      <td>0</td>\n",
       "    </tr>\n",
       "  </tbody>\n",
       "</table>\n",
       "<p>5 rows × 176 columns</p>\n",
       "</div>"
      ],
      "text/plain": [
       "     match_id                   duration  side    win  team_first_blood  \\\n",
       "0  2775186012  0 days 00:18:12.000000000  blue  False              True   \n",
       "1  2775165096  0 days 00:18:38.000000000   red   True              True   \n",
       "2  2774959782  0 days 00:22:05.000000000   red   True              True   \n",
       "3  2774936273  0 days 00:18:25.000000000   red   True             False   \n",
       "4  2774941224  0 days 00:19:21.000000000  blue  False             False   \n",
       "\n",
       "   team_first_tower champion champion_type  mastery_level  level     ...      \\\n",
       "0             False    Xayah      Marksman              2     16     ...       \n",
       "1              True    Rakan       Support              4     17     ...       \n",
       "2             False     Zyra          Mage              2     18     ...       \n",
       "3              True   Maokai          Tank              3     17     ...       \n",
       "4             False    Rakan       Support              4     16     ...       \n",
       "\n",
       "   tmate_Xerath  tmate_Xin_Zhao  tmate_Yasuo  tmate_Yorick  tmate_Zac  \\\n",
       "0             0               0            0             0          0   \n",
       "1             0               0            0             0          0   \n",
       "2             0               0            0             0          0   \n",
       "3             0               0            0             0          0   \n",
       "4             0               0            0             0          0   \n",
       "\n",
       "   tmate_Zed  tmate_Ziggs  tmate_Zilean  tmate_Zoe  tmate_Zyra  \n",
       "0          1            0             0          0           0  \n",
       "1          0            0             0          0           0  \n",
       "2          0            0             0          0           0  \n",
       "3          0            0             0          0           0  \n",
       "4          0            0             0          0           0  \n",
       "\n",
       "[5 rows x 176 columns]"
      ]
     },
     "execution_count": 8,
     "metadata": {},
     "output_type": "execute_result"
    }
   ],
   "source": [
    "# Preview\n",
    "df.head()"
   ]
  },
  {
   "cell_type": "markdown",
   "metadata": {},
   "source": [
    "> The format of `duration` is unsuitable for analysis. We'll need to convert it from a timecode into a pure numeric value (seconds)."
   ]
  },
  {
   "cell_type": "code",
   "execution_count": 9,
   "metadata": {},
   "outputs": [],
   "source": [
    "# Convert match durations to seconds\n",
    "from pytimeparse.timeparse import timeparse\n",
    "df['duration'] = df['duration'].apply(lambda t: timeparse(t))"
   ]
  },
  {
   "cell_type": "code",
   "execution_count": 10,
   "metadata": {},
   "outputs": [
    {
     "data": {
      "text/html": [
       "<div>\n",
       "<style scoped>\n",
       "    .dataframe tbody tr th:only-of-type {\n",
       "        vertical-align: middle;\n",
       "    }\n",
       "\n",
       "    .dataframe tbody tr th {\n",
       "        vertical-align: top;\n",
       "    }\n",
       "\n",
       "    .dataframe thead th {\n",
       "        text-align: right;\n",
       "    }\n",
       "</style>\n",
       "<table border=\"1\" class=\"dataframe\">\n",
       "  <thead>\n",
       "    <tr style=\"text-align: right;\">\n",
       "      <th></th>\n",
       "      <th>duration</th>\n",
       "    </tr>\n",
       "  </thead>\n",
       "  <tbody>\n",
       "    <tr>\n",
       "      <th>0</th>\n",
       "      <td>1092.0</td>\n",
       "    </tr>\n",
       "    <tr>\n",
       "      <th>1</th>\n",
       "      <td>1118.0</td>\n",
       "    </tr>\n",
       "    <tr>\n",
       "      <th>2</th>\n",
       "      <td>1325.0</td>\n",
       "    </tr>\n",
       "    <tr>\n",
       "      <th>3</th>\n",
       "      <td>1105.0</td>\n",
       "    </tr>\n",
       "    <tr>\n",
       "      <th>4</th>\n",
       "      <td>1161.0</td>\n",
       "    </tr>\n",
       "  </tbody>\n",
       "</table>\n",
       "</div>"
      ],
      "text/plain": [
       "   duration\n",
       "0    1092.0\n",
       "1    1118.0\n",
       "2    1325.0\n",
       "3    1105.0\n",
       "4    1161.0"
      ]
     },
     "execution_count": 10,
     "metadata": {},
     "output_type": "execute_result"
    }
   ],
   "source": [
    "df[['duration']].head()"
   ]
  },
  {
   "cell_type": "raw",
   "metadata": {},
   "source": [
    "<a id = 'preprocessing'></a>"
   ]
  },
  {
   "cell_type": "markdown",
   "metadata": {},
   "source": [
    "<br>"
   ]
  },
  {
   "cell_type": "markdown",
   "metadata": {},
   "source": [
    "##### Preprocessing\n",
    "\n",
    "A number of functions can be used to automatically transform our data for easy use with model-creating code later on, meaning that any changes to the underlying data can be accounted for without having to re-work every line of code."
   ]
  },
  {
   "cell_type": "markdown",
   "metadata": {},
   "source": [
    "We'll assign the target variable, `win`, a generic name—`targetName`—and move it to the first column (Column 0) in the dataframe."
   ]
  },
  {
   "cell_type": "code",
   "execution_count": 11,
   "metadata": {},
   "outputs": [],
   "source": [
    "# Move target variable to the front\n",
    "targetName = 'win'\n",
    "\n",
    "targetSeries = df[targetName]\n",
    "del df[targetName]\n",
    "df.insert(0, targetName, targetSeries)\n",
    "expected = targetName"
   ]
  },
  {
   "cell_type": "markdown",
   "metadata": {},
   "source": [
    "For the purpose of running models, we need to exclude any variables that are clearly not associated with prediction. \n",
    "\n",
    "Here, that is `match_id`."
   ]
  },
  {
   "cell_type": "code",
   "execution_count": 12,
   "metadata": {},
   "outputs": [],
   "source": [
    "# Drop non-predictive data\n",
    "df = df.drop(columns = ['match_id'])"
   ]
  },
  {
   "cell_type": "markdown",
   "metadata": {},
   "source": [
    "This \"prefab\" code can be applied to any data, as long as it uses the generic name `df`, and the target was processed as above. It will binarize (convert to binary) any object-type variables, creating a column for each unique value—so that `champion == 'Teemo'` would become `champion_Teemo == 1`."
   ]
  },
  {
   "cell_type": "code",
   "execution_count": 13,
   "metadata": {},
   "outputs": [],
   "source": [
    "# Create dummies of any categorical features\n",
    "for col in df.columns[1:]:\n",
    "\tattName = col\n",
    "\tdType = df[col].dtype\n",
    "\tmissing = pd.isnull(df[col]).any()\n",
    "\tuniqueCount = len(df[attName].value_counts(normalize = False))\n",
    "\t# Create dummies\n",
    "\tif dType == object:\n",
    "\t\tdf = pd.concat([df, pd.get_dummies(df[col], prefix = col)], axis = 1)\n",
    "\t\tdel df[attName]"
   ]
  },
  {
   "cell_type": "code",
   "execution_count": 14,
   "metadata": {},
   "outputs": [
    {
     "data": {
      "text/plain": [
       "(1100, 294)"
      ]
     },
     "execution_count": 14,
     "metadata": {},
     "output_type": "execute_result"
    }
   ],
   "source": [
    "# Get the updated shape\n",
    "df.shape"
   ]
  },
  {
   "cell_type": "markdown",
   "metadata": {},
   "source": [
    "> Binarizing string objects (like Champion name and Side) increased our feature (column) count from 176 to 294.\n",
    "> \n",
    "> We may want to try some feature selection methods later on, to reduce the number of variables going into the models. However, it isn't a critical concern as long as we have more observations (1100) than variables."
   ]
  },
  {
   "cell_type": "markdown",
   "metadata": {},
   "source": [
    " Next, most models prefer numbers over boolean values, so we use a simple label encoder to change any values of (True, False) to (1, 0)."
   ]
  },
  {
   "cell_type": "code",
   "execution_count": 15,
   "metadata": {},
   "outputs": [],
   "source": [
    "# Encode boolean values as binary\n",
    "le_dep = preprocessing.LabelEncoder()\n",
    "\n",
    "for col in df.columns[:]:\n",
    "    attName = col\n",
    "    dType = df[col].dtype\n",
    "    if dType == bool:\n",
    "        df[col] = le_dep.fit_transform(df[col])"
   ]
  },
  {
   "cell_type": "code",
   "execution_count": 16,
   "metadata": {},
   "outputs": [],
   "source": [
    "# Encoding labels manually\n",
    "#df[targetName] = le_dep.fit_transform(df[targetName])\n",
    "\n",
    "#df['team_first_blood'] = le_dep.fit_transform(df['team_first_blood'])\n",
    "#df['team_first_tower'] = le_dep.fit_transform(df['team_first_tower'])"
   ]
  },
  {
   "cell_type": "code",
   "execution_count": 17,
   "metadata": {},
   "outputs": [
    {
     "data": {
      "text/html": [
       "<div>\n",
       "<style scoped>\n",
       "    .dataframe tbody tr th:only-of-type {\n",
       "        vertical-align: middle;\n",
       "    }\n",
       "\n",
       "    .dataframe tbody tr th {\n",
       "        vertical-align: top;\n",
       "    }\n",
       "\n",
       "    .dataframe thead th {\n",
       "        text-align: right;\n",
       "    }\n",
       "</style>\n",
       "<table border=\"1\" class=\"dataframe\">\n",
       "  <thead>\n",
       "    <tr style=\"text-align: right;\">\n",
       "      <th></th>\n",
       "      <th>win</th>\n",
       "      <th>team_first_blood</th>\n",
       "      <th>team_first_tower</th>\n",
       "      <th>champion_type_Mage</th>\n",
       "      <th>champion_type_Marksman</th>\n",
       "      <th>champion_type_Support</th>\n",
       "      <th>champion_type_Tank</th>\n",
       "    </tr>\n",
       "  </thead>\n",
       "  <tbody>\n",
       "    <tr>\n",
       "      <th>0</th>\n",
       "      <td>0</td>\n",
       "      <td>1</td>\n",
       "      <td>0</td>\n",
       "      <td>0</td>\n",
       "      <td>1</td>\n",
       "      <td>0</td>\n",
       "      <td>0</td>\n",
       "    </tr>\n",
       "    <tr>\n",
       "      <th>1</th>\n",
       "      <td>1</td>\n",
       "      <td>1</td>\n",
       "      <td>1</td>\n",
       "      <td>0</td>\n",
       "      <td>0</td>\n",
       "      <td>1</td>\n",
       "      <td>0</td>\n",
       "    </tr>\n",
       "    <tr>\n",
       "      <th>2</th>\n",
       "      <td>1</td>\n",
       "      <td>1</td>\n",
       "      <td>0</td>\n",
       "      <td>1</td>\n",
       "      <td>0</td>\n",
       "      <td>0</td>\n",
       "      <td>0</td>\n",
       "    </tr>\n",
       "    <tr>\n",
       "      <th>3</th>\n",
       "      <td>1</td>\n",
       "      <td>0</td>\n",
       "      <td>1</td>\n",
       "      <td>0</td>\n",
       "      <td>0</td>\n",
       "      <td>0</td>\n",
       "      <td>1</td>\n",
       "    </tr>\n",
       "    <tr>\n",
       "      <th>4</th>\n",
       "      <td>0</td>\n",
       "      <td>0</td>\n",
       "      <td>0</td>\n",
       "      <td>0</td>\n",
       "      <td>0</td>\n",
       "      <td>1</td>\n",
       "      <td>0</td>\n",
       "    </tr>\n",
       "  </tbody>\n",
       "</table>\n",
       "</div>"
      ],
      "text/plain": [
       "   win  team_first_blood  team_first_tower  champion_type_Mage  \\\n",
       "0    0                 1                 0                   0   \n",
       "1    1                 1                 1                   0   \n",
       "2    1                 1                 0                   1   \n",
       "3    1                 0                 1                   0   \n",
       "4    0                 0                 0                   0   \n",
       "\n",
       "   champion_type_Marksman  champion_type_Support  champion_type_Tank  \n",
       "0                       1                      0                   0  \n",
       "1                       0                      1                   0  \n",
       "2                       0                      0                   0  \n",
       "3                       0                      0                   1  \n",
       "4                       0                      1                   0  "
      ]
     },
     "execution_count": 17,
     "metadata": {},
     "output_type": "execute_result"
    }
   ],
   "source": [
    "# Preview some of the binarized features\n",
    "df.iloc[0:5, [0, 2, 3, 290, 291, 292, 293]]"
   ]
  },
  {
   "cell_type": "markdown",
   "metadata": {},
   "source": [
    "Now we need to check for missing values. It's unlikely that we find any, because League collects its own data, but it's always good practice to run this check. Some models will even refuse to run if any values are missing."
   ]
  },
  {
   "cell_type": "code",
   "execution_count": 18,
   "metadata": {},
   "outputs": [
    {
     "data": {
      "text/plain": [
       "0"
      ]
     },
     "execution_count": 18,
     "metadata": {},
     "output_type": "execute_result"
    }
   ],
   "source": [
    "# Check for NAs\n",
    "df.isnull().sum().sum()\n",
    "\n",
    "# NAs by column\n",
    "#df.isnull().sum()"
   ]
  },
  {
   "cell_type": "markdown",
   "metadata": {},
   "source": [
    "> No missing values in the data!"
   ]
  },
  {
   "cell_type": "markdown",
   "metadata": {},
   "source": [
    "If any numeric features were missing data, the following code would fill the blanks with that column's median value."
   ]
  },
  {
   "cell_type": "code",
   "execution_count": 19,
   "metadata": {},
   "outputs": [],
   "source": [
    "# Impute null values with the column median\n",
    "#df = df.groupby(df.columns, axis = 1).transform(lambda x: x.fillna(x.median()))\n",
    "\n",
    "# Verify that 0 nulls remain\n",
    "#d2.isnull().sum().sum()"
   ]
  },
  {
   "cell_type": "markdown",
   "metadata": {},
   "source": [
    "> A more extreme method for handling large amounts of missing data would be to use the `dropna` command to drop entire rows and/or columns which contain any NA values."
   ]
  },
  {
   "cell_type": "raw",
   "metadata": {},
   "source": [
    "<a id = \"special-prep\"></a>"
   ]
  },
  {
   "cell_type": "markdown",
   "metadata": {},
   "source": [
    "<br>"
   ]
  },
  {
   "cell_type": "markdown",
   "metadata": {},
   "source": [
    "##### Specialized preprocessing\n",
    "\n",
    "Next, we can load the summary statistics file (created in Part I of this project) and manually check if any further processing is needed."
   ]
  },
  {
   "cell_type": "code",
   "execution_count": 20,
   "metadata": {},
   "outputs": [
    {
     "data": {
      "text/plain": [
       "(8, 29)"
      ]
     },
     "execution_count": 20,
     "metadata": {},
     "output_type": "execute_result"
    }
   ],
   "source": [
    "# Load the summary statistics file\n",
    "summary = pd.read_csv('data/proxy_fox_aram_1100_summary.csv', index_col = 0)\n",
    "\n",
    "# This is the code used to generate summary statistics from the ORIGINAL dataframe \n",
    "# (before any of the transformations in this notebook were made)\n",
    "#summary = df.iloc[:, 1:36].describe()\n",
    "\n",
    "summary.shape"
   ]
  },
  {
   "cell_type": "markdown",
   "metadata": {},
   "source": [
    "> The summary table contains 8 features (summary stats) of 29 observations (the continuous-numeric variables from the full dataset). Currently, this is laid out as 8 rows and 29 columns. We can `transpose` the table into \"long form\" to make reading more intuitive."
   ]
  },
  {
   "cell_type": "code",
   "execution_count": 21,
   "metadata": {},
   "outputs": [],
   "source": [
    "summary['duration'] = summary['duration'].str.replace('days', '')"
   ]
  },
  {
   "cell_type": "code",
   "execution_count": 22,
   "metadata": {},
   "outputs": [],
   "source": [
    "# Transpose rows and columns\n",
    "summary = summary.transpose()"
   ]
  },
  {
   "cell_type": "code",
   "execution_count": 23,
   "metadata": {},
   "outputs": [
    {
     "data": {
      "text/html": [
       "<div>\n",
       "<style scoped>\n",
       "    .dataframe tbody tr th:only-of-type {\n",
       "        vertical-align: middle;\n",
       "    }\n",
       "\n",
       "    .dataframe tbody tr th {\n",
       "        vertical-align: top;\n",
       "    }\n",
       "\n",
       "    .dataframe thead th {\n",
       "        text-align: right;\n",
       "    }\n",
       "</style>\n",
       "<table border=\"1\" class=\"dataframe\">\n",
       "  <thead>\n",
       "    <tr style=\"text-align: right;\">\n",
       "      <th></th>\n",
       "      <th>count</th>\n",
       "      <th>mean</th>\n",
       "      <th>std</th>\n",
       "      <th>min</th>\n",
       "      <th>25%</th>\n",
       "      <th>50%</th>\n",
       "      <th>75%</th>\n",
       "      <th>max</th>\n",
       "    </tr>\n",
       "  </thead>\n",
       "  <tbody>\n",
       "    <tr>\n",
       "      <th>duration</th>\n",
       "      <td>1100</td>\n",
       "      <td>0  00:20:28.785454</td>\n",
       "      <td>0  00:04:59.179149</td>\n",
       "      <td>0  00:09:38</td>\n",
       "      <td>0  00:16:42</td>\n",
       "      <td>0  00:19:48.500000</td>\n",
       "      <td>0  00:23:22</td>\n",
       "      <td>0  00:39:53</td>\n",
       "    </tr>\n",
       "    <tr>\n",
       "      <th>mastery_level</th>\n",
       "      <td>1100</td>\n",
       "      <td>3.37091</td>\n",
       "      <td>1.35865</td>\n",
       "      <td>1</td>\n",
       "      <td>2</td>\n",
       "      <td>4</td>\n",
       "      <td>5</td>\n",
       "      <td>5</td>\n",
       "    </tr>\n",
       "    <tr>\n",
       "      <th>level</th>\n",
       "      <td>1100</td>\n",
       "      <td>16.3182</td>\n",
       "      <td>1.92693</td>\n",
       "      <td>9</td>\n",
       "      <td>15</td>\n",
       "      <td>17</td>\n",
       "      <td>18</td>\n",
       "      <td>18</td>\n",
       "    </tr>\n",
       "    <tr>\n",
       "      <th>kills</th>\n",
       "      <td>1100</td>\n",
       "      <td>5.84364</td>\n",
       "      <td>4.66231</td>\n",
       "      <td>0</td>\n",
       "      <td>2</td>\n",
       "      <td>5</td>\n",
       "      <td>8</td>\n",
       "      <td>31</td>\n",
       "    </tr>\n",
       "    <tr>\n",
       "      <th>deaths</th>\n",
       "      <td>1100</td>\n",
       "      <td>7.71636</td>\n",
       "      <td>3.70494</td>\n",
       "      <td>0</td>\n",
       "      <td>5</td>\n",
       "      <td>8</td>\n",
       "      <td>10</td>\n",
       "      <td>22</td>\n",
       "    </tr>\n",
       "    <tr>\n",
       "      <th>assists</th>\n",
       "      <td>1100</td>\n",
       "      <td>23.5673</td>\n",
       "      <td>10.5727</td>\n",
       "      <td>2</td>\n",
       "      <td>16</td>\n",
       "      <td>23</td>\n",
       "      <td>30</td>\n",
       "      <td>77</td>\n",
       "    </tr>\n",
       "  </tbody>\n",
       "</table>\n",
       "</div>"
      ],
      "text/plain": [
       "              count                mean                 std          min  \\\n",
       "duration       1100  0  00:20:28.785454  0  00:04:59.179149  0  00:09:38   \n",
       "mastery_level  1100             3.37091             1.35865            1   \n",
       "level          1100             16.3182             1.92693            9   \n",
       "kills          1100             5.84364             4.66231            0   \n",
       "deaths         1100             7.71636             3.70494            0   \n",
       "assists        1100             23.5673             10.5727            2   \n",
       "\n",
       "                       25%                 50%          75%          max  \n",
       "duration       0  00:16:42  0  00:19:48.500000  0  00:23:22  0  00:39:53  \n",
       "mastery_level            2                   4            5            5  \n",
       "level                   15                  17           18           18  \n",
       "kills                    2                   5            8           31  \n",
       "deaths                   5                   8           10           22  \n",
       "assists                 16                  23           30           77  "
      ]
     },
     "execution_count": 23,
     "metadata": {},
     "output_type": "execute_result"
    }
   ],
   "source": [
    "# Preview the table\n",
    "summary.head(6)"
   ]
  },
  {
   "cell_type": "markdown",
   "metadata": {},
   "source": [
    "We can select a subset of the table to view, by specifying both the rows (stats) and columns (statistical measures).\n",
    "\n",
    "Below, we specify a range of stats in rows `6:29`, and select only the minimum, maximum, and average measurements—in columns `[3, 1, 7]` respectively."
   ]
  },
  {
   "cell_type": "code",
   "execution_count": 24,
   "metadata": {},
   "outputs": [
    {
     "data": {
      "text/html": [
       "<div>\n",
       "<style scoped>\n",
       "    .dataframe tbody tr th:only-of-type {\n",
       "        vertical-align: middle;\n",
       "    }\n",
       "\n",
       "    .dataframe tbody tr th {\n",
       "        vertical-align: top;\n",
       "    }\n",
       "\n",
       "    .dataframe thead th {\n",
       "        text-align: right;\n",
       "    }\n",
       "</style>\n",
       "<table border=\"1\" class=\"dataframe\">\n",
       "  <thead>\n",
       "    <tr style=\"text-align: right;\">\n",
       "      <th></th>\n",
       "      <th>min</th>\n",
       "      <th>mean</th>\n",
       "      <th>max</th>\n",
       "    </tr>\n",
       "  </thead>\n",
       "  <tbody>\n",
       "    <tr>\n",
       "      <th>total_damage_dealt_to_champions</th>\n",
       "      <td>1647</td>\n",
       "      <td>20210.8</td>\n",
       "      <td>115882</td>\n",
       "    </tr>\n",
       "    <tr>\n",
       "      <th>physical_damage_dealt_to_champions</th>\n",
       "      <td>0</td>\n",
       "      <td>5107.35</td>\n",
       "      <td>62848</td>\n",
       "    </tr>\n",
       "    <tr>\n",
       "      <th>magic_damage_dealt_to_champions</th>\n",
       "      <td>0</td>\n",
       "      <td>14248.8</td>\n",
       "      <td>112339</td>\n",
       "    </tr>\n",
       "    <tr>\n",
       "      <th>true_damage_dealt_to_champions</th>\n",
       "      <td>0</td>\n",
       "      <td>853.943</td>\n",
       "      <td>20183</td>\n",
       "    </tr>\n",
       "    <tr>\n",
       "      <th>total_damage_dealt</th>\n",
       "      <td>6625</td>\n",
       "      <td>61224.2</td>\n",
       "      <td>318407</td>\n",
       "    </tr>\n",
       "    <tr>\n",
       "      <th>physical_damage_dealt</th>\n",
       "      <td>282</td>\n",
       "      <td>18070</td>\n",
       "      <td>171517</td>\n",
       "    </tr>\n",
       "    <tr>\n",
       "      <th>magic_damage_dealt</th>\n",
       "      <td>0</td>\n",
       "      <td>40810.2</td>\n",
       "      <td>313161</td>\n",
       "    </tr>\n",
       "    <tr>\n",
       "      <th>true_damage_dealt</th>\n",
       "      <td>0</td>\n",
       "      <td>2343.39</td>\n",
       "      <td>54756</td>\n",
       "    </tr>\n",
       "    <tr>\n",
       "      <th>largest_critical_strike</th>\n",
       "      <td>0</td>\n",
       "      <td>142.928</td>\n",
       "      <td>1554</td>\n",
       "    </tr>\n",
       "    <tr>\n",
       "      <th>largest_killing_spree</th>\n",
       "      <td>0</td>\n",
       "      <td>1.98818</td>\n",
       "      <td>11</td>\n",
       "    </tr>\n",
       "    <tr>\n",
       "      <th>largest_multi_kill</th>\n",
       "      <td>0</td>\n",
       "      <td>1.41091</td>\n",
       "      <td>5</td>\n",
       "    </tr>\n",
       "    <tr>\n",
       "      <th>killing_sprees</th>\n",
       "      <td>0</td>\n",
       "      <td>1.41636</td>\n",
       "      <td>10</td>\n",
       "    </tr>\n",
       "    <tr>\n",
       "      <th>damage_dealt_to_objectives</th>\n",
       "      <td>0</td>\n",
       "      <td>801.985</td>\n",
       "      <td>16735</td>\n",
       "    </tr>\n",
       "    <tr>\n",
       "      <th>total_heal</th>\n",
       "      <td>0</td>\n",
       "      <td>7042.92</td>\n",
       "      <td>70182</td>\n",
       "    </tr>\n",
       "    <tr>\n",
       "      <th>damage_self_mitigated</th>\n",
       "      <td>0</td>\n",
       "      <td>12913.8</td>\n",
       "      <td>130067</td>\n",
       "    </tr>\n",
       "    <tr>\n",
       "      <th>total_damage_taken</th>\n",
       "      <td>1914</td>\n",
       "      <td>20273.9</td>\n",
       "      <td>100090</td>\n",
       "    </tr>\n",
       "    <tr>\n",
       "      <th>physical_damage_taken</th>\n",
       "      <td>371</td>\n",
       "      <td>9425.41</td>\n",
       "      <td>58017</td>\n",
       "    </tr>\n",
       "    <tr>\n",
       "      <th>magical_damage_taken</th>\n",
       "      <td>78</td>\n",
       "      <td>10173.4</td>\n",
       "      <td>55667</td>\n",
       "    </tr>\n",
       "    <tr>\n",
       "      <th>true_damage_taken</th>\n",
       "      <td>0</td>\n",
       "      <td>674.295</td>\n",
       "      <td>9518</td>\n",
       "    </tr>\n",
       "    <tr>\n",
       "      <th>total_minions_killed</th>\n",
       "      <td>3</td>\n",
       "      <td>43.3155</td>\n",
       "      <td>180</td>\n",
       "    </tr>\n",
       "    <tr>\n",
       "      <th>gold_earned</th>\n",
       "      <td>5805</td>\n",
       "      <td>12004.3</td>\n",
       "      <td>25517</td>\n",
       "    </tr>\n",
       "    <tr>\n",
       "      <th>total_time_crowd_control_dealt</th>\n",
       "      <td>0</td>\n",
       "      <td>373.695</td>\n",
       "      <td>8738</td>\n",
       "    </tr>\n",
       "    <tr>\n",
       "      <th>longest_time_spent_living</th>\n",
       "      <td>0</td>\n",
       "      <td>298.556</td>\n",
       "      <td>1202</td>\n",
       "    </tr>\n",
       "  </tbody>\n",
       "</table>\n",
       "</div>"
      ],
      "text/plain": [
       "                                     min     mean     max\n",
       "total_damage_dealt_to_champions     1647  20210.8  115882\n",
       "physical_damage_dealt_to_champions     0  5107.35   62848\n",
       "magic_damage_dealt_to_champions        0  14248.8  112339\n",
       "true_damage_dealt_to_champions         0  853.943   20183\n",
       "total_damage_dealt                  6625  61224.2  318407\n",
       "physical_damage_dealt                282    18070  171517\n",
       "magic_damage_dealt                     0  40810.2  313161\n",
       "true_damage_dealt                      0  2343.39   54756\n",
       "largest_critical_strike                0  142.928    1554\n",
       "largest_killing_spree                  0  1.98818      11\n",
       "largest_multi_kill                     0  1.41091       5\n",
       "killing_sprees                         0  1.41636      10\n",
       "damage_dealt_to_objectives             0  801.985   16735\n",
       "total_heal                             0  7042.92   70182\n",
       "damage_self_mitigated                  0  12913.8  130067\n",
       "total_damage_taken                  1914  20273.9  100090\n",
       "physical_damage_taken                371  9425.41   58017\n",
       "magical_damage_taken                  78  10173.4   55667\n",
       "true_damage_taken                      0  674.295    9518\n",
       "total_minions_killed                   3  43.3155     180\n",
       "gold_earned                         5805  12004.3   25517\n",
       "total_time_crowd_control_dealt         0  373.695    8738\n",
       "longest_time_spent_living              0  298.556    1202"
      ]
     },
     "execution_count": 24,
     "metadata": {},
     "output_type": "execute_result"
    }
   ],
   "source": [
    "summary.iloc[6:29, [3, 1, 7]]"
   ]
  },
  {
   "cell_type": "markdown",
   "metadata": {},
   "source": [
    "> There's one little quirk in these stats. Can you spot it?"
   ]
  },
  {
   "cell_type": "code",
   "execution_count": 25,
   "metadata": {},
   "outputs": [
    {
     "data": {
      "text/html": [
       "<div>\n",
       "<style scoped>\n",
       "    .dataframe tbody tr th:only-of-type {\n",
       "        vertical-align: middle;\n",
       "    }\n",
       "\n",
       "    .dataframe tbody tr th {\n",
       "        vertical-align: top;\n",
       "    }\n",
       "\n",
       "    .dataframe thead th {\n",
       "        text-align: right;\n",
       "    }\n",
       "</style>\n",
       "<table border=\"1\" class=\"dataframe\">\n",
       "  <thead>\n",
       "    <tr style=\"text-align: right;\">\n",
       "      <th></th>\n",
       "      <th>min</th>\n",
       "      <th>mean</th>\n",
       "      <th>max</th>\n",
       "      <th>std</th>\n",
       "    </tr>\n",
       "  </thead>\n",
       "  <tbody>\n",
       "    <tr>\n",
       "      <th>total_minions_killed</th>\n",
       "      <td>3</td>\n",
       "      <td>43.3155</td>\n",
       "      <td>180</td>\n",
       "      <td>27.2944</td>\n",
       "    </tr>\n",
       "    <tr>\n",
       "      <th>gold_earned</th>\n",
       "      <td>5805</td>\n",
       "      <td>12004.3</td>\n",
       "      <td>25517</td>\n",
       "      <td>2975.06</td>\n",
       "    </tr>\n",
       "    <tr>\n",
       "      <th>total_time_crowd_control_dealt</th>\n",
       "      <td>0</td>\n",
       "      <td>373.695</td>\n",
       "      <td>8738</td>\n",
       "      <td>772.592</td>\n",
       "    </tr>\n",
       "    <tr>\n",
       "      <th>longest_time_spent_living</th>\n",
       "      <td>0</td>\n",
       "      <td>298.556</td>\n",
       "      <td>1202</td>\n",
       "      <td>142.568</td>\n",
       "    </tr>\n",
       "  </tbody>\n",
       "</table>\n",
       "</div>"
      ],
      "text/plain": [
       "                                 min     mean    max      std\n",
       "total_minions_killed               3  43.3155    180  27.2944\n",
       "gold_earned                     5805  12004.3  25517  2975.06\n",
       "total_time_crowd_control_dealt     0  373.695   8738  772.592\n",
       "longest_time_spent_living          0  298.556   1202  142.568"
      ]
     },
     "execution_count": 25,
     "metadata": {},
     "output_type": "execute_result"
    }
   ],
   "source": [
    "summary.iloc[25:29, [3, 1, 7, 2]]"
   ]
  },
  {
   "cell_type": "markdown",
   "metadata": {},
   "source": [
    "> `longest_time_spent_living` has a minimum value of 0. <br>\n",
    "> Since it's impossible to spend an entire match dead, something else must be going on.\n",
    ">\n",
    "> I recently played a match as Vel'Koz where I never died *(humble brag)*, so I'm curious to see how that's recorded by `longest_time_spent_living`."
   ]
  },
  {
   "cell_type": "code",
   "execution_count": 26,
   "metadata": {},
   "outputs": [
    {
     "data": {
      "text/html": [
       "<div>\n",
       "<style scoped>\n",
       "    .dataframe tbody tr th:only-of-type {\n",
       "        vertical-align: middle;\n",
       "    }\n",
       "\n",
       "    .dataframe tbody tr th {\n",
       "        vertical-align: top;\n",
       "    }\n",
       "\n",
       "    .dataframe thead th {\n",
       "        text-align: right;\n",
       "    }\n",
       "</style>\n",
       "<table border=\"1\" class=\"dataframe\">\n",
       "  <thead>\n",
       "    <tr style=\"text-align: right;\">\n",
       "      <th></th>\n",
       "      <th>duration</th>\n",
       "      <th>longest_time_spent_living</th>\n",
       "    </tr>\n",
       "  </thead>\n",
       "  <tbody>\n",
       "    <tr>\n",
       "      <th>21</th>\n",
       "      <td>865.0</td>\n",
       "      <td>0</td>\n",
       "    </tr>\n",
       "    <tr>\n",
       "      <th>86</th>\n",
       "      <td>2172.0</td>\n",
       "      <td>300</td>\n",
       "    </tr>\n",
       "    <tr>\n",
       "      <th>164</th>\n",
       "      <td>1096.0</td>\n",
       "      <td>185</td>\n",
       "    </tr>\n",
       "    <tr>\n",
       "      <th>226</th>\n",
       "      <td>1131.0</td>\n",
       "      <td>379</td>\n",
       "    </tr>\n",
       "    <tr>\n",
       "      <th>229</th>\n",
       "      <td>772.0</td>\n",
       "      <td>707</td>\n",
       "    </tr>\n",
       "    <tr>\n",
       "      <th>1051</th>\n",
       "      <td>1291.0</td>\n",
       "      <td>206</td>\n",
       "    </tr>\n",
       "  </tbody>\n",
       "</table>\n",
       "</div>"
      ],
      "text/plain": [
       "      duration  longest_time_spent_living\n",
       "21       865.0                          0\n",
       "86      2172.0                        300\n",
       "164     1096.0                        185\n",
       "226     1131.0                        379\n",
       "229      772.0                        707\n",
       "1051    1291.0                        206"
      ]
     },
     "execution_count": 26,
     "metadata": {},
     "output_type": "execute_result"
    }
   ],
   "source": [
    "# Display select data for all Vel'Koz games\n",
    "df[df[\"champion_Vel\\'Koz\"] == 1].iloc[:, [1, 31]]"
   ]
  },
  {
   "cell_type": "markdown",
   "metadata": {},
   "source": [
    "> There it is, right at the top.\n",
    ">\n",
    "> We can fix this by setting `longest_time_spent_living` equal to `duration` when the former is zero."
   ]
  },
  {
   "cell_type": "code",
   "execution_count": 27,
   "metadata": {},
   "outputs": [],
   "source": [
    "zeroes = df['longest_time_spent_living'] == 0\n",
    "df.loc[zeroes, 'longest_time_spent_living'] = df['duration']"
   ]
  },
  {
   "cell_type": "code",
   "execution_count": 28,
   "metadata": {},
   "outputs": [
    {
     "data": {
      "text/html": [
       "<div>\n",
       "<style scoped>\n",
       "    .dataframe tbody tr th:only-of-type {\n",
       "        vertical-align: middle;\n",
       "    }\n",
       "\n",
       "    .dataframe tbody tr th {\n",
       "        vertical-align: top;\n",
       "    }\n",
       "\n",
       "    .dataframe thead th {\n",
       "        text-align: right;\n",
       "    }\n",
       "</style>\n",
       "<table border=\"1\" class=\"dataframe\">\n",
       "  <thead>\n",
       "    <tr style=\"text-align: right;\">\n",
       "      <th></th>\n",
       "      <th>duration</th>\n",
       "      <th>longest_time_spent_living</th>\n",
       "    </tr>\n",
       "  </thead>\n",
       "  <tbody>\n",
       "    <tr>\n",
       "      <th>21</th>\n",
       "      <td>865.0</td>\n",
       "      <td>865.0</td>\n",
       "    </tr>\n",
       "    <tr>\n",
       "      <th>86</th>\n",
       "      <td>2172.0</td>\n",
       "      <td>300.0</td>\n",
       "    </tr>\n",
       "    <tr>\n",
       "      <th>164</th>\n",
       "      <td>1096.0</td>\n",
       "      <td>185.0</td>\n",
       "    </tr>\n",
       "    <tr>\n",
       "      <th>226</th>\n",
       "      <td>1131.0</td>\n",
       "      <td>379.0</td>\n",
       "    </tr>\n",
       "    <tr>\n",
       "      <th>229</th>\n",
       "      <td>772.0</td>\n",
       "      <td>707.0</td>\n",
       "    </tr>\n",
       "    <tr>\n",
       "      <th>1051</th>\n",
       "      <td>1291.0</td>\n",
       "      <td>206.0</td>\n",
       "    </tr>\n",
       "  </tbody>\n",
       "</table>\n",
       "</div>"
      ],
      "text/plain": [
       "      duration  longest_time_spent_living\n",
       "21       865.0                      865.0\n",
       "86      2172.0                      300.0\n",
       "164     1096.0                      185.0\n",
       "226     1131.0                      379.0\n",
       "229      772.0                      707.0\n",
       "1051    1291.0                      206.0"
      ]
     },
     "execution_count": 28,
     "metadata": {},
     "output_type": "execute_result"
    }
   ],
   "source": [
    "# Verify the fix\n",
    "df[df[\"champion_Vel\\'Koz\"] == 1].iloc[:, [1, 31]]"
   ]
  },
  {
   "cell_type": "raw",
   "metadata": {},
   "source": [
    "<a id = \"prep\"></a>"
   ]
  },
  {
   "cell_type": "markdown",
   "metadata": {},
   "source": [
    "<br>"
   ]
  },
  {
   "cell_type": "markdown",
   "metadata": {},
   "source": [
    "##### Preparing for analysis\n",
    "\n",
    "Now that the data has been thoroughly preprocessed, there are a few final steps to take in formatting the data for use with predictive models.\n",
    "* Split the dataframe 70/30 into Training and Test sets.\n",
    "* Perform separate scaling (0-1) and standardization (z-score) functions on the data."
   ]
  },
  {
   "cell_type": "code",
   "execution_count": 29,
   "metadata": {},
   "outputs": [],
   "source": [
    "# Split dataset into Training and Test sets\n",
    "features_train, features_test, target_train, target_test = train_test_split(\n",
    "    df.iloc[:,1:].values, df.iloc[:,0].values,\n",
    "    test_size = 0.30,\n",
    "    random_state = 7)"
   ]
  },
  {
   "cell_type": "code",
   "execution_count": 30,
   "metadata": {},
   "outputs": [
    {
     "name": "stdout",
     "output_type": "stream",
     "text": [
      "Train data: (770, 293)\n",
      "Test data: (330, 293)\n",
      "Train target: (770,)\n",
      "Test target: (330,)\n",
      "\n",
      "Percent of Wins in Test Data: 49.394%\n",
      "Base Accuracy Rate: 50.606%\n"
     ]
    }
   ],
   "source": [
    "# Confirm sizes of Train and Test sets\n",
    "print(\"Train data:\", features_train.shape)\n",
    "print(\"Test data:\", features_test.shape)\n",
    "print(\"Train target:\", target_train.shape)\n",
    "print(\"Test target:\", target_test.shape)\n",
    "print(\"\")\n",
    "print(\"Percent of Wins in Test Data:\", \"{0:.3f}%\".format(target_test.mean()*100))\n",
    "print(\"Base Accuracy Rate:\", \"{0:.3f}%\".format((1-target_test.mean())*100))\n",
    "\n",
    "# Set the base accuracy rate, used to evaluate model performance\n",
    "base = 1-target_test.mean()"
   ]
  },
  {
   "cell_type": "markdown",
   "metadata": {},
   "source": [
    "> The **Base Accuracy Rate** (BAR) is important in properly evaluating models. When the target distribution is unequal (e.g. more 0s than 1s), the BAR is the proportion of *random, uninformed guesses* that should be correct. Thus, models are evaluated based upon their additional accuracy above the BAR."
   ]
  },
  {
   "cell_type": "code",
   "execution_count": 31,
   "metadata": {},
   "outputs": [],
   "source": [
    "# Scale data between 0 and 1\n",
    "from sklearn.preprocessing import MinMaxScaler\n",
    "\n",
    "scaler = MinMaxScaler()\n",
    "\n",
    "# Don't cheat - fit only on training data\n",
    "scaler.fit(features_train)\n",
    "\n",
    "features_train_scaled = scaler.transform(features_train)\n",
    "features_test_scaled = scaler.transform(features_test)  "
   ]
  },
  {
   "cell_type": "code",
   "execution_count": 32,
   "metadata": {},
   "outputs": [],
   "source": [
    "# Standardize data by z-score\n",
    "from sklearn.preprocessing import StandardScaler\n",
    "\n",
    "z_scale = StandardScaler()\n",
    "\n",
    "# Normalize ONLY the columns that have continuous values. Ignore binary variables.\n",
    "# The columns we want are [0] and [3:31]\n",
    "\n",
    "# Excuse the ugly code, it was the only way I could find that worked\n",
    "# Basically, split the features into subsets (the ones you want to normalize) and binaries (the ones you don't)\n",
    "# Then mash them all back together into a single Frankenstein of an array\n",
    "features_train_z_subset1 = z_scale.fit_transform(features_train[:, 0:1])\n",
    "features_train_z_binaries1 = features_train[:, 1:3]\n",
    "features_train_z_subset2 = z_scale.fit_transform(features_train[:, 3:31])\n",
    "features_train_z_binaries2 = features_train[:, 31: ]\n",
    "\n",
    "features_train_z = np.concatenate((features_train_z_subset1, \n",
    "                                   features_train_z_binaries1, \n",
    "                                   features_train_z_subset2, \n",
    "                                   features_train_z_binaries2),\n",
    "                                  axis = 1)"
   ]
  },
  {
   "cell_type": "code",
   "execution_count": 33,
   "metadata": {},
   "outputs": [
    {
     "data": {
      "text/plain": [
       "(770, 293)"
      ]
     },
     "execution_count": 33,
     "metadata": {},
     "output_type": "execute_result"
    }
   ],
   "source": [
    "# Make sure it matches the original features_train.shape\n",
    "features_train_z.shape"
   ]
  },
  {
   "cell_type": "code",
   "execution_count": 34,
   "metadata": {},
   "outputs": [],
   "source": [
    "# Frankencode for the Test set\n",
    "\n",
    "features_test_z_subset1 = z_scale.fit_transform(features_test[:, 0:1])\n",
    "features_test_z_binaries1 = features_test[:, 1:3]\n",
    "features_test_z_subset2 = z_scale.transform(features_test[:, 3:31])\n",
    "features_test_z_binaries2 = features_test[:, 31: ]\n",
    "\n",
    "features_test_z = np.concatenate((features_test_z_subset1, \n",
    "                                  features_test_z_binaries1, \n",
    "                                  features_test_z_subset2, \n",
    "                                  features_test_z_binaries2),\n",
    "                                 axis = 1)"
   ]
  },
  {
   "cell_type": "code",
   "execution_count": 35,
   "metadata": {},
   "outputs": [
    {
     "data": {
      "text/plain": [
       "(330, 293)"
      ]
     },
     "execution_count": 35,
     "metadata": {},
     "output_type": "execute_result"
    }
   ],
   "source": [
    "# Make sure it matches the original features_test.shape\n",
    "features_test_z.shape"
   ]
  },
  {
   "cell_type": "markdown",
   "metadata": {},
   "source": [
    "> ##### Scaling vs. Standardizing\n",
    "> ___\n",
    "> When building models, we now have access to three varieties of the data:\n",
    "> * **Min-max Scaled**—all values are fit into the range of (0, 1).\n",
    "> * **z Standardized**—numeric values are expressed in z-scores, or standard deviations from a mean of zero.\n",
    "> * **Unprocessed**—values are left as-is.\n",
    ">\n",
    "> Each has its advantages, namely in specific models or situations. **Standardization** improves performance on distance-based models, like Logistic Regression with L2 or L1 normalization. However, it assumes that the values of a feature are normally distributed. We will need to verify that in EDA to determine if this is a good choice. <br>\n",
    "**Min-max Scaling** is better suited for data that isn't normally distributed, and is useful in machine learning applications like SVM and Neural Networks. It is also useful to retain the **unprocessed** data. Decision tree-based classifiers tend not to be affected by a lack of normalization—and it can be useful to display true values if you plan to actually visualize a Decision Tree.\n",
    "> ___\n",
    "> [Source](https://machinelearningmastery.com/prepare-data-machine-learning-python-scikit-learn/)"
   ]
  },
  {
   "cell_type": "raw",
   "metadata": {},
   "source": [
    "<a id = 'eda'></a>"
   ]
  },
  {
   "cell_type": "markdown",
   "metadata": {},
   "source": [
    "<br>"
   ]
  },
  {
   "cell_type": "markdown",
   "metadata": {},
   "source": [
    "### Exploratory Data Analysis\n",
    "___\n",
    "In this section, we will focus on the distributions and relationships in our dataset. <br>\n",
    "Visualization will be the primary medium for exploring and understanding the data."
   ]
  },
  {
   "cell_type": "markdown",
   "metadata": {},
   "source": [
    "##### Target variable distribution\n",
    "\n",
    "Target distribution is one of the most important aspects of a dataset to understand before running models. Unbalanced target values (for example, a dataset with 10% Positive and 90% Negative values) can massively affect how we run and evaluate models.\n",
    "\n",
    "A simple countplot can show the balance of Wins and Losses (the target levels)."
   ]
  },
  {
   "cell_type": "code",
   "execution_count": 36,
   "metadata": {},
   "outputs": [
    {
     "data": {
      "image/png": "[encoded data removed]",
      "text/plain": [
       "<matplotlib.figure.Figure at 0x281daa628d0>"
      ]
     },
     "metadata": {},
     "output_type": "display_data"
    },
    {
     "data": {
      "text/plain": [
       "win\n",
       "0    551\n",
       "1    549\n",
       "dtype: int64"
      ]
     },
     "execution_count": 36,
     "metadata": {},
     "output_type": "execute_result"
    }
   ],
   "source": [
    "# Plot the target variable distribution\n",
    "sns.set_style(\"whitegrid\")\n",
    "cols = sns.palettes.cubehelix_palette(2, dark = 0.55, start = 0.5, rot = -0.75)\n",
    "\n",
    "sns.countplot(x = df[targetName], data = df, palette = cols)\n",
    "plt.title('Wins vs. Losses', fontproperties = main, fontsize = 16)\n",
    "plt.ylabel('Matches', fontproperties = body, fontsize = 15)\n",
    "plt.xlabel('Outcome', fontproperties = body, fontsize = 15)\n",
    "plt.xticks([0, 1], ['Loss', 'Win'], fontproperties = body, fontsize = 13)\n",
    "plt.ylim(0, 1000)\n",
    "plt.show()\n",
    "\n",
    "# Display counts of target\n",
    "targetdist = df.groupby(targetName).size()\n",
    "\n",
    "targetdist"
   ]
  },
  {
   "cell_type": "markdown",
   "metadata": {},
   "source": [
    "> The results?\n",
    ">\n",
    "> I am a *remarkably* adequate ARAM player. The target distribution is an almost perfect 50/50 split between Wins and Losses."
   ]
  },
  {
   "cell_type": "markdown",
   "metadata": {},
   "source": [
    "##### Distributions of continuous values\n",
    "\n",
    "Next, we can plot histograms of several variables to verify that their values are approximately normally distributed (bell-curve-shaped)."
   ]
  },
  {
   "cell_type": "code",
   "execution_count": 37,
   "metadata": {},
   "outputs": [
    {
     "data": {
      "image/png": "[encoded data removed]",
      "text/plain": [
       "<matplotlib.figure.Figure at 0x281de254e10>"
      ]
     },
     "metadata": {},
     "output_type": "display_data"
    }
   ],
   "source": [
    "# Plot match duration\n",
    "sns.set_style(\"darkgrid\")\n",
    "sns.distplot(df['duration'], kde = True, rug = False)\n",
    "plt.title('Histogram of Match Duration', fontproperties = main, fontsize = 16)\n",
    "plt.xlabel('Duration (seconds)', fontproperties = body, fontsize = 15)\n",
    "plt.show()"
   ]
  },
  {
   "cell_type": "code",
   "execution_count": 38,
   "metadata": {},
   "outputs": [
    {
     "data": {
      "image/png": "[encoded data removed]",
      "text/plain": [
       "<matplotlib.figure.Figure at 0x281de254b38>"
      ]
     },
     "metadata": {},
     "output_type": "display_data"
    }
   ],
   "source": [
    "# Plot longest time alive\n",
    "sns.distplot(df['longest_time_spent_living'], kde = True, rug = False)\n",
    "plt.title('Histogram of Longest Time Alive', fontproperties = main, fontsize = 16)\n",
    "plt.xlabel('Duration (seconds)', fontproperties = body, fontsize = 15)\n",
    "plt.show()"
   ]
  },
  {
   "cell_type": "code",
   "execution_count": 39,
   "metadata": {},
   "outputs": [
    {
     "data": {
      "image/png": "[encoded data removed]",
      "text/plain": [
       "<matplotlib.figure.Figure at 0x281de7e1b00>"
      ]
     },
     "metadata": {},
     "output_type": "display_data"
    }
   ],
   "source": [
    "# Plot minion kills\n",
    "sns.distplot(df['total_minions_killed'], kde = True, rug = False)\n",
    "plt.title('Histogram of Minion Kills', fontproperties = main, fontsize = 16)\n",
    "plt.xlabel('Minions Killed', fontproperties = body, fontsize = 15)\n",
    "plt.show()"
   ]
  },
  {
   "cell_type": "markdown",
   "metadata": {},
   "source": [
    "> Most of the features appear to be negatively skewed (left-leaning) to some degree. This could negatively impact the results of using the z-Standardized data we created above, but should not have other significant effects."
   ]
  },
  {
   "cell_type": "markdown",
   "metadata": {},
   "source": [
    "##### Autocorrelation (two-variable interactions)\n",
    "\n",
    "Next, we can examine some interactions between variables. <br>\n",
    "Two variables are said to be *autocorrelated* when they change predictably in relation to one another. <br>\n",
    "(e.g. if `magic_damage_dealt` increases, it is also highly likely that `total_damage_dealt` will increase by a similar proportion.)"
   ]
  },
  {
   "cell_type": "code",
   "execution_count": 40,
   "metadata": {},
   "outputs": [
    {
     "data": {
      "image/png": "[encoded data removed]",
      "text/plain": [
       "<matplotlib.figure.Figure at 0x281de7c3b38>"
      ]
     },
     "metadata": {},
     "output_type": "display_data"
    }
   ],
   "source": [
    "# Plot minion kills vs. gold earned\n",
    "cmap = sns.cubehelix_palette(light = 1, start = 0.5, rot = -0.75, as_cmap = True)\n",
    "\n",
    "with sns.axes_style(\"white\"):\n",
    "    p = sns.jointplot(x = df['total_minions_killed'], \n",
    "                      y = df['gold_earned'], \n",
    "                      kind = 'hex', \n",
    "                      cmap = cmap);\n",
    "\n",
    "p.fig.suptitle('Minion Kills vs. Gold Earned', fontproperties = main, fontsize = 16)\n",
    "plt.show()"
   ]
  },
  {
   "cell_type": "markdown",
   "metadata": {},
   "source": [
    "> The correlation coefficient is 0.71. That is, `total_minions_killed` explains 71% of the variance in `gold_earned`."
   ]
  },
  {
   "cell_type": "markdown",
   "metadata": {},
   "source": [
    "> ***League explained:*** *Minions and Gold*\n",
    "> ___\n",
    "> *Minions* are computer-controlled allies and enemies which spawn in regular waves throughout the match to aid their respective team. <br> Defeating enemy minions is the primary activity for earning *Gold*, which players can use to purchase stat-enhancing items during that match. <br> \n",
    "> Other sources of Gold include defeating enemy Champions, completing team objectives, and passive earning throughout the duration of the match."
   ]
  },
  {
   "cell_type": "code",
   "execution_count": 41,
   "metadata": {},
   "outputs": [
    {
     "data": {
      "image/png": "[encoded data removed]",
      "text/plain": [
       "<matplotlib.figure.Figure at 0x281de855048>"
      ]
     },
     "metadata": {},
     "output_type": "display_data"
    }
   ],
   "source": [
    "# Damage to champions vs. total damage\n",
    "cmap = sns.cubehelix_palette(light = 1, start = 0.5, rot = -0.75, as_cmap = True)\n",
    "\n",
    "with sns.axes_style(\"white\"):\n",
    "    p = sns.jointplot(x = df['total_damage_dealt_to_champions'], \n",
    "                      y = df['total_damage_dealt'], \n",
    "                      kind = 'hex', \n",
    "                      cmap = cmap);\n",
    "\n",
    "p.fig.suptitle('Damage to Champions vs. Total Damage Dealt', fontproperties = main, fontsize = 16)\n",
    "plt.show()"
   ]
  },
  {
   "cell_type": "markdown",
   "metadata": {},
   "source": [
    "> Some of the variables in the data are very strongly (but not perfectly) correlated with one another. `total_damage_dealt_to_champions` is 90% correlated to `total_damage_dealt` (which is the sum of `total_damage_dealt_to_champions`, `damage_dealt_to_objectives`, and damage to Minions)."
   ]
  },
  {
   "cell_type": "markdown",
   "metadata": {},
   "source": [
    "More on the \"just for fun\" or \"satisfying curiosity\" side, let's pull up the original data again so we can visualize some of the categorical variables—like Champion Type and Side."
   ]
  },
  {
   "cell_type": "code",
   "execution_count": 42,
   "metadata": {},
   "outputs": [],
   "source": [
    "df_orig = pd.read_csv('data/proxy_fox_aram_1100.csv')"
   ]
  },
  {
   "cell_type": "code",
   "execution_count": 43,
   "metadata": {},
   "outputs": [
    {
     "data": {
      "image/png": "[encoded data removed]",
      "text/plain": [
       "<matplotlib.figure.Figure at 0x281def31940>"
      ]
     },
     "metadata": {},
     "output_type": "display_data"
    }
   ],
   "source": [
    "# Plot counts of champions by type\n",
    "sns.set_style(\"darkgrid\")\n",
    "sns.countplot(x = df_orig['champion_type'], data = df, palette = 'hls')\n",
    "plt.title('Champions Played, by Type', fontproperties = main, fontsize = 16)\n",
    "plt.ylabel('Count', fontproperties = body, fontsize = 15)\n",
    "plt.xlabel('Champion Type', fontproperties = body, fontsize = 15)\n",
    "plt.show()"
   ]
  },
  {
   "cell_type": "code",
   "execution_count": 44,
   "metadata": {},
   "outputs": [
    {
     "data": {
      "image/png": "[encoded data removed]",
      "text/plain": [
       "<matplotlib.figure.Figure at 0x281def56208>"
      ]
     },
     "metadata": {},
     "output_type": "display_data"
    }
   ],
   "source": [
    "# Plot red side vs. blue side\n",
    "rb = [sns.xkcd_rgb[\"denim blue\"], sns.xkcd_rgb[\"pale red\"]]\n",
    "sns.countplot(x = df_orig['side'], data = df, palette = rb)\n",
    "plt.title('Starting Side', fontproperties = main, fontsize = 16)\n",
    "plt.ylabel('Matches', fontproperties = body, fontsize = 15)\n",
    "plt.xlabel('Side', fontproperties = body, fontsize = 15)\n",
    "plt.ylim(0, 1000)\n",
    "plt.show()"
   ]
  },
  {
   "cell_type": "markdown",
   "metadata": {},
   "source": [
    "> There are slightly more Blue Side matches than Red Side matches."
   ]
  },
  {
   "cell_type": "markdown",
   "metadata": {},
   "source": [
    "> ***League explained:*** *Why is Red vs. Blue side important?*\n",
    "> ___\n",
    "> When a match is created, each team is randomly assigned to play on the Blue or Red side. This affects their starting position and direction of play. Blue team's base is at the bottom-left corner of the map, so they play from left to right. Red team, conversely, begins in the top-right corner, and must push right-to-left.\n",
    ">\n",
    "> Some have argued—and a few [studies have supported](https://kotaku.com/yes-the-blue-team-has-an-advantage-in-league-of-legend-1578533860)—that Blue side has an inherent advantage due to its more natural left-to-right progression across the map. This format is, after all, how new players are introduced to the game. In matches where a team of human players competes against computer-controlled enemy Champions, the human team is always on Blue side.\n",
    ">\n",
    "> Now, we can test the \"Blue Team Advantage\" theory against our own data."
   ]
  },
  {
   "cell_type": "code",
   "execution_count": 45,
   "metadata": {},
   "outputs": [],
   "source": [
    "# Crosstab of win rate by side\n",
    "xtab = pd.crosstab(df_orig['side'], df_orig['win'],\n",
    "                   rownames = ['Side'], colnames = ['Win'], \n",
    "                   normalize = 'index')"
   ]
  },
  {
   "cell_type": "code",
   "execution_count": 46,
   "metadata": {},
   "outputs": [
    {
     "data": {
      "image/png": "[encoded data removed]",
      "text/plain": [
       "<matplotlib.figure.Figure at 0x281df807cf8>"
      ]
     },
     "metadata": {},
     "output_type": "display_data"
    },
    {
     "data": {
      "text/html": [
       "<div>\n",
       "<style scoped>\n",
       "    .dataframe tbody tr th:only-of-type {\n",
       "        vertical-align: middle;\n",
       "    }\n",
       "\n",
       "    .dataframe tbody tr th {\n",
       "        vertical-align: top;\n",
       "    }\n",
       "\n",
       "    .dataframe thead th {\n",
       "        text-align: right;\n",
       "    }\n",
       "</style>\n",
       "<table border=\"1\" class=\"dataframe\">\n",
       "  <thead>\n",
       "    <tr style=\"text-align: right;\">\n",
       "      <th>Win</th>\n",
       "      <th>False</th>\n",
       "      <th>True</th>\n",
       "    </tr>\n",
       "    <tr>\n",
       "      <th>Side</th>\n",
       "      <th></th>\n",
       "      <th></th>\n",
       "    </tr>\n",
       "  </thead>\n",
       "  <tbody>\n",
       "    <tr>\n",
       "      <th>blue</th>\n",
       "      <td>0.527434</td>\n",
       "      <td>0.472566</td>\n",
       "    </tr>\n",
       "    <tr>\n",
       "      <th>red</th>\n",
       "      <td>0.472897</td>\n",
       "      <td>0.527103</td>\n",
       "    </tr>\n",
       "  </tbody>\n",
       "</table>\n",
       "</div>"
      ],
      "text/plain": [
       "Win      False     True \n",
       "Side                    \n",
       "blue  0.527434  0.472566\n",
       "red   0.472897  0.527103"
      ]
     },
     "execution_count": 46,
     "metadata": {},
     "output_type": "execute_result"
    }
   ],
   "source": [
    "# Graph win rate\n",
    "sns.set_style(\"whitegrid\")\n",
    "cols = sns.palettes.cubehelix_palette(2, dark = 0.55, start = 0.5, rot = -0.75)\n",
    "\n",
    "xtab.plot(kind = 'bar', stacked = True, color = cols)\n",
    "\n",
    "plt.title('Win Rate by Side', fontproperties = main, fontsize = 16)\n",
    "plt.ylabel('Rate', fontproperties = body, fontsize = 15)\n",
    "plt.xlabel('Side', fontproperties = body, fontsize = 15)\n",
    "plt.xticks([0, 1], ['Blue Side', 'Red Side'], rotation = 0, fontproperties = body, fontsize = 13)\n",
    "plt.show()\n",
    "\n",
    "xtab"
   ]
  },
  {
   "cell_type": "markdown",
   "metadata": {},
   "source": [
    "> Contrary to the popular theory, the data shows that I actually have an advantage on **Red** team. My win rate when playing on the Red side was 52.7%, compared to a win rate of 47.3% when playing Blue."
   ]
  },
  {
   "cell_type": "raw",
   "metadata": {},
   "source": [
    "<a id = 'models'></a>"
   ]
  },
  {
   "cell_type": "markdown",
   "metadata": {},
   "source": [
    "<br>"
   ]
  },
  {
   "cell_type": "markdown",
   "metadata": {},
   "source": [
    "### Modeling & Prediction\n",
    "___\n",
    "Several predictive model classes and variations will be evaluated on our data. Their performance will be summarized at the beginning of each respective model section, in a table like the example below.\n",
    "\n",
    "<center><i>Results in Brief</i></center>\n",
    "\n",
    "| **Model**   |**CV Accuracy**|      **Lift**       |   **CV Spread**   |\n",
    "|-------------|---------------|---------------------|-------------------|\n",
    "|     CLF 1   |     xx.xx%    |       +xx.xx%       |       xx.xx%      |\n",
    "|     CLF 2   |     xx.xx%    |       +xx.xx%       |       xx.xx%      |"
   ]
  },
  {
   "cell_type": "markdown",
   "metadata": {},
   "source": [
    "The following models will be evaluated in this section:\n",
    "\n",
    "**Decision Tree Classifiers**\n",
    "+ [Decision Tree](#decision-tree)\n",
    "+ [Extra Trees](#extra-trees)\n",
    "+ [Random Forest](#random-forest)\n",
    "+ [Boosting](#boosting)\n",
    "+ [Gradient Boosting](#gradient-boosting)\n",
    "+ [Bagging](#bagging)\n",
    "\n",
    "**General Models and Ensembles**\n",
    "+ [Logistic Regression](#logistic-regression)\n",
    "+ [Naïve Bayes](#bayes)\n",
    "+ [*k*-Nearest Neighbors (KNN)](#knn)\n",
    "+ [Stacking (Ensemble Voting)](#stacking)\n",
    "    \n",
    "**Machine Learning**\n",
    "+ [Support Vector Machines (SVM)](#svm)\n",
    "+ [Artificual Neural Network (ANN)](#ann)\n",
    "___"
   ]
  },
  {
   "cell_type": "markdown",
   "metadata": {},
   "source": [
    "##### Metrics evaluated\n",
    "\n",
    "***CV Accuracy*** *is the average of all Accuracy scores for a 10-fold cross-validation.*\n",
    "\n",
    "***Lift*** *is the improvement in Accuracy over the [Base Accuracy Rate](#prep) (BAR, roughly 50%).*\n",
    "    \n",
    "|  **Lift**   |    **Color Code**    |\n",
    "|-------------|----------------------|\n",
    "| Above BAR   |<font color=\"green\">Green</font>|\n",
    "|     ~ BAR   |<font color=\"darkorange\">Yellow</font>|\n",
    "| Below BAR   |<font color=\"deeporange\">Red</font>|\n",
    "\n",
    "***CV Spread*** *(or Range) measures the difference between the largest and smallest Accuracy scores of a 10-fold cross-validation. Higher values indicate greater inconsistency due to overfitting. A spread of ~5% or less is typically ideal.*\n",
    "\n",
    "|**CV Spread**|    **Color Code**    |      **Risk of Overfitting**                   |\n",
    "|-------------|----------------------|------------------------------------------------|\n",
    "|      < 5%   |<font color=\"green\">Green</font>|<font color=\"green\">Minimal</font>|\n",
    "|  5 to 10%   |<font color=\"yellowgreen\">Yellow-Green</font>|<font color=\"yellowgreen\">Average</font>\n",
    "| 10 to 15%   |<font color=\"darkorange\">Yellow</font>|<font color=\"darkorange\">High</font>\n",
    "|     > 15%   |<font color=\"deeporange\">Red</font>|<font color=\"deeporange\">Extreme</font>"
   ]
  },
  {
   "cell_type": "code",
   "execution_count": 47,
   "metadata": {},
   "outputs": [],
   "source": [
    "# **Visualizing model effectiveness: the Normalized Confusion Matrix**\n",
    "\n",
    "# The code below establishes the format for a *normalized confusion matrix*—a visualization tool \n",
    "# which uses a color-coded grid to illustrate the accuracy of model predictions.\n",
    "# This will be explained in greater detail once put into practice."
   ]
  },
  {
   "cell_type": "code",
   "execution_count": 48,
   "metadata": {},
   "outputs": [],
   "source": [
    "# Define the Confusion Matrix format\n",
    "sns.set_style(\"white\")\n",
    "\n",
    "def plot_confusion_matrix(cm, classes,\n",
    "                          normalize = False,\n",
    "                          title = '',\n",
    "                          cmap = 'magma'):\n",
    "    \n",
    "    cm = cm.astype('float') / cm.sum(axis=1)[:, np.newaxis]\n",
    "    plt.imshow(cm, interpolation = 'nearest', cmap = cmap)\n",
    "    plt.title(title)\n",
    "    colbar_ticks = np.linspace(0, 1.0, 6, endpoint=True)\n",
    "    plt.colorbar(ticks = colbar_ticks)\n",
    "    tick_marks = np.arange(len(classes))\n",
    "    plt.xticks(tick_marks, classes, rotation = 0, fontproperties = body, fontsize = 13)\n",
    "    plt.yticks(tick_marks, classes, fontproperties = body, fontsize = 13)\n",
    "\n",
    "    fmt = '.2f'\n",
    "    thresh = cm.max() / 2.\n",
    "    for i, j in itertools.product(range(cm.shape[0]), range(cm.shape[1])):\n",
    "        plt.text(j, i, format(cm[i, j], fmt),\n",
    "                 horizontalalignment = 'center',\n",
    "                 verticalalignment = 'center',\n",
    "                 fontproperties = body, fontsize = 15,\n",
    "                 color = \"#08061d\" if cm[i, j] > thresh else \"#fefeea\")\n",
    "\n",
    "    plt.tight_layout()\n",
    "    plt.ylabel('Actual', fontproperties = body, fontsize = 15)\n",
    "    plt.xlabel('Predicted', fontproperties = body, fontsize = 15)\n",
    "\n",
    "# Define a format for creating \"tidy\" table output from raw array input\n",
    "def tidy(cm): \n",
    "    cm_df = pd.DataFrame(cm, columns = ['Pred L', 'Pred W'], index = ['True L', 'True W'])\n",
    "    return cm_df"
   ]
  },
  {
   "cell_type": "code",
   "execution_count": 49,
   "metadata": {},
   "outputs": [],
   "source": [
    "# Some more definitions and functions to streamline output of model results."
   ]
  },
  {
   "cell_type": "code",
   "execution_count": 50,
   "metadata": {},
   "outputs": [],
   "source": [
    "target_names = [\"Loss\", \"Win\"]"
   ]
  },
  {
   "cell_type": "code",
   "execution_count": 51,
   "metadata": {},
   "outputs": [],
   "source": [
    "# Function to track running time of a cell\n",
    "def running_time():\n",
    "    print(\"Running time:\", time.strftime(\"%H:%M:%S\", time.gmtime((time.time() - start_time))))\n",
    "    print(\"\")\n",
    "    return(\"\")"
   ]
  },
  {
   "cell_type": "code",
   "execution_count": 52,
   "metadata": {},
   "outputs": [],
   "source": [
    "# Function for printing model results (with default params)\n",
    "def model_results_default(clf, target_predicted_clf, TAG):\n",
    "    print(\"Default Parameters:\")\n",
    "    print(clf)\n",
    "    print(\"\")\n",
    "    print(\"{tag} Accuracy:\".format(tag = TAG), '{0:.4f}'.format(accuracy_score(target_test, target_predicted_clf)))\n",
    "    print(\"{tag} Lift:\".format(tag = TAG), '{0:.4f}'.format((accuracy_score(target_test, target_predicted_clf) - base)))\n",
    "    print(\"\")\n",
    "    target_names = [\"Loss\", \"Win\"]\n",
    "    return print(classification_report(target_test, target_predicted_clf,\n",
    "                                       target_names = target_names))"
   ]
  },
  {
   "cell_type": "code",
   "execution_count": 53,
   "metadata": {},
   "outputs": [],
   "source": [
    "# Function for printing model results\n",
    "def model_results(clf, target_predicted_clf, TAG):\n",
    "    print(\"{tag} Accuracy:\".format(tag = TAG), '{0:.4f}'.format(accuracy_score(target_test, target_predicted_clf)))\n",
    "    print(\"{tag} Lift:\".format(tag = TAG), '{0:.4f}'.format((accuracy_score(target_test, target_predicted_clf) - base)))\n",
    "    print(\"\")\n",
    "    target_names = [\"Loss\", \"Win\"]\n",
    "    return print(classification_report(target_test, target_predicted_clf,\n",
    "                                       target_names = target_names))"
   ]
  },
  {
   "cell_type": "code",
   "execution_count": 54,
   "metadata": {},
   "outputs": [],
   "source": [
    "# Function for printing cross-validation results\n",
    "def cv_results(r):\n",
    "    print(\"Cross Validation Score for each K:\")\n",
    "    print(r)\n",
    "    print(\"\")\n",
    "    print('Range:', '{0:.4f}'.format(np.ptp(r)))\n",
    "    print(\"\")\n",
    "    print(\"Average:\", '{0:.4f}'.format(r.mean()))\n",
    "    print(\"Lift:\", '{0:.4f}'.format(r.mean() - base))\n",
    "    return(\"\")"
   ]
  },
  {
   "cell_type": "raw",
   "metadata": {},
   "source": [
    "<a id = 'decision-tree'></a>"
   ]
  },
  {
   "cell_type": "markdown",
   "metadata": {},
   "source": [
    "<br>"
   ]
  },
  {
   "cell_type": "markdown",
   "metadata": {},
   "source": [
    "#### Decision Tree\n",
    "___\n",
    "A single decision tree model using default parameters is often a good baseline against which to compare the effectiveness of adjusting parameters, as well as other models."
   ]
  },
  {
   "cell_type": "markdown",
   "metadata": {},
   "source": [
    "<center><i>Results in Brief</i></center>\n",
    "\n",
    "| **Model**   |**CV Accuracy**|             **Lift**             |        **CV Spread**        |\n",
    "|-------------|---------------|----------------------------------|-----------------------------|\n",
    "| Default DT  |     73.50%    |<font color=\"green\">+22.90%</font>|<font color=\"deeporange\">15.01%</font>|\n",
    "| Tuned DT    |     69.36%    |<font color=\"green\">+18.75%</font>|<font color=\"darkorange\">12.66%</font>|\n",
    "\n",
    "*Tuning the decision tree prioritized finding a smaller CV Spread, but at the cost of model accuracy and lift.*"
   ]
  },
  {
   "cell_type": "code",
   "execution_count": 55,
   "metadata": {},
   "outputs": [
    {
     "name": "stdout",
     "output_type": "stream",
     "text": [
      "Default Parameters:\n",
      "DecisionTreeClassifier(class_weight=None, criterion='gini', max_depth=None,\n",
      "            max_features=None, max_leaf_nodes=None,\n",
      "            min_impurity_decrease=0.0, min_impurity_split=None,\n",
      "            min_samples_leaf=1, min_samples_split=2,\n",
      "            min_weight_fraction_leaf=0.0, presort=False, random_state=7,\n",
      "            splitter='best')\n",
      "\n",
      "DT Accuracy: 0.7606\n",
      "DT Lift: 0.2545\n",
      "\n",
      "             precision    recall  f1-score   support\n",
      "\n",
      "       Loss       0.78      0.74      0.76       167\n",
      "        Win       0.74      0.79      0.76       163\n",
      "\n",
      "avg / total       0.76      0.76      0.76       330\n",
      "\n"
     ]
    }
   ],
   "source": [
    "# Decision Tree, base model\n",
    "from sklearn import tree\n",
    "\n",
    "# Define\n",
    "clf_dt = tree.DecisionTreeClassifier(random_state = 7)\n",
    "\n",
    "# Fit\n",
    "clf_dt.fit(features_train, target_train)\n",
    "\n",
    "# Predict\n",
    "target_predicted_dt = clf_dt.predict(features_test)\n",
    "\n",
    "# Evaluate\n",
    "model_results_default(clf_dt, target_predicted_dt, 'DT')"
   ]
  },
  {
   "cell_type": "markdown",
   "metadata": {},
   "source": [
    "> The basic decision tree is giving decent results right from the start—76% accuracy, which is an improvement of 25% over the Base Accuracy Rate.\n",
    ">\n",
    "> But we need to verify this result with cross-validation, to ensure the model isn't just overfitting on that particular data slice."
   ]
  },
  {
   "cell_type": "code",
   "execution_count": 56,
   "metadata": {},
   "outputs": [
    {
     "name": "stdout",
     "output_type": "stream",
     "text": [
      "Cross Validation Score for each K:\n",
      "[ 0.7564  0.7051  0.7179  0.7949  0.7403\n",
      "  0.7013  0.7237  0.7763  0.7895  0.6447]\n",
      "\n",
      "Range: 0.1501\n",
      "\n",
      "Average: 0.7350\n",
      "Lift: 0.2290\n",
      "\n"
     ]
    }
   ],
   "source": [
    "# Verify with 10-fold Cross-validation\n",
    "scores = cross_val_score(clf_dt, features_train, target_train, cv = 10)\n",
    "\n",
    "np.set_printoptions(formatter = {'float': '{: 0.4f}'.format}, linewidth = 45)\n",
    "\n",
    "print(cv_results(scores))"
   ]
  },
  {
   "cell_type": "markdown",
   "metadata": {},
   "source": [
    "> The simplest way to check for overfitting is to evaluate the **Range** (difference between largest and smallest values) and **Average** scores among the array of scores for the 10 CV repetitions. <br>\n",
    "> If the average is close to the tested model's Accuracy, and if the range is small (~0.05 or lower), then overfitting is not likely.\n",
    ">\n",
    "> For the base decision tree, CV results in an Accuracy range of 0.21 (0.60 to 0.81).\n",
    "> This is far above the 0.05 rule of thumb. It indicates that **there is an unacceptable level of overfitting**."
   ]
  },
  {
   "cell_type": "markdown",
   "metadata": {},
   "source": [
    "To solve the problem of overfitting, we need to simplify the decision tree—making it less sensitive to \"noise\" in the data. <br>\n",
    "We can try adjusting some of the decision tree's parameters to create a smaller tree which makes use of fewer features.\n"
   ]
  },
  {
   "cell_type": "code",
   "execution_count": 57,
   "metadata": {},
   "outputs": [
    {
     "name": "stdout",
     "output_type": "stream",
     "text": [
      "DT Accuracy: 0.6909\n",
      "DT Lift: 0.1848\n",
      "\n",
      "             precision    recall  f1-score   support\n",
      "\n",
      "       Loss       0.69      0.70      0.70       167\n",
      "        Win       0.69      0.68      0.69       163\n",
      "\n",
      "avg / total       0.69      0.69      0.69       330\n",
      "\n"
     ]
    }
   ],
   "source": [
    "# Decision Tree, tuned model\n",
    "from sklearn import tree\n",
    "\n",
    "# Define\n",
    "clf_dt = tree.DecisionTreeClassifier(criterion = 'gini', \n",
    "                                     class_weight = 'balanced', \n",
    "                                     max_features = 28,\n",
    "                                     min_samples_split = 11,\n",
    "                                     random_state = 7)\n",
    "\n",
    "# Fit\n",
    "clf_dt.fit(features_train, target_train)\n",
    "\n",
    "# Predict\n",
    "target_predicted_dt = clf_dt.predict(features_test)\n",
    "\n",
    "# Evaluate\n",
    "model_results(clf_dt, target_predicted_dt, 'DT')"
   ]
  },
  {
   "cell_type": "code",
   "execution_count": 58,
   "metadata": {},
   "outputs": [
    {
     "name": "stdout",
     "output_type": "stream",
     "text": [
      "Cross Validation Score for each K:\n",
      "[ 0.7436  0.6795  0.6410  0.7051  0.6234\n",
      "  0.7273  0.7500  0.7368  0.6447  0.6842]\n",
      "\n",
      "Range: 0.1266\n",
      "\n",
      "Average: 0.6936\n",
      "Lift: 0.1875\n",
      "\n"
     ]
    }
   ],
   "source": [
    "# Verify with 10-fold Cross-validation\n",
    "scores = cross_val_score(clf_dt, features_train, target_train, cv = 10)\n",
    "\n",
    "np.set_printoptions(formatter = {'float': '{: 0.4f}'.format}, linewidth = 45)\n",
    "\n",
    "print(cv_results(scores))"
   ]
  },
  {
   "cell_type": "markdown",
   "metadata": {},
   "source": [
    "> Tuning reduced the negative impact of overfitting. The range of CV scores tightened from 0.21 to 0.12, and the model's accuracy was within one percentage point of the CV average. \n",
    ">\n",
    "> This isn't perfect, but minimizing overfitting can improve model performance on new data."
   ]
  },
  {
   "cell_type": "markdown",
   "metadata": {},
   "source": [
    "Now, we can visualize the decision tree's predictive effectiveness with a confusion matrix."
   ]
  },
  {
   "cell_type": "code",
   "execution_count": 59,
   "metadata": {},
   "outputs": [
    {
     "data": {
      "image/png": "[encoded data removed]",
      "text/plain": [
       "<matplotlib.figure.Figure at 0x281df723b70>"
      ]
     },
     "metadata": {},
     "output_type": "display_data"
    },
    {
     "data": {
      "text/html": [
       "<div>\n",
       "<style scoped>\n",
       "    .dataframe tbody tr th:only-of-type {\n",
       "        vertical-align: middle;\n",
       "    }\n",
       "\n",
       "    .dataframe tbody tr th {\n",
       "        vertical-align: top;\n",
       "    }\n",
       "\n",
       "    .dataframe thead th {\n",
       "        text-align: right;\n",
       "    }\n",
       "</style>\n",
       "<table border=\"1\" class=\"dataframe\">\n",
       "  <thead>\n",
       "    <tr style=\"text-align: right;\">\n",
       "      <th></th>\n",
       "      <th>Pred L</th>\n",
       "      <th>Pred W</th>\n",
       "    </tr>\n",
       "  </thead>\n",
       "  <tbody>\n",
       "    <tr>\n",
       "      <th>True L</th>\n",
       "      <td>117</td>\n",
       "      <td>50</td>\n",
       "    </tr>\n",
       "    <tr>\n",
       "      <th>True W</th>\n",
       "      <td>52</td>\n",
       "      <td>111</td>\n",
       "    </tr>\n",
       "  </tbody>\n",
       "</table>\n",
       "</div>"
      ],
      "text/plain": [
       "        Pred L  Pred W\n",
       "True L     117      50\n",
       "True W      52     111"
      ]
     },
     "execution_count": 59,
     "metadata": {},
     "output_type": "execute_result"
    }
   ],
   "source": [
    "# Confusion Matrix for Decision Tree, tuned model\n",
    "\n",
    "# Compute confusion matrix\n",
    "cnf_matrix_dt = confusion_matrix(target_test, target_predicted_dt)  # <- Specify model to use\n",
    "np.set_printoptions(precision = 2)\n",
    "\n",
    "# Plot normalized confusion matrix\n",
    "plt.figure()\n",
    "plot_confusion_matrix(cnf_matrix_dt, classes = target_names, normalize = True, title = '\\n')\n",
    "plt.clim(0, 1.0) # Normalizes color scale to (0, 1) instead of (min, max) values\n",
    "plt.suptitle('DT Confusion Matrix, normalized', fontproperties = main, fontsize = 16)\n",
    "plt.show()\n",
    "\n",
    "# View absolute count matrix in a table\n",
    "tidy(cnf_matrix_dt)"
   ]
  },
  {
   "cell_type": "markdown",
   "metadata": {},
   "source": [
    "> ##### Interpreting the Confusion Matrix\n",
    "> ___\n",
    "> Rows across represent the Actual class of data items (classified as Win or Loss), while columns represent Predictions made by the model. The intersections of Actual and Predicted are normalized to contrast the percentages of the Actual value that were Predicted correctly vs. incorrectly.\n",
    ">\n",
    "> *Percentage (and color) normalization applies to rows only.*\n",
    ">\n",
    "> For example, if we go across the top row (Actual Loss), we see that 70% of Actual Losses were predicted correctly—known as **True Negatives**. <br>\n",
    "> The remaining 30% of Actual Losses were misclassified as Wins by the model—these are **False Positives**.\n",
    ">\n",
    "> The same applies to the bottom row (Actual Win). <br> \n",
    "> 32% were misclassified as Losses—**False Negatives**, and 68% were predicted correctly—**True Positives**.\n",
    ">\n",
    "> \n",
    "> *The color scale reinforces the effectiveness and strength of predictions.*\n",
    ">\n",
    "> Ideally, we want to see rates of True Positives (and True Negatives) close to 1.0, coded light yellow. <br>\n",
    "> Conversely, we want to minimize False Positives and False Negatives—values near zero are coded black / dark purple. <br>\n",
    "> \n",
    "> A perfect matrix, then, would have 1.0 (light yellow) values in the top-left and bottom-right squares, and 0 (black) values in the remaining squares—creating a \"checkered\" pattern. This represents a figurative \"night and day\" difference between incorrect and correct predictions.\n",
    ">\n",
    "> The confusion matrix above exhibits this ideal checkered pattern, but with \"sunrise and sunset\" colors that indicate the degree of ambiguity between correct and incorrect predictions.\n",
    ">\n",
    "> The same matrix is then also presented in \"traditional\" table form with absolute counts."
   ]
  },
  {
   "cell_type": "markdown",
   "metadata": {},
   "source": [
    "[Back to Models](#models)"
   ]
  },
  {
   "cell_type": "raw",
   "metadata": {},
   "source": [
    "<a id = 'extra-trees'></a>"
   ]
  },
  {
   "cell_type": "markdown",
   "metadata": {},
   "source": [
    "<br>"
   ]
  },
  {
   "cell_type": "markdown",
   "metadata": {},
   "source": [
    "#### Extremely Random Trees (Extra Trees)\n",
    "___\n",
    "The Extra Trees Classifier uses a small group (ensemble) of decision trees, each with randomized parameters that result in different decision paths. The goal is to improve upon the results of a single decision tree by aggregating the predictions of a group."
   ]
  },
  {
   "cell_type": "markdown",
   "metadata": {},
   "source": [
    "<center><i>Results in Brief</i></center>\n",
    "\n",
    "| **Model**   |**CV Accuracy**|             **Lift**             |        **CV Spread**        |\n",
    "|-------------|---------------|----------------------------------|-----------------------------|\n",
    "| Default XT  |     77.13%    |<font color=\"green\">+26.53%</font>|<font color=\"deeporange\">19.31%</font>|\n",
    "| Tuned XT    |     79.73%    |<font color=\"green\">+29.13%</font>|<font color=\"darkorange\">11.84%</font>|"
   ]
  },
  {
   "cell_type": "code",
   "execution_count": 60,
   "metadata": {},
   "outputs": [
    {
     "name": "stdout",
     "output_type": "stream",
     "text": [
      "Default Parameters:\n",
      "ExtraTreesClassifier(bootstrap=False, class_weight=None, criterion='gini',\n",
      "           max_depth=None, max_features='auto', max_leaf_nodes=None,\n",
      "           min_impurity_decrease=0.0, min_impurity_split=None,\n",
      "           min_samples_leaf=1, min_samples_split=2,\n",
      "           min_weight_fraction_leaf=0.0, n_estimators=10, n_jobs=1,\n",
      "           oob_score=False, random_state=7, verbose=0, warm_start=False)\n",
      "\n",
      "XT Accuracy: 0.7727\n",
      "XT Lift: 0.2667\n",
      "\n",
      "             precision    recall  f1-score   support\n",
      "\n",
      "       Loss       0.74      0.84      0.79       167\n",
      "        Win       0.81      0.71      0.75       163\n",
      "\n",
      "avg / total       0.78      0.77      0.77       330\n",
      "\n"
     ]
    }
   ],
   "source": [
    "# Extra Trees, base model\n",
    "from sklearn.ensemble import ExtraTreesClassifier\n",
    "\n",
    "# Define\n",
    "clf_xt = ExtraTreesClassifier(random_state = 7)\n",
    "\n",
    "# Fit\n",
    "clf_xt.fit(features_train, target_train)\n",
    "\n",
    "# Predict\n",
    "target_predicted_xt = clf_xt.predict(features_test)\n",
    "\n",
    "# Evaluate\n",
    "model_results_default(clf_xt, target_predicted_xt, 'XT')"
   ]
  },
  {
   "cell_type": "code",
   "execution_count": 61,
   "metadata": {},
   "outputs": [
    {
     "name": "stdout",
     "output_type": "stream",
     "text": [
      "Cross Validation Score for each K:\n",
      "[ 0.7821  0.7949  0.8333  0.7949  0.6753\n",
      "  0.7013  0.7368  0.8684  0.8026  0.7237]\n",
      "\n",
      "Range: 0.1931\n",
      "\n",
      "Average: 0.7713\n",
      "Lift: 0.2653\n",
      "\n"
     ]
    }
   ],
   "source": [
    "# Verify with 10-fold Cross-validation\n",
    "start_time = time.time()\n",
    "\n",
    "scores = cross_val_score(clf_xt, features_train, target_train, cv = 10)\n",
    "\n",
    "np.set_printoptions(formatter = {'float': '{: 0.4f}'.format}, linewidth = 45)\n",
    "\n",
    "print(cv_results(scores))"
   ]
  },
  {
   "cell_type": "markdown",
   "metadata": {},
   "source": [
    "The default model uses 10 trees. Let's see what happens when we add more."
   ]
  },
  {
   "cell_type": "code",
   "execution_count": 62,
   "metadata": {},
   "outputs": [
    {
     "name": "stdout",
     "output_type": "stream",
     "text": [
      "XT Accuracy: 0.7879\n",
      "XT Lift: 0.2818\n",
      "\n",
      "             precision    recall  f1-score   support\n",
      "\n",
      "       Loss       0.78      0.80      0.79       167\n",
      "        Win       0.79      0.77      0.78       163\n",
      "\n",
      "avg / total       0.79      0.79      0.79       330\n",
      "\n"
     ]
    }
   ],
   "source": [
    "# Extra Trees, tuned model\n",
    "\n",
    "# Define\n",
    "clf_xt = ExtraTreesClassifier(criterion = 'gini', \n",
    "                              class_weight = 'balanced', \n",
    "                              n_estimators = 30, \n",
    "                              max_features = 28, \n",
    "                              min_samples_split = 11, \n",
    "                              random_state = 7)\n",
    "\n",
    "# Fit\n",
    "clf_xt.fit(features_train, target_train)\n",
    "\n",
    "# Predict\n",
    "target_predicted_xt = clf_xt.predict(features_test)\n",
    "\n",
    "# Evaluate\n",
    "model_results(clf_xt, target_predicted_xt, 'XT')"
   ]
  },
  {
   "cell_type": "code",
   "execution_count": 63,
   "metadata": {},
   "outputs": [
    {
     "name": "stdout",
     "output_type": "stream",
     "text": [
      "Cross Validation Score for each K:\n",
      "[ 0.8077  0.7821  0.8205  0.8333  0.7662\n",
      "  0.7662  0.7237  0.8421  0.8421  0.7895]\n",
      "\n",
      "Range: 0.1184\n",
      "\n",
      "Average: 0.7973\n",
      "Lift: 0.2913\n",
      "\n"
     ]
    }
   ],
   "source": [
    "# Verify with 10-fold Cross-validation\n",
    "\n",
    "scores = cross_val_score(clf_xt, features_train, target_train, cv = 10)\n",
    "\n",
    "np.set_printoptions(formatter = {'float': '{: 0.4f}'.format}, linewidth = 45)\n",
    "\n",
    "print(cv_results(scores))"
   ]
  },
  {
   "cell_type": "code",
   "execution_count": 64,
   "metadata": {},
   "outputs": [
    {
     "data": {
      "image/png": "[encoded data removed]",
      "text/plain": [
       "<matplotlib.figure.Figure at 0x281df6faa90>"
      ]
     },
     "metadata": {},
     "output_type": "display_data"
    },
    {
     "data": {
      "text/html": [
       "<div>\n",
       "<style scoped>\n",
       "    .dataframe tbody tr th:only-of-type {\n",
       "        vertical-align: middle;\n",
       "    }\n",
       "\n",
       "    .dataframe tbody tr th {\n",
       "        vertical-align: top;\n",
       "    }\n",
       "\n",
       "    .dataframe thead th {\n",
       "        text-align: right;\n",
       "    }\n",
       "</style>\n",
       "<table border=\"1\" class=\"dataframe\">\n",
       "  <thead>\n",
       "    <tr style=\"text-align: right;\">\n",
       "      <th></th>\n",
       "      <th>Pred L</th>\n",
       "      <th>Pred W</th>\n",
       "    </tr>\n",
       "  </thead>\n",
       "  <tbody>\n",
       "    <tr>\n",
       "      <th>True L</th>\n",
       "      <td>134</td>\n",
       "      <td>33</td>\n",
       "    </tr>\n",
       "    <tr>\n",
       "      <th>True W</th>\n",
       "      <td>37</td>\n",
       "      <td>126</td>\n",
       "    </tr>\n",
       "  </tbody>\n",
       "</table>\n",
       "</div>"
      ],
      "text/plain": [
       "        Pred L  Pred W\n",
       "True L     134      33\n",
       "True W      37     126"
      ]
     },
     "execution_count": 64,
     "metadata": {},
     "output_type": "execute_result"
    }
   ],
   "source": [
    "# Confusion Matrix for Extra Trees, tuned model\n",
    "\n",
    "# Compute confusion matrix\n",
    "cnf_matrix_xt = confusion_matrix(target_test, target_predicted_xt)  # <- Specify model to use\n",
    "np.set_printoptions(precision = 2)\n",
    "\n",
    "# Plot normalized confusion matrix\n",
    "plt.figure()\n",
    "plot_confusion_matrix(cnf_matrix_xt, classes = target_names, normalize = True, title = '\\n')\n",
    "plt.clim(0, 1.0) # Normalizes color scale to (0, 1) instead of (min, max) values\n",
    "plt.suptitle('XT Confusion Matrix, normalized', fontproperties = main, fontsize = 16)\n",
    "plt.show()\n",
    "\n",
    "# View absolute count matrix in a table\n",
    "tidy(cnf_matrix_xt)"
   ]
  },
  {
   "cell_type": "markdown",
   "metadata": {},
   "source": [
    "[Back to Models](#models)"
   ]
  },
  {
   "cell_type": "raw",
   "metadata": {},
   "source": [
    "<a id = 'random-forest'></a>"
   ]
  },
  {
   "cell_type": "markdown",
   "metadata": {},
   "source": [
    "<br>"
   ]
  },
  {
   "cell_type": "markdown",
   "metadata": {},
   "source": [
    "#### Random Forest\n",
    "___\n",
    "As with Extra Trees, a Random Forest is an ensemble of decision trees. The key differences are the number of trees—500 by default—and the method of randomization. While XT randomized the parameters of the trees, the RF randomizes the sampling of data  (via \"bootstrapping\") used to train the trees."
   ]
  },
  {
   "cell_type": "markdown",
   "metadata": {},
   "source": [
    "<center><i>Results in Brief</i></center>\n",
    "\n",
    "| **Model**   |**CV Accuracy**|             **Lift**             |        **CV Spread**        |\n",
    "|-------------|---------------|----------------------------------|-----------------------------|\n",
    "| Default RF  |    80.52%    |<font color=\"green\">+29.92%</font>|<font color=\"darkorange\">11.89%</font> |\n",
    "| Tuned RF    |    81.82%    |<font color=\"green\">+31.21%</font>|<font color=\"yellowgreen\">9.27%</font>  |"
   ]
  },
  {
   "cell_type": "code",
   "execution_count": 65,
   "metadata": {},
   "outputs": [
    {
     "name": "stdout",
     "output_type": "stream",
     "text": [
      "Running time: 00:00:01\n",
      "\n",
      "Default Parameters:\n",
      "RandomForestClassifier(bootstrap=True, class_weight=None, criterion='gini',\n",
      "            max_depth=None, max_features='auto', max_leaf_nodes=None,\n",
      "            min_impurity_decrease=0.0, min_impurity_split=None,\n",
      "            min_samples_leaf=1, min_samples_split=2,\n",
      "            min_weight_fraction_leaf=0.0, n_estimators=500, n_jobs=-1,\n",
      "            oob_score=False, random_state=7, verbose=0, warm_start=False)\n",
      "\n",
      "RF Accuracy: 0.8333\n",
      "RF Lift: 0.3273\n",
      "\n",
      "             precision    recall  f1-score   support\n",
      "\n",
      "       Loss       0.83      0.84      0.84       167\n",
      "        Win       0.83      0.83      0.83       163\n",
      "\n",
      "avg / total       0.83      0.83      0.83       330\n",
      "\n"
     ]
    }
   ],
   "source": [
    "# Random Forest, base model\n",
    "from sklearn.ensemble import RandomForestClassifier\n",
    "start_time = time.time()\n",
    "\n",
    "# Define\n",
    "clf_rf = RandomForestClassifier(n_estimators = 500, \n",
    "                                n_jobs = -1,\n",
    "                                random_state = 7)\n",
    "\n",
    "# Fit\n",
    "clf_rf.fit(features_train, target_train)\n",
    "\n",
    "# Predict\n",
    "target_predicted_rf = clf_rf.predict(features_test)\n",
    "\n",
    "# Evaluate\n",
    "running_time()\n",
    "model_results_default(clf_rf, target_predicted_rf, 'RF')"
   ]
  },
  {
   "cell_type": "code",
   "execution_count": 66,
   "metadata": {},
   "outputs": [
    {
     "name": "stdout",
     "output_type": "stream",
     "text": [
      "Running time: 00:00:09\n",
      "\n",
      "Cross Validation Score for each K:\n",
      "[ 0.8333  0.7949  0.8077  0.8462  0.7273\n",
      "  0.7403  0.8158  0.8289  0.8421  0.8158]\n",
      "\n",
      "Range: 0.1189\n",
      "\n",
      "Average: 0.8052\n",
      "Lift: 0.2992\n",
      "\n"
     ]
    }
   ],
   "source": [
    "# Verify with 10-fold Cross-validation\n",
    "start_time = time.time()\n",
    "\n",
    "scores = cross_val_score(clf_rf, features_train, target_train, cv = 10)\n",
    "\n",
    "np.set_printoptions(formatter = {'float': '{: 0.4f}'.format}, linewidth = 45)\n",
    "\n",
    "running_time()\n",
    "print(cv_results(scores))"
   ]
  },
  {
   "cell_type": "markdown",
   "metadata": {},
   "source": [
    "Keep the number of trees at 500—much higher and the tradeoff between improvement and computing time becomes too costly—but implement some of the tuning parameters used earlier to optimize the single decision tree."
   ]
  },
  {
   "cell_type": "code",
   "execution_count": 67,
   "metadata": {},
   "outputs": [
    {
     "name": "stdout",
     "output_type": "stream",
     "text": [
      "Running time: 00:00:00\n",
      "\n",
      "RF Accuracy: 0.8424\n",
      "RF Lift: 0.3364\n",
      "\n",
      "             precision    recall  f1-score   support\n",
      "\n",
      "       Loss       0.84      0.84      0.84       167\n",
      "        Win       0.84      0.84      0.84       163\n",
      "\n",
      "avg / total       0.84      0.84      0.84       330\n",
      "\n"
     ]
    }
   ],
   "source": [
    "# Random Forest, tuned model\n",
    "start_time = time.time()\n",
    "\n",
    "# Define\n",
    "clf_rf = RandomForestClassifier(criterion = 'gini', \n",
    "                                class_weight = 'balanced', \n",
    "                                n_estimators = 500, \n",
    "                                max_features = 18, \n",
    "                                min_samples_split = 12, \n",
    "                                n_jobs = -1,\n",
    "                                random_state = 7)\n",
    "\n",
    "# Fit\n",
    "clf_rf.fit(features_train, target_train)\n",
    "\n",
    "# Predict\n",
    "target_predicted_rf = clf_rf.predict(features_test)\n",
    "\n",
    "# Evaluate\n",
    "running_time()\n",
    "model_results(clf_rf, target_predicted_rf, 'RF')"
   ]
  },
  {
   "cell_type": "code",
   "execution_count": 68,
   "metadata": {},
   "outputs": [
    {
     "name": "stdout",
     "output_type": "stream",
     "text": [
      "Running time: 00:00:09\n",
      "\n",
      "Cross Validation Score for each K:\n",
      "[ 0.8462  0.7949  0.8205  0.8590  0.7792\n",
      "  0.7662  0.8026  0.8421  0.8553  0.8158]\n",
      "\n",
      "Range: 0.0927\n",
      "\n",
      "Average: 0.8182\n",
      "Lift: 0.3121\n",
      "\n"
     ]
    }
   ],
   "source": [
    "# Verify with 10-fold Cross-validation\n",
    "start_time = time.time()\n",
    "\n",
    "scores = cross_val_score(clf_rf, features_train, target_train, cv = 10)\n",
    "\n",
    "np.set_printoptions(formatter = {'float': '{: 0.4f}'.format}, linewidth = 45)\n",
    "\n",
    "running_time()\n",
    "print(cv_results(scores))"
   ]
  },
  {
   "cell_type": "code",
   "execution_count": 69,
   "metadata": {},
   "outputs": [
    {
     "data": {
      "image/png": "[encoded data removed]",
      "text/plain": [
       "<matplotlib.figure.Figure at 0x281e08dcda0>"
      ]
     },
     "metadata": {},
     "output_type": "display_data"
    },
    {
     "data": {
      "text/html": [
       "<div>\n",
       "<style scoped>\n",
       "    .dataframe tbody tr th:only-of-type {\n",
       "        vertical-align: middle;\n",
       "    }\n",
       "\n",
       "    .dataframe tbody tr th {\n",
       "        vertical-align: top;\n",
       "    }\n",
       "\n",
       "    .dataframe thead th {\n",
       "        text-align: right;\n",
       "    }\n",
       "</style>\n",
       "<table border=\"1\" class=\"dataframe\">\n",
       "  <thead>\n",
       "    <tr style=\"text-align: right;\">\n",
       "      <th></th>\n",
       "      <th>Pred L</th>\n",
       "      <th>Pred W</th>\n",
       "    </tr>\n",
       "  </thead>\n",
       "  <tbody>\n",
       "    <tr>\n",
       "      <th>True L</th>\n",
       "      <td>141</td>\n",
       "      <td>26</td>\n",
       "    </tr>\n",
       "    <tr>\n",
       "      <th>True W</th>\n",
       "      <td>26</td>\n",
       "      <td>137</td>\n",
       "    </tr>\n",
       "  </tbody>\n",
       "</table>\n",
       "</div>"
      ],
      "text/plain": [
       "        Pred L  Pred W\n",
       "True L     141      26\n",
       "True W      26     137"
      ]
     },
     "execution_count": 69,
     "metadata": {},
     "output_type": "execute_result"
    }
   ],
   "source": [
    "# Confusion Matrix for Random Forest, tuned model\n",
    "\n",
    "# Compute confusion matrix\n",
    "cnf_matrix_rf = confusion_matrix(target_test, target_predicted_rf)  # <- Specify model to use\n",
    "np.set_printoptions(precision = 2)\n",
    "\n",
    "# Plot normalized confusion matrix\n",
    "plt.figure()\n",
    "plot_confusion_matrix(cnf_matrix_rf, classes = target_names, normalize = True, title = '\\n')\n",
    "plt.clim(0, 1.0) # Normalizes color scale to (0, 1) instead of (min, max) values\n",
    "plt.suptitle('RF Confusion Matrix, normalized', fontproperties = main, fontsize = 16)\n",
    "plt.show()\n",
    "\n",
    "# View absolute count matrix in a table\n",
    "tidy(cnf_matrix_rf)"
   ]
  },
  {
   "cell_type": "raw",
   "metadata": {},
   "source": [
    "<a id = 'feature-importance'></a>"
   ]
  },
  {
   "cell_type": "markdown",
   "metadata": {},
   "source": [
    "<br>"
   ]
  },
  {
   "cell_type": "markdown",
   "metadata": {},
   "source": [
    "##### Feature Importance\n",
    "\n",
    "Decision tree models contain an attribute called `feature_importances_`, which measures the usefulness of each variable in splitting the \"branches\" of a decision tree. We can sidestep \"predictive analytics\" momentarily—into \"descriptive analytics\"—to understand a little better the variables that are driving these decisions."
   ]
  },
  {
   "cell_type": "code",
   "execution_count": 70,
   "metadata": {},
   "outputs": [],
   "source": [
    "# Get array of feature importance values from Random Forest model\n",
    "importances = clf_rf.feature_importances_\n",
    "\n",
    "# Get index of feature names (excluding the Target in column 0)\n",
    "feature_names = df.columns[1:]\n",
    "\n",
    "# Create a \"long-form\" dataframe\n",
    "feature_importance_rf = pd.DataFrame(importances, \n",
    "                                     columns = ['importance'], \n",
    "                                     index = feature_names)\n",
    "\n",
    "# Sort by highest importance\n",
    "feature_importance_rf_sorted = feature_importance_rf.sort_values(by = 'importance', ascending = False)\n",
    "\n",
    "# Cut off at top 10\n",
    "feature_importance_rf_sorted_10 = feature_importance_rf_sorted.iloc[0:10, : ]"
   ]
  },
  {
   "cell_type": "code",
   "execution_count": 71,
   "metadata": {},
   "outputs": [
    {
     "data": {
      "image/png": "[encoded data removed]",
      "text/plain": [
       "<matplotlib.figure.Figure at 0x281e0894828>"
      ]
     },
     "metadata": {},
     "output_type": "display_data"
    }
   ],
   "source": [
    "# Plot feature importance\n",
    "sns.set_style('darkgrid')\n",
    "pal = sns.cubehelix_palette(10, start=.5, rot=-.75, reverse = True)\n",
    "\n",
    "ax = sns.barplot(x = 'importance', y = feature_importance_rf_sorted_10.index,\n",
    "                 data = feature_importance_rf_sorted_10,\n",
    "                 palette = pal)\n",
    "\n",
    "plt.title('Feature Importance (Top 10)', fontproperties = main, fontsize = 18)\n",
    "plt.xlabel('Importance', fontproperties = body, fontsize = 15)\n",
    "plt.xlim(0, 0.14)\n",
    "plt.show()"
   ]
  },
  {
   "cell_type": "markdown",
   "metadata": {},
   "source": [
    "> ***League explained:*** *Feature Importance in Context*\n",
    "> ___\n",
    "> `team_first_tower` is a boolean value which indicates whether the player's team destroyed the first Tower (enemy turret) of the match. If false, the enemy team instead destroyed the player team's First Tower.\n",
    ">\n",
    "> \"First Tower\" represents an early advantage. For one, it provides bonus Gold to each player, allowing them to purchase items sooner. It also allows that team to push farther into enemy territory. Towers are defense turrets which automatically deal damage to enemies within a moderate range. The normal tactic is for the attacking Champions (human players) to allow friendly Minions to enter this range first and take the Tower damage—like pawns in a chess game—so Champions can deal damage to the Tower without being damaged themselves. However, a Tower will shift its focus immediately to a Champion if they attack an enemy Champion while under the Tower. A team loses a defensive advantage, therefore, when one of their Towers is destroyed.\n",
    ">\n",
    "> `damage_dealt_to_objectives` is related to the above. It includes damage done by the player to enemy Towers, along with other similar match objectives.\n",
    ">\n",
    "> `assists` are scored whenever the player participates in defeating an enemy Champion, whether directly (dealing damage) or indirectly (healing and shielding allies in combat).\n",
    ">\n",
    "> `deaths` and features of the type `_damage_taken` can be a function of both the Items a player purchases (to improve their defenses and survivability) and simple positional awareness—that is, \"watch where you're standing, so you don't take avoidable damage\".\n",
    ">\n",
    "> `gold_earned` is a function of the player's `kills`, `assists`, and `total_minions_killed`; their team's destruction of enemy Objectives; and of `duration`—gold is earned passively at a steady rate throughout the match."
   ]
  },
  {
   "cell_type": "raw",
   "metadata": {},
   "source": [
    "<a id = 'collective-intelligence'></a>"
   ]
  },
  {
   "cell_type": "markdown",
   "metadata": {},
   "source": [
    "<br>"
   ]
  },
  {
   "cell_type": "markdown",
   "metadata": {},
   "source": [
    "***See the forest for the trees:*** *(Collective Intelligence)*\n",
    "\n",
    "A single decision tree is a fairly good predictor. However, a group of decision trees can be excellent. Each tree is slightly different—starting at a random location in the data means that every tree will reach conclusions a little differently. When these trees are grouped into a single classifier, correct predictions tend to be reinforced, while random errors cancel out.\n",
    "\n",
    "The result tends to be \"more trees, better answers\", and we can see that clearly by comparing the confusion matrices."
   ]
  },
  {
   "cell_type": "code",
   "execution_count": 72,
   "metadata": {},
   "outputs": [
    {
     "data": {
      "image/png": "[encoded data removed]",
      "text/plain": [
       "<matplotlib.figure.Figure at 0x281df38e1d0>"
      ]
     },
     "metadata": {},
     "output_type": "display_data"
    },
    {
     "data": {
      "image/png": "[encoded data removed]",
      "text/plain": [
       "<matplotlib.figure.Figure at 0x281de5c1358>"
      ]
     },
     "metadata": {},
     "output_type": "display_data"
    },
    {
     "data": {
      "image/png": "[encoded data removed]",
      "text/plain": [
       "<matplotlib.figure.Figure at 0x281de86a5c0>"
      ]
     },
     "metadata": {},
     "output_type": "display_data"
    }
   ],
   "source": [
    "sns.set_style('white')\n",
    "\n",
    "# Decision Tree\n",
    "plt.figure()\n",
    "plot_confusion_matrix(cnf_matrix_dt, classes = target_names, normalize = True, title = '\\n')\n",
    "plt.clim(0, 1.0) # Normalizes color scale to (0, 1) instead of (min, max) values\n",
    "plt.suptitle('Single Decision Tree (DT)', fontproperties = main, fontsize = 16)\n",
    "plt.show()\n",
    "\n",
    "# Extra Trees\n",
    "plt.figure()\n",
    "plot_confusion_matrix(cnf_matrix_xt, classes = target_names, normalize = True, title = '\\n')\n",
    "plt.clim(0, 1.0) # Normalizes color scale to (0, 1) instead of (min, max) values\n",
    "plt.suptitle('30 Decision Trees (XT)', fontproperties = main, fontsize = 16)\n",
    "plt.show()\n",
    "\n",
    "# Random Forest\n",
    "plt.figure()\n",
    "plot_confusion_matrix(cnf_matrix_rf, classes = target_names, normalize = True, title = '\\n')\n",
    "plt.clim(0, 1.0) # Normalizes color scale to (0, 1) instead of (min, max) values\n",
    "plt.suptitle('500 Decision Trees (RF)', fontproperties = main, fontsize = 16)\n",
    "plt.show()"
   ]
  },
  {
   "cell_type": "markdown",
   "metadata": {},
   "source": [
    "The contrast between colors progressively increases as each model improves upon the one before—simply by adding more trees.\n",
    "\n",
    "This illustrates the concept of \"collective intelligence\"—a proven phenomenon that makes a group of ordinary people smarter than a single expert. The foundation of collective intelligence was established with [Condorcet's *jury theorem*](https://en.wikipedia.org/wiki/Condorcet%27s_jury_theorem) in the 18th century.\n",
    "\n",
    "It states that:\n",
    "> *If each voter is more likely than not to vote correctly (p > 0.50), <br>\n",
    "> then adding more voters increases the probability that the majority decision is correct.*\n",
    "\n",
    "[Swarm AI](https://unanimous.ai/insights-2017/) is a fascinaing example of how this is being applied to real-world questions, using human voters, instead of decision trees."
   ]
  },
  {
   "cell_type": "markdown",
   "metadata": {},
   "source": [
    "[Back to Models](#models)"
   ]
  },
  {
   "cell_type": "raw",
   "metadata": {},
   "source": [
    "<a id = 'boosting'></a>"
   ]
  },
  {
   "cell_type": "markdown",
   "metadata": {},
   "source": [
    "<br>"
   ]
  },
  {
   "cell_type": "markdown",
   "metadata": {},
   "source": [
    "#### Boosting on a Decision Tree\n",
    "___\n",
    "This model applies AdaBoost (adaptive boosting) to decision trees, adding weights to \"call out\" misclassified samples in an attempt to improve the success rate of subsequent iterations."
   ]
  },
  {
   "cell_type": "markdown",
   "metadata": {},
   "source": [
    "<center><i>Results in Brief</i></center>\n",
    "\n",
    "| **Model**   |**CV Accuracy**|             **Lift**             |        **CV Spread**        |\n",
    "|-------------|---------------|----------------------------------|-----------------------------|\n",
    "| Default BDT |     75.06%    |<font color=\"green\">+24.45%</font>|<font color=\"darkorange\">14.47%</font>|\n",
    "|Partial Tuned BDT| 78.19%    |<font color=\"green\">+27.59%</font>|<font color=\"darkorange\">12.82%</font>|\n",
    "|Fully Tuned BDT|   80.13%    |<font color=\"green\">+29.53%</font>|<font color=\"deeporange\">17.02%</font>|"
   ]
  },
  {
   "cell_type": "code",
   "execution_count": 73,
   "metadata": {},
   "outputs": [
    {
     "name": "stdout",
     "output_type": "stream",
     "text": [
      "Default Parameters:\n",
      "AdaBoostClassifier(algorithm='SAMME.R',\n",
      "          base_estimator=DecisionTreeClassifier(class_weight=None, criterion='gini', max_depth=None,\n",
      "            max_features=None, max_leaf_nodes=None,\n",
      "            min_impurity_decrease=0.0, min_impurity_split=None,\n",
      "            min_samples_leaf=1, min_samples_split=2,\n",
      "            min_weight_fraction_leaf=0.0, presort=False, random_state=7,\n",
      "            splitter='best'),\n",
      "          learning_rate=1.0, n_estimators=50, random_state=7)\n",
      "\n",
      "BDT Accuracy: 0.7515\n",
      "BDT Lift: 0.2455\n",
      "\n",
      "             precision    recall  f1-score   support\n",
      "\n",
      "       Loss       0.77      0.72      0.75       167\n",
      "        Win       0.73      0.78      0.76       163\n",
      "\n",
      "avg / total       0.75      0.75      0.75       330\n",
      "\n"
     ]
    }
   ],
   "source": [
    "# Boosting, base model\n",
    "from sklearn.ensemble import AdaBoostClassifier\n",
    "from sklearn.tree import DecisionTreeClassifier\n",
    "\n",
    "# Define\n",
    "clf_bdt = AdaBoostClassifier(DecisionTreeClassifier(random_state = 7),\n",
    "                             random_state = 7)\n",
    "# Fit\n",
    "clf_bdt.fit(features_train, target_train)\n",
    "\n",
    "# Predict\n",
    "target_predicted_bdt = clf_bdt.predict(features_test)\n",
    "\n",
    "# Evaluate\n",
    "model_results_default(clf_bdt, target_predicted_bdt, 'BDT')"
   ]
  },
  {
   "cell_type": "markdown",
   "metadata": {},
   "source": [
    "> Printing the default parameters tells us that the base Boosting model uses 50 trees (`n_estimators=50`)"
   ]
  },
  {
   "cell_type": "code",
   "execution_count": 74,
   "metadata": {},
   "outputs": [
    {
     "name": "stdout",
     "output_type": "stream",
     "text": [
      "Cross Validation Score for each K:\n",
      "[ 0.7949  0.7179  0.7051  0.7821  0.7532\n",
      "  0.7922  0.7368  0.7632  0.8026  0.6579]\n",
      "\n",
      "Range: 0.1447\n",
      "\n",
      "Average: 0.7506\n",
      "Lift: 0.2445\n",
      "\n"
     ]
    }
   ],
   "source": [
    "# Verify with 10-fold Cross-validation\n",
    "scores = cross_val_score(clf_bdt, features_train, target_train, cv = 10)\n",
    "\n",
    "np.set_printoptions(formatter = {'float': '{: 0.4f}'.format}, linewidth = 45)\n",
    "\n",
    "print(cv_results(scores))"
   ]
  },
  {
   "cell_type": "markdown",
   "metadata": {},
   "source": [
    "Tuning only the parameters for the underlying tree (identical to the tuning of the single decision tree), we get . . ."
   ]
  },
  {
   "cell_type": "code",
   "execution_count": 75,
   "metadata": {},
   "outputs": [
    {
     "name": "stdout",
     "output_type": "stream",
     "text": [
      "BDT Accuracy: 0.8121\n",
      "BDT Lift: 0.3061\n",
      "\n",
      "             precision    recall  f1-score   support\n",
      "\n",
      "       Loss       0.79      0.85      0.82       167\n",
      "        Win       0.83      0.77      0.80       163\n",
      "\n",
      "avg / total       0.81      0.81      0.81       330\n",
      "\n"
     ]
    }
   ],
   "source": [
    "# Boosting, tuned learner\n",
    "from sklearn.ensemble import AdaBoostClassifier\n",
    "from sklearn.tree import DecisionTreeClassifier\n",
    "\n",
    "# Define\n",
    "clf_bdt = AdaBoostClassifier(DecisionTreeClassifier(criterion = 'gini', \n",
    "                                                    class_weight = 'balanced',  \n",
    "                                                    max_features = 28, \n",
    "                                                    min_samples_split = 11, \n",
    "                                                    random_state = 7),\n",
    "                             random_state = 7)\n",
    "# Fit\n",
    "clf_bdt.fit(features_train, target_train)\n",
    "\n",
    "# Predict\n",
    "target_predicted_bdt = clf_bdt.predict(features_test)\n",
    "\n",
    "# Evaluate\n",
    "model_results(clf_bdt, target_predicted_bdt, 'BDT')"
   ]
  },
  {
   "cell_type": "code",
   "execution_count": 76,
   "metadata": {},
   "outputs": [
    {
     "name": "stdout",
     "output_type": "stream",
     "text": [
      "Running time: 00:00:01\n",
      "\n",
      "Cross Validation Score for each K:\n",
      "[ 0.7692  0.7051  0.7821  0.8333  0.8312\n",
      "  0.7273  0.7368  0.8026  0.8158  0.8158]\n",
      "\n",
      "Range: 0.1282\n",
      "\n",
      "Average: 0.7819\n",
      "Lift: 0.2759\n",
      "\n"
     ]
    }
   ],
   "source": [
    "# Verify with 10-fold Cross-validation\n",
    "start_time = time.time()\n",
    "\n",
    "scores = cross_val_score(clf_bdt, features_train, target_train, cv = 10)\n",
    "\n",
    "np.set_printoptions(formatter = {'float': '{: 0.4f}'.format}, linewidth = 45)\n",
    "\n",
    "running_time()\n",
    "print(cv_results(scores))"
   ]
  },
  {
   "cell_type": "markdown",
   "metadata": {},
   "source": [
    "We can also adjust the parameters for the overall AdaBoost model. These are `n_estimators` and `learning_rate`.\n",
    "\n",
    "The first parameter is easy. More trees are better, right? <br>\n",
    "Learning rate is more complicated, though. This reflects the weight that AdaBoost assigns to values misclassified by one tree in an effort to \"learn\" from mistakes with the next tree.\n",
    "\n",
    "`GridSearchCV` can be used to iterate through a range of possible values for `learning_rate`. The grid search will print the best parameter in its range, based on the average Accuracy from 10-fold cross-validation."
   ]
  },
  {
   "cell_type": "code",
   "execution_count": 77,
   "metadata": {},
   "outputs": [
    {
     "name": "stdout",
     "output_type": "stream",
     "text": [
      "Running time: 00:03:08\n",
      "\n",
      "Best Score:  0.8182\n",
      "Best Params: {'learning_rate': 1.360000000000001}\n"
     ]
    }
   ],
   "source": [
    "# Grid search for Boosting\n",
    "start_time = time.time()\n",
    "\n",
    "# Define the model to test\n",
    "clf_bdt = AdaBoostClassifier(DecisionTreeClassifier(criterion = 'gini', \n",
    "                                                    class_weight = 'balanced',  \n",
    "                                                    max_features = 28, \n",
    "                                                    min_samples_split = 11, \n",
    "                                                    random_state = 7), \n",
    "                             n_estimators = 100, \n",
    "                             random_state = 7)\n",
    "\n",
    "# Define range of parameters\n",
    "param_grid = {\n",
    "    'learning_rate': np.arange(0.25, 2.50, # Search range\n",
    "                               0.01)       # Search increments\n",
    "}\n",
    "\n",
    "# Run grid search with 10-fold CV\n",
    "grid_search = GridSearchCV(clf_bdt,  # <- Specify model to use\n",
    "                           param_grid = param_grid, \n",
    "                           scoring = 'accuracy',\n",
    "                           n_jobs = -1,  # Parallel processing. -1 to use all available cores\n",
    "                           cv = 10)\n",
    "\n",
    "grid_search.fit(features_train, target_train)\n",
    "\n",
    "running_time()\n",
    "print(\"Best Score: {0: .4f}\".format(grid_search.best_score_))\n",
    "print(\"Best Params: {}\".format(grid_search.best_params_))"
   ]
  },
  {
   "cell_type": "markdown",
   "metadata": {},
   "source": [
    "Plug in the best result, `learning_rate = 1.36`, and dial up the trees to 500."
   ]
  },
  {
   "cell_type": "code",
   "execution_count": 78,
   "metadata": {},
   "outputs": [
    {
     "name": "stdout",
     "output_type": "stream",
     "text": [
      "Running time: 00:00:01\n",
      "\n",
      "BDT Accuracy: 0.8364\n",
      "BDT Lift: 0.3303\n",
      "\n",
      "             precision    recall  f1-score   support\n",
      "\n",
      "       Loss       0.83      0.85      0.84       167\n",
      "        Win       0.84      0.82      0.83       163\n",
      "\n",
      "avg / total       0.84      0.84      0.84       330\n",
      "\n"
     ]
    }
   ],
   "source": [
    "# Boosting, tuned learner and model\n",
    "from sklearn.ensemble import AdaBoostClassifier\n",
    "from sklearn.tree import DecisionTreeClassifier\n",
    "start_time = time.time()\n",
    "\n",
    "# Define\n",
    "clf_bdt = AdaBoostClassifier(DecisionTreeClassifier(criterion = 'gini', \n",
    "                                                    class_weight = 'balanced',  \n",
    "                                                    max_features = 28, \n",
    "                                                    min_samples_split = 11, \n",
    "                                                    random_state = 7), \n",
    "                             n_estimators = 500, \n",
    "                             learning_rate = 1.36,\n",
    "                             random_state = 7)\n",
    "# Fit\n",
    "clf_bdt.fit(features_train, target_train)\n",
    "\n",
    "# Predict\n",
    "target_predicted_bdt = clf_bdt.predict(features_test)\n",
    "\n",
    "# Evaluate\n",
    "running_time()\n",
    "model_results(clf_bdt, target_predicted_bdt, 'BDT')"
   ]
  },
  {
   "cell_type": "code",
   "execution_count": 79,
   "metadata": {},
   "outputs": [
    {
     "name": "stdout",
     "output_type": "stream",
     "text": [
      "Running time: 00:00:16\n",
      "\n",
      "Cross Validation Score for each K:\n",
      "[ 0.8205  0.7564  0.7821  0.8974  0.7273\n",
      "  0.7532  0.8026  0.7895  0.8421  0.8421]\n",
      "\n",
      "Range: 0.1702\n",
      "\n",
      "Average: 0.8013\n",
      "Lift: 0.2953\n",
      "\n"
     ]
    }
   ],
   "source": [
    "# Verify with 10-fold Cross-validation\n",
    "start_time = time.time()\n",
    "\n",
    "scores = cross_val_score(clf_bdt, features_train, target_train, cv = 10)\n",
    "\n",
    "np.set_printoptions(formatter = {'float': '{: 0.4f}'.format}, linewidth = 45)\n",
    "\n",
    "running_time()\n",
    "print(cv_results(scores))"
   ]
  },
  {
   "cell_type": "markdown",
   "metadata": {},
   "source": [
    "> Although the grid search used CV to find the `learning_rate` parameter that gave the best average accuracy, it seems not to have accounted for the spread of individual CV results."
   ]
  },
  {
   "cell_type": "code",
   "execution_count": 80,
   "metadata": {},
   "outputs": [
    {
     "data": {
      "image/png": "[encoded data removed]",
      "text/plain": [
       "<matplotlib.figure.Figure at 0x281de5c1860>"
      ]
     },
     "metadata": {},
     "output_type": "display_data"
    },
    {
     "data": {
      "text/html": [
       "<div>\n",
       "<style scoped>\n",
       "    .dataframe tbody tr th:only-of-type {\n",
       "        vertical-align: middle;\n",
       "    }\n",
       "\n",
       "    .dataframe tbody tr th {\n",
       "        vertical-align: top;\n",
       "    }\n",
       "\n",
       "    .dataframe thead th {\n",
       "        text-align: right;\n",
       "    }\n",
       "</style>\n",
       "<table border=\"1\" class=\"dataframe\">\n",
       "  <thead>\n",
       "    <tr style=\"text-align: right;\">\n",
       "      <th></th>\n",
       "      <th>Pred L</th>\n",
       "      <th>Pred W</th>\n",
       "    </tr>\n",
       "  </thead>\n",
       "  <tbody>\n",
       "    <tr>\n",
       "      <th>True L</th>\n",
       "      <td>142</td>\n",
       "      <td>25</td>\n",
       "    </tr>\n",
       "    <tr>\n",
       "      <th>True W</th>\n",
       "      <td>29</td>\n",
       "      <td>134</td>\n",
       "    </tr>\n",
       "  </tbody>\n",
       "</table>\n",
       "</div>"
      ],
      "text/plain": [
       "        Pred L  Pred W\n",
       "True L     142      25\n",
       "True W      29     134"
      ]
     },
     "execution_count": 80,
     "metadata": {},
     "output_type": "execute_result"
    }
   ],
   "source": [
    "# Confusion Matrix for Boosting, tuned model\n",
    "\n",
    "# Compute confusion matrix\n",
    "cnf_matrix_bdt = confusion_matrix(target_test, target_predicted_bdt)  # <- Specify model to use\n",
    "np.set_printoptions(precision = 2)\n",
    "\n",
    "# Plot normalized confusion matrix\n",
    "plt.figure()\n",
    "plot_confusion_matrix(cnf_matrix_bdt, classes = target_names, normalize = True, title = '\\n')\n",
    "plt.clim(0, 1.0) # Normalizes color scale to (0, 1) instead of (min, max) values\n",
    "plt.suptitle('BDT Confusion Matrix, normalized', fontproperties = main, fontsize = 16)\n",
    "plt.show()\n",
    "\n",
    "# View absolute count matrix in a table\n",
    "tidy(cnf_matrix_bdt)"
   ]
  },
  {
   "cell_type": "markdown",
   "metadata": {},
   "source": [
    "[Back to Models](#models)"
   ]
  },
  {
   "cell_type": "raw",
   "metadata": {},
   "source": [
    "<a id = 'gradient-boosting'></a>"
   ]
  },
  {
   "cell_type": "markdown",
   "metadata": {},
   "source": [
    "<br>"
   ]
  },
  {
   "cell_type": "markdown",
   "metadata": {},
   "source": [
    "#### Gradient Boosting\n",
    "___"
   ]
  },
  {
   "cell_type": "markdown",
   "metadata": {},
   "source": [
    "<center><i>Results in Brief</i></center>\n",
    "\n",
    "| **Model**   |**CV Accuracy**|             **Lift**             |        **CV Spread**        |\n",
    "|-------------|---------------|----------------------------------|-----------------------------|\n",
    "| Default GBC |     80.79%    |<font color=\"green\">+30.18%</font>|<font color=\"darkorange\">10.20%</font>|\n",
    "| Tuned GBC   |     81.05%    |<font color=\"green\">+30.44%</font>|<font color=\"yellowgreen\">7.59%</font>|"
   ]
  },
  {
   "cell_type": "code",
   "execution_count": 81,
   "metadata": {},
   "outputs": [
    {
     "name": "stdout",
     "output_type": "stream",
     "text": [
      "Default Parameters:\n",
      "GradientBoostingClassifier(criterion='friedman_mse', init=None,\n",
      "              learning_rate=0.1, loss='deviance', max_depth=3,\n",
      "              max_features=None, max_leaf_nodes=None,\n",
      "              min_impurity_decrease=0.0, min_impurity_split=None,\n",
      "              min_samples_leaf=1, min_samples_split=2,\n",
      "              min_weight_fraction_leaf=0.0, n_estimators=100,\n",
      "              presort='auto', random_state=7, subsample=1.0, verbose=0,\n",
      "              warm_start=False)\n",
      "\n",
      "GBC Accuracy: 0.8606\n",
      "GBC Lift: 0.3545\n",
      "\n",
      "             precision    recall  f1-score   support\n",
      "\n",
      "       Loss       0.88      0.84      0.86       167\n",
      "        Win       0.85      0.88      0.86       163\n",
      "\n",
      "avg / total       0.86      0.86      0.86       330\n",
      "\n"
     ]
    }
   ],
   "source": [
    "# Gradient Boosting, base model\n",
    "from sklearn.ensemble import GradientBoostingClassifier\n",
    "\n",
    "# Define\n",
    "clf_gbc = GradientBoostingClassifier(random_state = 7)\n",
    "\n",
    "# Fit\n",
    "clf_gbc.fit(features_train, target_train)\n",
    "\n",
    "# Predict\n",
    "target_predicted_gbc = clf_gbc.predict(features_test)\n",
    "\n",
    "# Evaluate\n",
    "model_results_default(clf_gbc, target_predicted_gbc, 'GBC')"
   ]
  },
  {
   "cell_type": "code",
   "execution_count": 82,
   "metadata": {},
   "outputs": [
    {
     "name": "stdout",
     "output_type": "stream",
     "text": [
      "Running time: 00:00:04\n",
      "\n",
      "Cross Validation Score for each K:\n",
      "[ 0.8333  0.7949  0.7821  0.8205  0.7532\n",
      "  0.7922  0.8158  0.8553  0.8421  0.7895]\n",
      "\n",
      "Range: 0.1020\n",
      "\n",
      "Average: 0.8079\n",
      "Lift: 0.3018\n",
      "\n"
     ]
    }
   ],
   "source": [
    "# Verify with 10-fold Cross-validation\n",
    "start_time = time.time()\n",
    "\n",
    "scores = cross_val_score(clf_gbc, features_train, target_train, cv = 10)\n",
    "\n",
    "np.set_printoptions(formatter = {'float': '{: 0.4f}'.format}, linewidth = 45)\n",
    "\n",
    "running_time()\n",
    "print(cv_results(scores))"
   ]
  },
  {
   "cell_type": "markdown",
   "metadata": {},
   "source": [
    "> These are some of the best results so far, and this is only the default model.\n",
    ">\n",
    "> Let's see where tuning will take us."
   ]
  },
  {
   "cell_type": "code",
   "execution_count": 83,
   "metadata": {},
   "outputs": [
    {
     "name": "stdout",
     "output_type": "stream",
     "text": [
      "GBC Accuracy: 0.8485\n",
      "GBC Lift: 0.3424\n",
      "\n",
      "             precision    recall  f1-score   support\n",
      "\n",
      "       Loss       0.84      0.86      0.85       167\n",
      "        Win       0.86      0.83      0.84       163\n",
      "\n",
      "avg / total       0.85      0.85      0.85       330\n",
      "\n"
     ]
    }
   ],
   "source": [
    "# Gradient Boosting, tuned model\n",
    "from sklearn.ensemble import GradientBoostingClassifier\n",
    "\n",
    "# Define\n",
    "clf_gbc = GradientBoostingClassifier(learning_rate = 0.10, \n",
    "                                     n_estimators = 200, \n",
    "                                     min_samples_split = 15, \n",
    "                                     min_samples_leaf = 3,\n",
    "                                     random_state = 7)\n",
    "\n",
    "# Fit\n",
    "clf_gbc.fit(features_train, target_train)\n",
    "\n",
    "# Predict\n",
    "target_predicted_gbc = clf_gbc.predict(features_test)\n",
    "\n",
    "# Evaluate\n",
    "model_results(clf_gbc, target_predicted_gbc, 'GBC')"
   ]
  },
  {
   "cell_type": "code",
   "execution_count": 84,
   "metadata": {},
   "outputs": [
    {
     "name": "stdout",
     "output_type": "stream",
     "text": [
      "Running time: 00:00:08\n",
      "\n",
      "Cross Validation Score for each K:\n",
      "[ 0.8077  0.7821  0.8077  0.8333  0.8052\n",
      "  0.7662  0.8026  0.8289  0.8421  0.8289]\n",
      "\n",
      "Range: 0.0759\n",
      "\n",
      "Average: 0.8105\n",
      "Lift: 0.3044\n",
      "\n"
     ]
    }
   ],
   "source": [
    "# Verify with 10-fold Cross-validation\n",
    "start_time = time.time()\n",
    "\n",
    "scores = cross_val_score(clf_gbc, features_train, target_train, cv = 10)\n",
    "\n",
    "np.set_printoptions(formatter = {'float': '{: 0.4f}'.format}, linewidth = 45)\n",
    "\n",
    "running_time()\n",
    "print(cv_results(scores))"
   ]
  },
  {
   "cell_type": "code",
   "execution_count": 85,
   "metadata": {},
   "outputs": [
    {
     "data": {
      "image/png": "[encoded data removed]",
      "text/plain": [
       "<matplotlib.figure.Figure at 0x281de78df60>"
      ]
     },
     "metadata": {},
     "output_type": "display_data"
    },
    {
     "data": {
      "text/html": [
       "<div>\n",
       "<style scoped>\n",
       "    .dataframe tbody tr th:only-of-type {\n",
       "        vertical-align: middle;\n",
       "    }\n",
       "\n",
       "    .dataframe tbody tr th {\n",
       "        vertical-align: top;\n",
       "    }\n",
       "\n",
       "    .dataframe thead th {\n",
       "        text-align: right;\n",
       "    }\n",
       "</style>\n",
       "<table border=\"1\" class=\"dataframe\">\n",
       "  <thead>\n",
       "    <tr style=\"text-align: right;\">\n",
       "      <th></th>\n",
       "      <th>Pred L</th>\n",
       "      <th>Pred W</th>\n",
       "    </tr>\n",
       "  </thead>\n",
       "  <tbody>\n",
       "    <tr>\n",
       "      <th>True L</th>\n",
       "      <td>144</td>\n",
       "      <td>23</td>\n",
       "    </tr>\n",
       "    <tr>\n",
       "      <th>True W</th>\n",
       "      <td>27</td>\n",
       "      <td>136</td>\n",
       "    </tr>\n",
       "  </tbody>\n",
       "</table>\n",
       "</div>"
      ],
      "text/plain": [
       "        Pred L  Pred W\n",
       "True L     144      23\n",
       "True W      27     136"
      ]
     },
     "execution_count": 85,
     "metadata": {},
     "output_type": "execute_result"
    }
   ],
   "source": [
    "# Confusion Matrix for Gradient Boosting, tuned model\n",
    "\n",
    "# Compute confusion matrix\n",
    "cnf_matrix_gbc = confusion_matrix(target_test, target_predicted_gbc)  # <- Specify model to use\n",
    "np.set_printoptions(precision = 2)\n",
    "\n",
    "# Plot normalized confusion matrix\n",
    "plt.figure()\n",
    "plot_confusion_matrix(cnf_matrix_gbc, classes = target_names, normalize = True, title = '\\n')\n",
    "plt.clim(0, 1.0) # Normalizes color scale to (0, 1) instead of (min, max) values\n",
    "plt.suptitle('GBC Confusion Matrix, normalized', fontproperties = main, fontsize = 16)\n",
    "plt.show()\n",
    "\n",
    "# View absolute count matrix in a table\n",
    "tidy(cnf_matrix_gbc)"
   ]
  },
  {
   "cell_type": "markdown",
   "metadata": {},
   "source": [
    "[Back to Models](#models)"
   ]
  },
  {
   "cell_type": "raw",
   "metadata": {},
   "source": [
    "<a id = 'bagging'></a>"
   ]
  },
  {
   "cell_type": "markdown",
   "metadata": {},
   "source": [
    "<br>"
   ]
  },
  {
   "cell_type": "markdown",
   "metadata": {},
   "source": [
    "#### Bagging\n",
    "___\n",
    "Actually short for \"Bootstrap aggregating\", bagging involves sampling the dataset at random \"with replacement\", i.e. the same item can be drawn into a sample more than once. The decision trees trained on these \"bootstrapped\" data samples are then aggregated to make final predictions."
   ]
  },
  {
   "cell_type": "markdown",
   "metadata": {},
   "source": [
    "<center><i>Results in Brief</i></center>\n",
    "\n",
    "| **Model**   |**CV Accuracy**|             **Lift**             |        **CV Spread**        |\n",
    "|-------------|---------------|----------------------------------|-----------------------------|\n",
    "| Default BAG |     79.87%    |<font color=\"green\">+29.26%</font>|<font color=\"deeporange\">17.99%</font>|\n",
    "|   Tuned BAG |     80.78%    |<font color=\"green\">+30.18%</font>|<font color=\"yellowgreen\">8.27%</font>|"
   ]
  },
  {
   "cell_type": "code",
   "execution_count": 86,
   "metadata": {},
   "outputs": [
    {
     "name": "stdout",
     "output_type": "stream",
     "text": [
      "Running time: 00:00:18\n",
      "\n",
      "Default Parameters:\n",
      "BaggingClassifier(base_estimator=None, bootstrap=True,\n",
      "         bootstrap_features=False, max_features=1.0, max_samples=1.0,\n",
      "         n_estimators=10, n_jobs=-1, oob_score=False, random_state=7,\n",
      "         verbose=0, warm_start=False)\n",
      "\n",
      "BAG Accuracy: 0.8212\n",
      "BAG Lift: 0.3152\n",
      "\n",
      "             precision    recall  f1-score   support\n",
      "\n",
      "       Loss       0.84      0.80      0.82       167\n",
      "        Win       0.80      0.85      0.82       163\n",
      "\n",
      "avg / total       0.82      0.82      0.82       330\n",
      "\n"
     ]
    }
   ],
   "source": [
    "# Bagging, base model\n",
    "from sklearn.ensemble import BaggingClassifier\n",
    "start_time = time.time()\n",
    "\n",
    "# Define\n",
    "clf_bag = BaggingClassifier(n_jobs = -1,\n",
    "                            random_state = 7)\n",
    "\n",
    "# Fit\n",
    "clf_bag.fit(features_train, target_train)\n",
    "\n",
    "# Predict\n",
    "target_predicted_bag = clf_bag.predict(features_test)\n",
    "\n",
    "# Evaluate\n",
    "running_time()\n",
    "model_results_default(clf_bag, target_predicted_bag, 'BAG')"
   ]
  },
  {
   "cell_type": "code",
   "execution_count": 87,
   "metadata": {},
   "outputs": [
    {
     "name": "stdout",
     "output_type": "stream",
     "text": [
      "Running time: 00:02:11\n",
      "\n",
      "Cross Validation Score for each K:\n",
      "[ 0.8205  0.8077  0.7821  0.8205  0.6753\n",
      "  0.8442  0.8026  0.8553  0.8289  0.7500]\n",
      "\n",
      "Range: 0.1799\n",
      "\n",
      "Average: 0.7987\n",
      "Lift: 0.2926\n",
      "\n"
     ]
    }
   ],
   "source": [
    "# Verify with 10-fold Cross-validation\n",
    "start_time = time.time()\n",
    "\n",
    "scores = cross_val_score(clf_bag, features_train, target_train, cv = 10)\n",
    "\n",
    "np.set_printoptions(formatter = {'float': '{: 0.4f}'.format}, linewidth = 45)\n",
    "\n",
    "running_time()\n",
    "print(cv_results(scores))"
   ]
  },
  {
   "cell_type": "markdown",
   "metadata": {},
   "source": [
    "Adjusting some parameters:"
   ]
  },
  {
   "cell_type": "code",
   "execution_count": 88,
   "metadata": {},
   "outputs": [
    {
     "name": "stdout",
     "output_type": "stream",
     "text": [
      "Running time: 00:00:13\n",
      "\n",
      "BAG Accuracy: 0.8455\n",
      "BAG Lift: 0.3394\n",
      "\n",
      "             precision    recall  f1-score   support\n",
      "\n",
      "       Loss       0.85      0.84      0.85       167\n",
      "        Win       0.84      0.85      0.84       163\n",
      "\n",
      "avg / total       0.85      0.85      0.85       330\n",
      "\n"
     ]
    }
   ],
   "source": [
    "# Bagging, tuned model\n",
    "from sklearn.ensemble import BaggingClassifier\n",
    "start_time = time.time()\n",
    "\n",
    "# Define\n",
    "clf_bag = BaggingClassifier(n_estimators = 500, \n",
    "                            max_features = 0.9, \n",
    "                            max_samples = 0.8,\n",
    "                            n_jobs = -1,\n",
    "                            random_state = 7)\n",
    "\n",
    "# Fit\n",
    "clf_bag.fit(features_train, target_train)\n",
    "\n",
    "# Predict\n",
    "target_predicted_bag = clf_bag.predict(features_test)\n",
    "\n",
    "# Evaluate\n",
    "running_time()\n",
    "model_results(clf_bag, target_predicted_bag, 'BAG')"
   ]
  },
  {
   "cell_type": "code",
   "execution_count": 89,
   "metadata": {},
   "outputs": [
    {
     "name": "stdout",
     "output_type": "stream",
     "text": [
      "Running time: 00:02:31\n",
      "\n",
      "Cross Validation Score for each K:\n",
      "[ 0.7949  0.8077  0.7821  0.8590  0.7792\n",
      "  0.7922  0.7763  0.8289  0.8421  0.8158]\n",
      "\n",
      "Range: 0.0827\n",
      "\n",
      "Average: 0.8078\n",
      "Lift: 0.3018\n",
      "\n"
     ]
    }
   ],
   "source": [
    "# Verify with 10-fold Cross-validation\n",
    "start_time = time.time()\n",
    "\n",
    "scores = cross_val_score(clf_bag, features_train, target_train, cv = 10)\n",
    "\n",
    "np.set_printoptions(formatter = {'float': '{: 0.4f}'.format}, linewidth = 45)\n",
    "\n",
    "running_time()\n",
    "print(cv_results(scores))"
   ]
  },
  {
   "cell_type": "code",
   "execution_count": 90,
   "metadata": {},
   "outputs": [
    {
     "data": {
      "image/png": "[encoded data removed]",
      "text/plain": [
       "<matplotlib.figure.Figure at 0x281de84c898>"
      ]
     },
     "metadata": {},
     "output_type": "display_data"
    },
    {
     "data": {
      "text/html": [
       "<div>\n",
       "<style scoped>\n",
       "    .dataframe tbody tr th:only-of-type {\n",
       "        vertical-align: middle;\n",
       "    }\n",
       "\n",
       "    .dataframe tbody tr th {\n",
       "        vertical-align: top;\n",
       "    }\n",
       "\n",
       "    .dataframe thead th {\n",
       "        text-align: right;\n",
       "    }\n",
       "</style>\n",
       "<table border=\"1\" class=\"dataframe\">\n",
       "  <thead>\n",
       "    <tr style=\"text-align: right;\">\n",
       "      <th></th>\n",
       "      <th>Pred L</th>\n",
       "      <th>Pred W</th>\n",
       "    </tr>\n",
       "  </thead>\n",
       "  <tbody>\n",
       "    <tr>\n",
       "      <th>True L</th>\n",
       "      <td>140</td>\n",
       "      <td>27</td>\n",
       "    </tr>\n",
       "    <tr>\n",
       "      <th>True W</th>\n",
       "      <td>24</td>\n",
       "      <td>139</td>\n",
       "    </tr>\n",
       "  </tbody>\n",
       "</table>\n",
       "</div>"
      ],
      "text/plain": [
       "        Pred L  Pred W\n",
       "True L     140      27\n",
       "True W      24     139"
      ]
     },
     "execution_count": 90,
     "metadata": {},
     "output_type": "execute_result"
    }
   ],
   "source": [
    "# Confusion Matrix for Bagging, tuned model\n",
    "\n",
    "# Compute confusion matrix\n",
    "cnf_matrix_bag = confusion_matrix(target_test, target_predicted_bag)  # <- Specify model to use\n",
    "np.set_printoptions(precision = 2)\n",
    "\n",
    "# Plot normalized confusion matrix\n",
    "plt.figure()\n",
    "plot_confusion_matrix(cnf_matrix_bag, classes = target_names, normalize = True, title = '\\n')\n",
    "plt.clim(0, 1.0) # Normalizes color scale to (0, 1) instead of (min, max) values\n",
    "plt.suptitle('BAG Confusion Matrix, normalized', fontproperties = main, fontsize = 16)\n",
    "plt.show()\n",
    "\n",
    "# View absolute count matrix in a table\n",
    "tidy(cnf_matrix_bag)"
   ]
  },
  {
   "cell_type": "markdown",
   "metadata": {},
   "source": [
    "[Back to Models](#models)"
   ]
  },
  {
   "cell_type": "raw",
   "metadata": {},
   "source": [
    "<a id = 'logistic-regression'></a>"
   ]
  },
  {
   "cell_type": "markdown",
   "metadata": {},
   "source": [
    "<br>"
   ]
  },
  {
   "cell_type": "markdown",
   "metadata": {},
   "source": [
    "#### Logistic Regression\n",
    "___"
   ]
  },
  {
   "cell_type": "markdown",
   "metadata": {},
   "source": [
    "<center><i>Results in Brief</i></center>\n",
    "\n",
    "|    **Model**     |**CV Accuracy**|             **Lift**             |        **CV Spread**        |\n",
    "|------------------|---------------|----------------------------------|-----------------------------|\n",
    "| Default LOG (L2) |     83.65%    |<font color=\"green\">+33.05%</font>|<font color=\"deeporange\">15.46%</font>|\n",
    "|   Tuned LOG (L2) |     80.13%    |<font color=\"green\">+29.53%</font>|<font color=\"yellowgreen\">8.97%</font>|\n",
    "|   Tuned LOG (L1) |     80.66%    |<font color=\"green\">+30.05%</font>|<font color=\"yellowgreen\">7.29%</font>|"
   ]
  },
  {
   "cell_type": "markdown",
   "metadata": {},
   "source": [
    "All the classifier models up to this point have been based on the Decision Tree. Although subsequent models improved greatly upon the results of a single tree, the overall pattern of results remained very similar.\n",
    "\n",
    "Now, we will examine some entirely different classes of models. The first is Logistic Regression. While decision trees predict by splitting data into a hierarchy of yes/no decision paths, Logistic Regression predicts by estimating the ***probability*** of an outcome (in this case, a Win or Loss).\n",
    "\n",
    "Logistic Regression employs special normalization algorithms that adjust weights of each individual variable based on its importance. This is where the [scaled](#prep) dataset will come into play. By adjusting all variables to the same scale—from 0 to 1—we ensure that some variabled won't dominate simply by virtue of measuring larger numbers. \n",
    "\n",
    "For example, the `kills` variable has a range (0, 31), while `total_damage_dealt` has a range of ~ 6,000 to 300,000. (see [Summary Stats](#special-prep) for full details). Scaling puts these vastly different measurements on equal footing."
   ]
  },
  {
   "cell_type": "code",
   "execution_count": 91,
   "metadata": {},
   "outputs": [
    {
     "name": "stdout",
     "output_type": "stream",
     "text": [
      "Running time: 00:00:00\n",
      "\n",
      "Default Parameters:\n",
      "LogisticRegression(C=1.0, class_weight=None, dual=False, fit_intercept=True,\n",
      "          intercept_scaling=1, max_iter=100, multi_class='ovr', n_jobs=1,\n",
      "          penalty='l2', random_state=7, solver='liblinear', tol=0.0001,\n",
      "          verbose=0, warm_start=False)\n",
      "\n",
      "LOG Accuracy: 0.7667\n",
      "LOG Lift: 0.2606\n",
      "\n",
      "             precision    recall  f1-score   support\n",
      "\n",
      "       Loss       0.76      0.78      0.77       167\n",
      "        Win       0.77      0.75      0.76       163\n",
      "\n",
      "avg / total       0.77      0.77      0.77       330\n",
      "\n"
     ]
    }
   ],
   "source": [
    "# Logistic Regression, base model\n",
    "from sklearn.linear_model import LogisticRegression\n",
    "start_time = time.time()\n",
    "\n",
    "# Define\n",
    "clf_log = LogisticRegression(random_state = 7)\n",
    "\n",
    "# Fit\n",
    "clf_log.fit(features_train_scaled, target_train)\n",
    "\n",
    "# Predict\n",
    "target_predicted_log = clf_log.predict(features_test_scaled)\n",
    "\n",
    "# Evaluate\n",
    "running_time()\n",
    "model_results_default(clf_log, target_predicted_log, 'LOG')"
   ]
  },
  {
   "cell_type": "code",
   "execution_count": 92,
   "metadata": {},
   "outputs": [
    {
     "name": "stdout",
     "output_type": "stream",
     "text": [
      "Running time: 00:00:01\n",
      "\n",
      "Cross Validation Score for each K:\n",
      "[ 0.8846  0.7564  0.8077  0.8718  0.7532\n",
      "  0.8442  0.8026  0.8947  0.9079  0.8421]\n",
      "\n",
      "Range: 0.1546\n",
      "\n",
      "Average: 0.8365\n",
      "Lift: 0.3305\n",
      "\n"
     ]
    }
   ],
   "source": [
    "# Verify with 10-fold Cross-validation\n",
    "start_time = time.time()\n",
    "\n",
    "scores = cross_val_score(clf_log, features_train, target_train, cv = 10)\n",
    "\n",
    "np.set_printoptions(formatter = {'float': '{: 0.4f}'.format}, linewidth = 45)\n",
    "\n",
    "running_time()\n",
    "print(cv_results(scores))"
   ]
  },
  {
   "cell_type": "code",
   "execution_count": 93,
   "metadata": {},
   "outputs": [
    {
     "name": "stdout",
     "output_type": "stream",
     "text": [
      "Running time: 00:00:00\n",
      "\n",
      "LOG-L2 Accuracy: 0.7727\n",
      "LOG-L2 Lift: 0.2667\n",
      "\n",
      "             precision    recall  f1-score   support\n",
      "\n",
      "       Loss       0.77      0.78      0.78       167\n",
      "        Win       0.77      0.77      0.77       163\n",
      "\n",
      "avg / total       0.77      0.77      0.77       330\n",
      "\n"
     ]
    }
   ],
   "source": [
    "# Logistic Regression, tuned model (L2 penalty)\n",
    "from sklearn.linear_model import LogisticRegression\n",
    "start_time = time.time()\n",
    "\n",
    "# Define\n",
    "clf_log_l2 = LogisticRegression(solver = 'saga', \n",
    "                                penalty = 'l2',\n",
    "                                class_weight = None, \n",
    "                                C = 0.75, \n",
    "                                max_iter = 10000,\n",
    "                                n_jobs = -1,\n",
    "                                random_state = 7)\n",
    "\n",
    "# Fit\n",
    "clf_log_l2.fit(features_train_scaled, target_train)\n",
    "\n",
    "# Predict\n",
    "target_predicted_log_l2 = clf_log_l2.predict(features_test_scaled)\n",
    "\n",
    "# Evaluate\n",
    "running_time()\n",
    "model_results(clf_log_l2, target_predicted_log_l2, 'LOG-L2')"
   ]
  },
  {
   "cell_type": "code",
   "execution_count": 94,
   "metadata": {},
   "outputs": [
    {
     "name": "stdout",
     "output_type": "stream",
     "text": [
      "Running time: 00:00:03\n",
      "\n",
      "Cross Validation Score for each K:\n",
      "[ 0.7436  0.8333  0.8205  0.7821  0.7922\n",
      "  0.8312  0.7500  0.8289  0.8158  0.8158]\n",
      "\n",
      "Range: 0.0897\n",
      "\n",
      "Average: 0.8013\n",
      "Lift: 0.2953\n",
      "\n"
     ]
    }
   ],
   "source": [
    "# Verify with 10-fold Cross-validation\n",
    "start_time = time.time()\n",
    "\n",
    "scores = cross_val_score(clf_log_l2, features_train_scaled, target_train, cv = 10)\n",
    "\n",
    "np.set_printoptions(formatter = {'float': '{: 0.4f}'.format}, linewidth = 45)\n",
    "\n",
    "running_time()\n",
    "print(cv_results(scores))"
   ]
  },
  {
   "cell_type": "code",
   "execution_count": 95,
   "metadata": {},
   "outputs": [
    {
     "data": {
      "image/png": "[encoded data removed]",
      "text/plain": [
       "<matplotlib.figure.Figure at 0x281df3d7358>"
      ]
     },
     "metadata": {},
     "output_type": "display_data"
    },
    {
     "data": {
      "text/html": [
       "<div>\n",
       "<style scoped>\n",
       "    .dataframe tbody tr th:only-of-type {\n",
       "        vertical-align: middle;\n",
       "    }\n",
       "\n",
       "    .dataframe tbody tr th {\n",
       "        vertical-align: top;\n",
       "    }\n",
       "\n",
       "    .dataframe thead th {\n",
       "        text-align: right;\n",
       "    }\n",
       "</style>\n",
       "<table border=\"1\" class=\"dataframe\">\n",
       "  <thead>\n",
       "    <tr style=\"text-align: right;\">\n",
       "      <th></th>\n",
       "      <th>Pred L</th>\n",
       "      <th>Pred W</th>\n",
       "    </tr>\n",
       "  </thead>\n",
       "  <tbody>\n",
       "    <tr>\n",
       "      <th>True L</th>\n",
       "      <td>130</td>\n",
       "      <td>37</td>\n",
       "    </tr>\n",
       "    <tr>\n",
       "      <th>True W</th>\n",
       "      <td>38</td>\n",
       "      <td>125</td>\n",
       "    </tr>\n",
       "  </tbody>\n",
       "</table>\n",
       "</div>"
      ],
      "text/plain": [
       "        Pred L  Pred W\n",
       "True L     130      37\n",
       "True W      38     125"
      ]
     },
     "execution_count": 95,
     "metadata": {},
     "output_type": "execute_result"
    }
   ],
   "source": [
    "# Confusion Matrix for Logistic Regression-L2, tuned model\n",
    "\n",
    "# Compute confusion matrix\n",
    "cnf_matrix_log_l2 = confusion_matrix(target_test, target_predicted_log_l2)  # <- Specify model to use\n",
    "np.set_printoptions(precision = 2)\n",
    "\n",
    "# Plot normalized confusion matrix\n",
    "plt.figure()\n",
    "plot_confusion_matrix(cnf_matrix_log_l2, classes = target_names, normalize = True, title = '\\n')\n",
    "plt.clim(0, 1.0) # Normalizes color scale to (0, 1) instead of (min, max) values\n",
    "plt.suptitle('LOG-L2 Confusion Matrix, normalized', fontproperties = main, fontsize = 16)\n",
    "plt.show()\n",
    "\n",
    "# View absolute count matrix in a table\n",
    "tidy(cnf_matrix_log_l2)"
   ]
  },
  {
   "cell_type": "markdown",
   "metadata": {},
   "source": [
    "The default regularization for Logistic Regression is an L2 penalty. This adjusts coefficients based on their predictive power—giving less weight to ineffective predictors. \n",
    "\n",
    "While L2 can adjust the weights of coefficients, it still allows the entire set of features to be used in prediction. The L1 penalty goes a step further. With this option, coefficients can actually be set equal to zero, excluding them entirely from the final prediction. The advantage of this is that it is a type of \"automatic feature selection\"—removing unnecessary variables for an overall simpler model."
   ]
  },
  {
   "cell_type": "code",
   "execution_count": 96,
   "metadata": {},
   "outputs": [
    {
     "name": "stdout",
     "output_type": "stream",
     "text": [
      "Running time: 00:00:00\n",
      "\n",
      "LOG-L1 Accuracy: 0.8030\n",
      "LOG-L1 Lift: 0.2970\n",
      "\n",
      "             precision    recall  f1-score   support\n",
      "\n",
      "       Loss       0.80      0.82      0.81       167\n",
      "        Win       0.81      0.79      0.80       163\n",
      "\n",
      "avg / total       0.80      0.80      0.80       330\n",
      "\n"
     ]
    }
   ],
   "source": [
    "# Logistic Regression, tuned model (L1 penalty)\n",
    "from sklearn.linear_model import LogisticRegression\n",
    "start_time = time.time()\n",
    "\n",
    "# Define\n",
    "clf_log_l1 = LogisticRegression(solver = 'saga', \n",
    "                                penalty = 'l1',\n",
    "                                class_weight = None, \n",
    "                                C = 0.30, \n",
    "                                max_iter = 10000,\n",
    "                                n_jobs = -1,\n",
    "                                random_state = 7)\n",
    "\n",
    "# Fit\n",
    "clf_log_l1.fit(features_train_scaled, target_train)\n",
    "\n",
    "# Predict\n",
    "target_predicted_log_l1 = clf_log_l1.predict(features_test_scaled)\n",
    "\n",
    "# Evaluate\n",
    "running_time()\n",
    "model_results(clf_log_l1, target_predicted_log_l1, 'LOG-L1')"
   ]
  },
  {
   "cell_type": "code",
   "execution_count": 97,
   "metadata": {},
   "outputs": [
    {
     "name": "stdout",
     "output_type": "stream",
     "text": [
      "Running time: 00:00:03\n",
      "\n",
      "Cross Validation Score for each K:\n",
      "[ 0.7692  0.8333  0.7692  0.8333  0.7792\n",
      "  0.8312  0.7763  0.8158  0.8158  0.8421]\n",
      "\n",
      "Range: 0.0729\n",
      "\n",
      "Average: 0.8066\n",
      "Lift: 0.3005\n",
      "\n"
     ]
    }
   ],
   "source": [
    "# Verify with 10-fold Cross-validation\n",
    "start_time = time.time()\n",
    "\n",
    "scores = cross_val_score(clf_log_l1, features_train_scaled, target_train, cv = 10)\n",
    "\n",
    "np.set_printoptions(formatter = {'float': '{: 0.4f}'.format}, linewidth = 45)\n",
    "\n",
    "running_time()\n",
    "print(cv_results(scores))"
   ]
  },
  {
   "cell_type": "code",
   "execution_count": 98,
   "metadata": {},
   "outputs": [
    {
     "data": {
      "image/png": "[encoded data removed]",
      "text/plain": [
       "<matplotlib.figure.Figure at 0x281dee8ff60>"
      ]
     },
     "metadata": {},
     "output_type": "display_data"
    },
    {
     "data": {
      "text/html": [
       "<div>\n",
       "<style scoped>\n",
       "    .dataframe tbody tr th:only-of-type {\n",
       "        vertical-align: middle;\n",
       "    }\n",
       "\n",
       "    .dataframe tbody tr th {\n",
       "        vertical-align: top;\n",
       "    }\n",
       "\n",
       "    .dataframe thead th {\n",
       "        text-align: right;\n",
       "    }\n",
       "</style>\n",
       "<table border=\"1\" class=\"dataframe\">\n",
       "  <thead>\n",
       "    <tr style=\"text-align: right;\">\n",
       "      <th></th>\n",
       "      <th>Pred L</th>\n",
       "      <th>Pred W</th>\n",
       "    </tr>\n",
       "  </thead>\n",
       "  <tbody>\n",
       "    <tr>\n",
       "      <th>True L</th>\n",
       "      <td>137</td>\n",
       "      <td>30</td>\n",
       "    </tr>\n",
       "    <tr>\n",
       "      <th>True W</th>\n",
       "      <td>35</td>\n",
       "      <td>128</td>\n",
       "    </tr>\n",
       "  </tbody>\n",
       "</table>\n",
       "</div>"
      ],
      "text/plain": [
       "        Pred L  Pred W\n",
       "True L     137      30\n",
       "True W      35     128"
      ]
     },
     "execution_count": 98,
     "metadata": {},
     "output_type": "execute_result"
    }
   ],
   "source": [
    "# Confusion Matrix for Logistic Regression-L1, tuned model\n",
    "\n",
    "# Compute confusion matrix\n",
    "cnf_matrix_log_l1 = confusion_matrix(target_test, target_predicted_log_l1)  # <- Specify model to use\n",
    "np.set_printoptions(precision = 2)\n",
    "\n",
    "# Plot normalized confusion matrix\n",
    "plt.figure()\n",
    "plot_confusion_matrix(cnf_matrix_log_l1, classes = target_names, normalize = True, title = '\\n')\n",
    "plt.clim(0, 1.0) # Normalizes color scale to (0, 1) instead of (min, max) values\n",
    "plt.suptitle('LOG-L1 Confusion Matrix, normalized', fontproperties = main, fontsize = 16)\n",
    "plt.show()\n",
    "\n",
    "# View absolute count matrix in a table\n",
    "tidy(cnf_matrix_log_l1)"
   ]
  },
  {
   "cell_type": "markdown",
   "metadata": {},
   "source": [
    "We can print an array of coefficients to see the kind of effect that the L1 penalty has. <br>\n",
    "Out of almost 300 features, the model only uses a handful—the rest have been deemed \"not significant predictors\" and were excluded."
   ]
  },
  {
   "cell_type": "code",
   "execution_count": 99,
   "metadata": {},
   "outputs": [
    {
     "name": "stdout",
     "output_type": "stream",
     "text": [
      "[[-0.218    0.32092  1.84781  0.       0.       0.      -4.81501  4.28927\n",
      "   0.       0.       0.       0.       0.       0.       0.       0.\n",
      "   0.       0.18655  0.       0.       2.54905  0.       0.       0.\n",
      "   0.       0.       0.       0.       0.       0.       0.       0.\n",
      "   0.       0.       0.       0.       0.       0.       0.       0.\n",
      "   0.       0.       0.       0.       0.       0.       0.       0.\n",
      "   0.       0.       0.       0.       0.       0.       0.       0.\n",
      "   0.       0.       0.3179   0.      -0.1967   0.       0.       0.\n",
      "   0.       0.       0.       0.       0.       0.       0.       0.\n",
      "   0.       0.       0.       0.       0.       0.       0.       0.\n",
      "   0.       0.       0.       0.       0.       0.       0.       0.\n",
      "   0.       0.       0.       0.       0.       0.       0.       0.\n",
      "   0.       0.       0.       0.       0.       0.       0.       0.\n",
      "   0.       0.       0.       0.      -0.08466  0.       0.       0.\n",
      "   0.       0.       0.       0.       0.       0.       0.       0.\n",
      "   0.       0.       0.       0.      -0.11861  0.       0.       0.\n",
      "   0.       0.       0.       0.       0.       0.       0.       0.\n",
      "   0.       0.       0.       0.       0.       0.11922  0.       0.\n",
      "   0.       0.       0.       0.       0.      -0.17294  0.       0.\n",
      "   0.29944  0.       0.       0.       0.       0.       0.       0.\n",
      "   0.       0.       0.       0.       0.       0.       0.       0.35288\n",
      "   0.       0.       0.       0.       0.       0.       0.       0.\n",
      "   0.       0.       0.       0.       0.       0.       0.       0.\n",
      "   0.       0.       0.       0.       0.       0.       0.       0.\n",
      "   0.       0.       0.       0.       0.       0.       0.       0.\n",
      "   0.       0.       0.       0.       0.       0.       0.       0.\n",
      "   0.       0.       0.       0.       0.       0.       0.       0.\n",
      "   0.       0.       0.       0.       0.16137  0.       0.       0.\n",
      "   0.      -0.42996  0.       0.       0.       0.       0.       0.\n",
      "   0.       0.       0.       0.       0.       0.       0.       0.\n",
      "   0.       0.       0.       0.       0.       0.       0.       0.\n",
      "   0.       0.       0.       0.       0.       0.       0.       0.\n",
      "   0.       0.       0.       0.       0.       0.       0.       0.\n",
      "   0.       0.       0.       0.       0.       0.       0.       0.\n",
      "   0.       0.       0.       0.       0.       0.       0.       0.\n",
      "   0.       0.       0.       0.       0.       0.       0.       0.\n",
      "   0.       0.       0.      -0.3454   0.23887]]\n"
     ]
    }
   ],
   "source": [
    "np.set_printoptions(precision = 5,\n",
    "                    suppress = True, \n",
    "                    linewidth = 80)\n",
    "\n",
    "print(clf_log_l1.coef_)"
   ]
  },
  {
   "cell_type": "markdown",
   "metadata": {},
   "source": [
    "These can be viewed in a dataframe alongside their respective feature names."
   ]
  },
  {
   "cell_type": "code",
   "execution_count": 100,
   "metadata": {},
   "outputs": [],
   "source": [
    "# Get array of coefficients from Logistic Regression model\n",
    "coeffs = clf_log_l1.coef_\n",
    "\n",
    "# Transpose into long form\n",
    "coeffs = coeffs.transpose()\n",
    "\n",
    "# Get index of feature names (excluding the Target in column 0)\n",
    "feature_names = df.columns[1:]\n",
    "\n",
    "# Create a \"long-form\" dataframe\n",
    "coeffs_table = pd.DataFrame(coeffs, \n",
    "                            columns = ['coefficient'], \n",
    "                            index = feature_names)\n",
    "\n",
    "# Exclude zero coefficients\n",
    "coeffs_table = coeffs_table[coeffs_table['coefficient'] != 0]"
   ]
  },
  {
   "cell_type": "code",
   "execution_count": 101,
   "metadata": {},
   "outputs": [
    {
     "data": {
      "text/html": [
       "<div>\n",
       "<style scoped>\n",
       "    .dataframe tbody tr th:only-of-type {\n",
       "        vertical-align: middle;\n",
       "    }\n",
       "\n",
       "    .dataframe tbody tr th {\n",
       "        vertical-align: top;\n",
       "    }\n",
       "\n",
       "    .dataframe thead th {\n",
       "        text-align: right;\n",
       "    }\n",
       "</style>\n",
       "<table border=\"1\" class=\"dataframe\">\n",
       "  <thead>\n",
       "    <tr style=\"text-align: right;\">\n",
       "      <th></th>\n",
       "      <th>coefficient</th>\n",
       "    </tr>\n",
       "  </thead>\n",
       "  <tbody>\n",
       "    <tr>\n",
       "      <th>duration</th>\n",
       "      <td>-0.217997</td>\n",
       "    </tr>\n",
       "    <tr>\n",
       "      <th>team_first_blood</th>\n",
       "      <td>0.320915</td>\n",
       "    </tr>\n",
       "    <tr>\n",
       "      <th>team_first_tower</th>\n",
       "      <td>1.847812</td>\n",
       "    </tr>\n",
       "    <tr>\n",
       "      <th>deaths</th>\n",
       "      <td>-4.815013</td>\n",
       "    </tr>\n",
       "    <tr>\n",
       "      <th>assists</th>\n",
       "      <td>4.289272</td>\n",
       "    </tr>\n",
       "    <tr>\n",
       "      <th>largest_killing_spree</th>\n",
       "      <td>0.186546</td>\n",
       "    </tr>\n",
       "    <tr>\n",
       "      <th>damage_dealt_to_objectives</th>\n",
       "      <td>2.549045</td>\n",
       "    </tr>\n",
       "    <tr>\n",
       "      <th>tmate_Fiddlesticks</th>\n",
       "      <td>0.317898</td>\n",
       "    </tr>\n",
       "    <tr>\n",
       "      <th>tmate_Fizz</th>\n",
       "      <td>-0.196701</td>\n",
       "    </tr>\n",
       "    <tr>\n",
       "      <th>tmate_Nidalee</th>\n",
       "      <td>-0.084661</td>\n",
       "    </tr>\n",
       "    <tr>\n",
       "      <th>tmate_Ryze</th>\n",
       "      <td>-0.118614</td>\n",
       "    </tr>\n",
       "    <tr>\n",
       "      <th>tmate_Teemo</th>\n",
       "      <td>0.119225</td>\n",
       "    </tr>\n",
       "    <tr>\n",
       "      <th>tmate_Urgot</th>\n",
       "      <td>-0.172937</td>\n",
       "    </tr>\n",
       "    <tr>\n",
       "      <th>tmate_Veigar</th>\n",
       "      <td>0.299437</td>\n",
       "    </tr>\n",
       "    <tr>\n",
       "      <th>tmate_Ziggs</th>\n",
       "      <td>0.352875</td>\n",
       "    </tr>\n",
       "    <tr>\n",
       "      <th>champion_Kog'Maw</th>\n",
       "      <td>0.161373</td>\n",
       "    </tr>\n",
       "    <tr>\n",
       "      <th>champion_Lux</th>\n",
       "      <td>-0.429962</td>\n",
       "    </tr>\n",
       "    <tr>\n",
       "      <th>champion_type_Support</th>\n",
       "      <td>-0.345398</td>\n",
       "    </tr>\n",
       "    <tr>\n",
       "      <th>champion_type_Tank</th>\n",
       "      <td>0.238870</td>\n",
       "    </tr>\n",
       "  </tbody>\n",
       "</table>\n",
       "</div>"
      ],
      "text/plain": [
       "                            coefficient\n",
       "duration                      -0.217997\n",
       "team_first_blood               0.320915\n",
       "team_first_tower               1.847812\n",
       "deaths                        -4.815013\n",
       "assists                        4.289272\n",
       "largest_killing_spree          0.186546\n",
       "damage_dealt_to_objectives     2.549045\n",
       "tmate_Fiddlesticks             0.317898\n",
       "tmate_Fizz                    -0.196701\n",
       "tmate_Nidalee                 -0.084661\n",
       "tmate_Ryze                    -0.118614\n",
       "tmate_Teemo                    0.119225\n",
       "tmate_Urgot                   -0.172937\n",
       "tmate_Veigar                   0.299437\n",
       "tmate_Ziggs                    0.352875\n",
       "champion_Kog'Maw               0.161373\n",
       "champion_Lux                  -0.429962\n",
       "champion_type_Support         -0.345398\n",
       "champion_type_Tank             0.238870"
      ]
     },
     "execution_count": 101,
     "metadata": {},
     "output_type": "execute_result"
    }
   ],
   "source": [
    "# View\n",
    "coeffs_table"
   ]
  },
  {
   "cell_type": "markdown",
   "metadata": {},
   "source": [
    "> These are interesting, because we get a much different set of important variables than what we saw with the decision trees. It shows that team comp, i.e. my Champion and the other Champions on my team, can have some real predictive power.\n",
    ">\n",
    "> Unfortunately, the coefficient values themselves have almost no meaning—there are several layers of complex math standing between us and any kind of practical interpretation. However, I thought the signs of the coefficients, at the very least, would be of some help.\n",
    ">\n",
    "> Some of them do seem intuitive—`deaths` is negative, while `assists` is positive. It makes perfect sense to assume that more deaths decreases the probability of a Win, while more assists increases it.\n",
    ">\n",
    "> Then I got to this:"
   ]
  },
  {
   "cell_type": "code",
   "execution_count": 102,
   "metadata": {},
   "outputs": [
    {
     "data": {
      "text/html": [
       "<div>\n",
       "<style scoped>\n",
       "    .dataframe tbody tr th:only-of-type {\n",
       "        vertical-align: middle;\n",
       "    }\n",
       "\n",
       "    .dataframe tbody tr th {\n",
       "        vertical-align: top;\n",
       "    }\n",
       "\n",
       "    .dataframe thead th {\n",
       "        text-align: right;\n",
       "    }\n",
       "</style>\n",
       "<table border=\"1\" class=\"dataframe\">\n",
       "  <thead>\n",
       "    <tr style=\"text-align: right;\">\n",
       "      <th></th>\n",
       "      <th>coefficient</th>\n",
       "    </tr>\n",
       "  </thead>\n",
       "  <tbody>\n",
       "    <tr>\n",
       "      <th>champion_Lux</th>\n",
       "      <td>-0.429962</td>\n",
       "    </tr>\n",
       "  </tbody>\n",
       "</table>\n",
       "</div>"
      ],
      "text/plain": [
       "              coefficient\n",
       "champion_Lux    -0.429962"
      ]
     },
     "execution_count": 102,
     "metadata": {},
     "output_type": "execute_result"
    }
   ],
   "source": [
    "coeffs_table[coeffs_table.index == 'champion_Lux']"
   ]
  },
  {
   "cell_type": "markdown",
   "metadata": {},
   "source": [
    "> Lux is one of my favorites to play! Surely she's not negatively affecting my chances of winning."
   ]
  },
  {
   "cell_type": "code",
   "execution_count": 103,
   "metadata": {},
   "outputs": [
    {
     "data": {
      "text/html": [
       "<div>\n",
       "<style scoped>\n",
       "    .dataframe tbody tr th:only-of-type {\n",
       "        vertical-align: middle;\n",
       "    }\n",
       "\n",
       "    .dataframe tbody tr th {\n",
       "        vertical-align: top;\n",
       "    }\n",
       "\n",
       "    .dataframe thead th {\n",
       "        text-align: right;\n",
       "    }\n",
       "</style>\n",
       "<table border=\"1\" class=\"dataframe\">\n",
       "  <thead>\n",
       "    <tr style=\"text-align: right;\">\n",
       "      <th>Win</th>\n",
       "      <th>False</th>\n",
       "      <th>True</th>\n",
       "    </tr>\n",
       "    <tr>\n",
       "      <th>Played as Lux</th>\n",
       "      <th></th>\n",
       "      <th></th>\n",
       "    </tr>\n",
       "  </thead>\n",
       "  <tbody>\n",
       "    <tr>\n",
       "      <th>0</th>\n",
       "      <td>0.506654</td>\n",
       "      <td>0.493346</td>\n",
       "    </tr>\n",
       "    <tr>\n",
       "      <th>1</th>\n",
       "      <td>0.375000</td>\n",
       "      <td>0.625000</td>\n",
       "    </tr>\n",
       "  </tbody>\n",
       "</table>\n",
       "</div>"
      ],
      "text/plain": [
       "Win               False     True \n",
       "Played as Lux                    \n",
       "0              0.506654  0.493346\n",
       "1              0.375000  0.625000"
      ]
     },
     "execution_count": 103,
     "metadata": {},
     "output_type": "execute_result"
    }
   ],
   "source": [
    "# Crosstab of win rate by Lux games\n",
    "lux_tab = pd.crosstab(df['champion_Lux'], df_orig['win'],\n",
    "                      rownames = ['Played as Lux'], colnames = ['Win'],\n",
    "                      normalize = 'index')\n",
    "\n",
    "lux_tab"
   ]
  },
  {
   "cell_type": "markdown",
   "metadata": {},
   "source": [
    "> Sure enough, my win rate when I play as Lux is 62.5%—compared to just under 50% when I play as any other Champion. This is proof that Logistic Regression coefficients are not to be trusted. All we can easily learn from them is that they're either important (not zero) or they're not.\n",
    ">\n",
    "> This is also, as it just so happens, a perfect transition into Bayesian conditional probability."
   ]
  },
  {
   "cell_type": "markdown",
   "metadata": {},
   "source": [
    "[Back to Models](#models)"
   ]
  },
  {
   "cell_type": "raw",
   "metadata": {},
   "source": [
    "<a id = 'bayes'></a>"
   ]
  },
  {
   "cell_type": "markdown",
   "metadata": {},
   "source": [
    "<br>"
   ]
  },
  {
   "cell_type": "markdown",
   "metadata": {},
   "source": [
    "#### Naïve Bayes\n",
    "___"
   ]
  },
  {
   "cell_type": "markdown",
   "metadata": {},
   "source": [
    "<center><i>Results in Brief</i></center>\n",
    "\n",
    "|       **Model**      |**CV Accuracy**|             **Lift**             |        **CV Spread**        |\n",
    "|----------------------|---------------|----------------------------------|-----------------------------|\n",
    "| NB Gaussian          |     71.31%    |<font color=\"green\">+20.71%</font>|<font color=\"deeporange\">19.24%</font>|\n",
    "| Default NB Bernoulli |     70.78%    |<font color=\"green\">+20.17%</font>|<font color=\"yellowgreen\">7.69%</font>|\n",
    "|   Tuned NB Bernoulli |     74.27%    |<font color=\"green\">+23.66%</font>|<font color=\"yellowgreen\">8.47%</font>|"
   ]
  },
  {
   "cell_type": "markdown",
   "metadata": {},
   "source": [
    "Bayesian models operate on the principle of conditional probability. Simply put, this is the evaluation of new information and how it changes the probability of an outcome.\n",
    "\n",
    "The following is a short example of how conditional probability can be applied."
   ]
  },
  {
   "cell_type": "code",
   "execution_count": 104,
   "metadata": {},
   "outputs": [
    {
     "data": {
      "text/html": [
       "<div>\n",
       "<style scoped>\n",
       "    .dataframe tbody tr th:only-of-type {\n",
       "        vertical-align: middle;\n",
       "    }\n",
       "\n",
       "    .dataframe tbody tr th {\n",
       "        vertical-align: top;\n",
       "    }\n",
       "\n",
       "    .dataframe thead th {\n",
       "        text-align: right;\n",
       "    }\n",
       "</style>\n",
       "<table border=\"1\" class=\"dataframe\">\n",
       "  <thead>\n",
       "    <tr style=\"text-align: right;\">\n",
       "      <th>Win</th>\n",
       "      <th>False</th>\n",
       "      <th>True</th>\n",
       "    </tr>\n",
       "    <tr>\n",
       "      <th>First Tower</th>\n",
       "      <th></th>\n",
       "      <th></th>\n",
       "    </tr>\n",
       "  </thead>\n",
       "  <tbody>\n",
       "    <tr>\n",
       "      <th>False</th>\n",
       "      <td>0.766355</td>\n",
       "      <td>0.233645</td>\n",
       "    </tr>\n",
       "    <tr>\n",
       "      <th>True</th>\n",
       "      <td>0.249558</td>\n",
       "      <td>0.750442</td>\n",
       "    </tr>\n",
       "  </tbody>\n",
       "</table>\n",
       "</div>"
      ],
      "text/plain": [
       "Win             False     True \n",
       "First Tower                    \n",
       "False        0.766355  0.233645\n",
       "True         0.249558  0.750442"
      ]
     },
     "execution_count": 104,
     "metadata": {},
     "output_type": "execute_result"
    }
   ],
   "source": [
    "# Crosstab of win rate by First Tower\n",
    "tower_tab = pd.crosstab(df_orig['team_first_tower'], df_orig['win'],\n",
    "                        rownames = ['First Tower'], colnames = ['Win'],\n",
    "                        normalize = 'index')\n",
    "\n",
    "tower_tab"
   ]
  },
  {
   "cell_type": "markdown",
   "metadata": {},
   "source": [
    "Let's assume that the probability of a player winning their next match, based on past history, is exactly 50%. This is the **Prior probability**. Keep in mind, this hypothetical match hasn't started yet, so we have no data on it.\n",
    "\n",
    "Now assume that the match has begun, and the player's team has just claimed First Tower. According to their match history, they have won 75% of matches where their team has claimed First Tower. Therefore, the **Posterior probability** of winning this match, given the new information we just gained, has become 75%."
   ]
  },
  {
   "cell_type": "markdown",
   "metadata": {},
   "source": [
    "In reality, Bayesian classifier models are better suited to predictive applications in text mining, due to the way that data is structured. However, we can still apply these models in this situation."
   ]
  },
  {
   "cell_type": "code",
   "execution_count": 105,
   "metadata": {},
   "outputs": [
    {
     "name": "stdout",
     "output_type": "stream",
     "text": [
      "Running time: 00:00:00\n",
      "\n",
      "NB-G Accuracy: 0.7182\n",
      "NB-G Lift: 0.2121\n",
      "\n",
      "             precision    recall  f1-score   support\n",
      "\n",
      "       Loss       0.75      0.66      0.70       167\n",
      "        Win       0.69      0.77      0.73       163\n",
      "\n",
      "avg / total       0.72      0.72      0.72       330\n",
      "\n"
     ]
    }
   ],
   "source": [
    "# Naïve Bayes, Gaussian\n",
    "from sklearn.naive_bayes import GaussianNB\n",
    "start_time = time.time()\n",
    "\n",
    "# Define\n",
    "clf_nbg = GaussianNB()\n",
    "\n",
    "# Fit\n",
    "clf_nbg.fit(features_train, target_train)\n",
    "\n",
    "# Predict\n",
    "target_predicted_nbg = clf_nbg.predict(features_test)\n",
    "\n",
    "# Evaluate\n",
    "running_time()\n",
    "model_results(clf_nbg, target_predicted_nbg, 'NB-G')"
   ]
  },
  {
   "cell_type": "code",
   "execution_count": 106,
   "metadata": {},
   "outputs": [
    {
     "name": "stdout",
     "output_type": "stream",
     "text": [
      "Running time: 00:00:00\n",
      "\n",
      "Cross Validation Score for each K:\n",
      "[ 0.7564  0.6667  0.6923  0.7564  0.6494\n",
      "  0.6234  0.7105  0.8158  0.7237  0.7368]\n",
      "\n",
      "Range: 0.1924\n",
      "\n",
      "Average: 0.7131\n",
      "Lift: 0.2071\n",
      "\n"
     ]
    }
   ],
   "source": [
    "# Verify with 10-fold Cross-validation\n",
    "start_time = time.time()\n",
    "\n",
    "scores = cross_val_score(clf_nbg, features_train, target_train, cv = 10)\n",
    "\n",
    "np.set_printoptions(formatter = {'float': '{: 0.4f}'.format}, linewidth = 45)\n",
    "\n",
    "running_time()\n",
    "print(cv_results(scores))"
   ]
  },
  {
   "cell_type": "markdown",
   "metadata": {},
   "source": [
    "> The Range (overfitting) is way too high.\n",
    ">\n",
    "> The Gaussian model has no parameters for tuning."
   ]
  },
  {
   "cell_type": "markdown",
   "metadata": {},
   "source": [
    "Let's instead try another variant, Bernoulli NB. This model is better-suited for data with binary features (the majority of the features in this dataset are binary), and it also has a few tuning parameters available."
   ]
  },
  {
   "cell_type": "code",
   "execution_count": 107,
   "metadata": {},
   "outputs": [
    {
     "name": "stdout",
     "output_type": "stream",
     "text": [
      "Running time: 00:00:00\n",
      "\n",
      "Default Parameters:\n",
      "BernoulliNB(alpha=1.0, binarize=0.0, class_prior=None, fit_prior=True)\n",
      "\n",
      "NB-B Accuracy: 0.7515\n",
      "NB-B Lift: 0.2455\n",
      "\n",
      "             precision    recall  f1-score   support\n",
      "\n",
      "       Loss       0.76      0.75      0.75       167\n",
      "        Win       0.75      0.75      0.75       163\n",
      "\n",
      "avg / total       0.75      0.75      0.75       330\n",
      "\n"
     ]
    }
   ],
   "source": [
    "# Naïve Bayes, Bernoulli, base model\n",
    "from sklearn.naive_bayes import BernoulliNB\n",
    "start_time = time.time()\n",
    "\n",
    "# Define\n",
    "clf_nbb = BernoulliNB()\n",
    "\n",
    "# Fit\n",
    "clf_nbb.fit(features_train, target_train)\n",
    "\n",
    "# Predict\n",
    "target_predicted_nbb = clf_nbb.predict(features_test)\n",
    "\n",
    "# Evaluate\n",
    "running_time()\n",
    "model_results_default(clf_nbb, target_predicted_nbb, 'NB-B')"
   ]
  },
  {
   "cell_type": "code",
   "execution_count": 108,
   "metadata": {},
   "outputs": [
    {
     "name": "stdout",
     "output_type": "stream",
     "text": [
      "Running time: 00:00:00\n",
      "\n",
      "Cross Validation Score for each K:\n",
      "[ 0.7051  0.6795  0.7564  0.7051  0.6883\n",
      "  0.7143  0.6974  0.7237  0.6842  0.7237]\n",
      "\n",
      "Range: 0.0769\n",
      "\n",
      "Average: 0.7078\n",
      "Lift: 0.2017\n",
      "\n"
     ]
    }
   ],
   "source": [
    "# Verify with 10-fold Cross-validation\n",
    "start_time = time.time()\n",
    "\n",
    "scores = cross_val_score(clf_nbb, features_train, target_train, cv = 10)\n",
    "\n",
    "np.set_printoptions(formatter = {'float': '{: 0.4f}'.format}, linewidth = 45)\n",
    "\n",
    "running_time()\n",
    "print(cv_results(scores))"
   ]
  },
  {
   "cell_type": "markdown",
   "metadata": {},
   "source": [
    "> Accuracy is good, and Range is significantly improved over the Gaussian model."
   ]
  },
  {
   "cell_type": "markdown",
   "metadata": {},
   "source": [
    "We'll run grid search to determine the best values for the tuning parameters."
   ]
  },
  {
   "cell_type": "code",
   "execution_count": 109,
   "metadata": {},
   "outputs": [
    {
     "name": "stdout",
     "output_type": "stream",
     "text": [
      "Running time: 00:00:59\n",
      "\n",
      "Best Score:  0.7429\n",
      "Best Params: {'alpha': 7.6000000000000005, 'binarize': 0.0}\n"
     ]
    }
   ],
   "source": [
    "# Grid search for Naïve Bayes, Bernoulli\n",
    "start_time = time.time()\n",
    "\n",
    "# Define the model to test\n",
    "clf_nbb = BernoulliNB()\n",
    "\n",
    "# Define range of parameters\n",
    "param_grid = {\n",
    "    'alpha': np.arange(0, 10,   # Search range\n",
    "                       0.1),    # Search increments\n",
    "    'binarize': np.arange(0, 1,     # Search range\n",
    "                          0.1),     # Search increments\n",
    "}\n",
    "\n",
    "# Run grid search with 10-fold CV\n",
    "grid_search = GridSearchCV(clf_nbb,  # <- Specify model to use\n",
    "                           param_grid = param_grid, \n",
    "                           scoring = 'accuracy',\n",
    "                           n_jobs = -1,  # Parallel processing. -1 to use all available cores\n",
    "                           cv = 10)\n",
    "\n",
    "grid_search.fit(features_train, target_train)\n",
    "\n",
    "running_time()\n",
    "print(\"Best Score: {0: .4f}\".format(grid_search.best_score_))\n",
    "print(\"Best Params: {}\".format(grid_search.best_params_))"
   ]
  },
  {
   "cell_type": "code",
   "execution_count": 110,
   "metadata": {},
   "outputs": [
    {
     "name": "stdout",
     "output_type": "stream",
     "text": [
      "Running time: 00:00:00\n",
      "\n",
      "NB-B Accuracy: 0.7576\n",
      "NB-B Lift: 0.2515\n",
      "\n",
      "             precision    recall  f1-score   support\n",
      "\n",
      "       Loss       0.78      0.73      0.75       167\n",
      "        Win       0.74      0.79      0.76       163\n",
      "\n",
      "avg / total       0.76      0.76      0.76       330\n",
      "\n"
     ]
    }
   ],
   "source": [
    "# Naïve Bayes, Bernoulli, tuned model\n",
    "start_time = time.time()\n",
    "\n",
    "# Define\n",
    "clf_nbb = BernoulliNB(alpha = 7.6, \n",
    "                      binarize = 0)\n",
    "\n",
    "# Fit\n",
    "clf_nbb.fit(features_train, target_train)\n",
    "\n",
    "# Predict\n",
    "target_predicted_nbb = clf_nbb.predict(features_test)\n",
    "\n",
    "# Evaluate\n",
    "running_time()\n",
    "model_results(clf_nbb, target_predicted_nbb, 'NB-B')"
   ]
  },
  {
   "cell_type": "code",
   "execution_count": 111,
   "metadata": {},
   "outputs": [
    {
     "name": "stdout",
     "output_type": "stream",
     "text": [
      "Running time: 00:00:00\n",
      "\n",
      "Cross Validation Score for each K:\n",
      "[ 0.7179  0.7692  0.7821  0.7564  0.7273\n",
      "  0.7662  0.6974  0.7368  0.7500  0.7237]\n",
      "\n",
      "Range: 0.0847\n",
      "\n",
      "Average: 0.7427\n",
      "Lift: 0.2366\n",
      "\n"
     ]
    }
   ],
   "source": [
    "# Verify with 10-fold Cross-validation\n",
    "start_time = time.time()\n",
    "\n",
    "scores = cross_val_score(clf_nbb, features_train, target_train, cv = 10)\n",
    "\n",
    "np.set_printoptions(formatter = {'float': '{: 0.4f}'.format}, linewidth = 45)\n",
    "\n",
    "running_time()\n",
    "print(cv_results(scores))"
   ]
  },
  {
   "cell_type": "code",
   "execution_count": 112,
   "metadata": {},
   "outputs": [
    {
     "data": {
      "image/png": "[encoded data removed]",
      "text/plain": [
       "<matplotlib.figure.Figure at 0x281de7dd748>"
      ]
     },
     "metadata": {},
     "output_type": "display_data"
    },
    {
     "data": {
      "text/html": [
       "<div>\n",
       "<style scoped>\n",
       "    .dataframe tbody tr th:only-of-type {\n",
       "        vertical-align: middle;\n",
       "    }\n",
       "\n",
       "    .dataframe tbody tr th {\n",
       "        vertical-align: top;\n",
       "    }\n",
       "\n",
       "    .dataframe thead th {\n",
       "        text-align: right;\n",
       "    }\n",
       "</style>\n",
       "<table border=\"1\" class=\"dataframe\">\n",
       "  <thead>\n",
       "    <tr style=\"text-align: right;\">\n",
       "      <th></th>\n",
       "      <th>Pred L</th>\n",
       "      <th>Pred W</th>\n",
       "    </tr>\n",
       "  </thead>\n",
       "  <tbody>\n",
       "    <tr>\n",
       "      <th>True L</th>\n",
       "      <td>122</td>\n",
       "      <td>45</td>\n",
       "    </tr>\n",
       "    <tr>\n",
       "      <th>True W</th>\n",
       "      <td>35</td>\n",
       "      <td>128</td>\n",
       "    </tr>\n",
       "  </tbody>\n",
       "</table>\n",
       "</div>"
      ],
      "text/plain": [
       "        Pred L  Pred W\n",
       "True L     122      45\n",
       "True W      35     128"
      ]
     },
     "execution_count": 112,
     "metadata": {},
     "output_type": "execute_result"
    }
   ],
   "source": [
    "# Confusion Matrix for Naïve Bayes, Bernoulli, tuned model\n",
    "\n",
    "# Compute confusion matrix\n",
    "cnf_matrix_nbb = confusion_matrix(target_test, target_predicted_nbb)  # <- Specify model to use\n",
    "np.set_printoptions(precision = 2)\n",
    "\n",
    "# Plot normalized confusion matrix\n",
    "plt.figure()\n",
    "plot_confusion_matrix(cnf_matrix_nbb, classes = target_names, normalize = True, title = '\\n')\n",
    "plt.clim(0, 1.0) # Normalizes color scale to (0, 1) instead of (min, max) values\n",
    "plt.suptitle('NB-B Confusion Matrix, normalized', fontproperties = main, fontsize = 16)\n",
    "plt.show()\n",
    "\n",
    "# View absolute count matrix in a table\n",
    "tidy(cnf_matrix_nbb)"
   ]
  },
  {
   "cell_type": "markdown",
   "metadata": {},
   "source": [
    "> We ended with a fairly strong result, comparable to other top-performing models already tested."
   ]
  },
  {
   "cell_type": "markdown",
   "metadata": {},
   "source": [
    "[Back to Models](#models)"
   ]
  },
  {
   "cell_type": "raw",
   "metadata": {},
   "source": [
    "<a id = 'knn'></a>"
   ]
  },
  {
   "cell_type": "markdown",
   "metadata": {},
   "source": [
    "<br>"
   ]
  },
  {
   "cell_type": "markdown",
   "metadata": {},
   "source": [
    "#### k-Nearest Neighbors (KNN)\n",
    "___\n",
    "Known as a \"lazy learner\", KNN predicts by comparing an unknown classification to the most similar items in the training data. \"k\" is a user-defined variable for the number of \"nearest neighbors\" to compare against."
   ]
  },
  {
   "cell_type": "markdown",
   "metadata": {},
   "source": [
    "<center><i>Results in Brief</i></center>\n",
    "\n",
    "|   **Model**   |**CV Accuracy**|             **Lift**             |        **CV Spread**        |\n",
    "|---------------|---------------|----------------------------------|-----------------------------|\n",
    "| Default KNN-5 |     68.29%    |<font color=\"green\">+17.69%</font>|<font color=\"deeporange\">16.40%</font>|\n",
    "|  Tuned KNN-15 |     73.51%    |<font color=\"green\">+22.91%</font>|<font color=\"yellowgreen\">7.09%</font>|\n",
    "|  Tuned KNN-36 |     75.98%    |<font color=\"green\">+25.37%</font>|<font color=\"darkorange\">10.53%</font>|"
   ]
  },
  {
   "cell_type": "markdown",
   "metadata": {},
   "source": [
    "Because KNN calculates distances to determine the most similar observations, we want to be sure and always use the scaled data, `features_train_scaled` and `features_test_scaled`, for fitting, predicting, and validating."
   ]
  },
  {
   "cell_type": "code",
   "execution_count": 113,
   "metadata": {},
   "outputs": [
    {
     "name": "stdout",
     "output_type": "stream",
     "text": [
      "Running time: 00:00:00\n",
      "\n",
      "Default Parameters:\n",
      "KNeighborsClassifier(algorithm='auto', leaf_size=30, metric='minkowski',\n",
      "           metric_params=None, n_jobs=1, n_neighbors=5, p=2,\n",
      "           weights='uniform')\n",
      "\n",
      "KNN Accuracy: 0.7576\n",
      "KNN Lift: 0.2515\n",
      "\n",
      "             precision    recall  f1-score   support\n",
      "\n",
      "       Loss       0.78      0.73      0.75       167\n",
      "        Win       0.74      0.79      0.76       163\n",
      "\n",
      "avg / total       0.76      0.76      0.76       330\n",
      "\n"
     ]
    }
   ],
   "source": [
    "# KNN, base model\n",
    "from sklearn.neighbors import KNeighborsClassifier\n",
    "start_time = time.time()\n",
    "\n",
    "# Define\n",
    "clf_knn = KNeighborsClassifier()\n",
    "\n",
    "# Fit\n",
    "clf_knn.fit(features_train_scaled, target_train)\n",
    "\n",
    "# Predict\n",
    "target_predicted_knn = clf_knn.predict(features_test_scaled)\n",
    "\n",
    "# Evaluate\n",
    "running_time()\n",
    "model_results_default(clf_knn, target_predicted_nbb, 'KNN')"
   ]
  },
  {
   "cell_type": "code",
   "execution_count": 114,
   "metadata": {},
   "outputs": [
    {
     "name": "stdout",
     "output_type": "stream",
     "text": [
      "Running time: 00:00:00\n",
      "\n",
      "Cross Validation Score for each K:\n",
      "[ 0.6410  0.7692  0.6410  0.7436  0.6883\n",
      "  0.6883  0.6053  0.6711  0.7237  0.6579]\n",
      "\n",
      "Range: 0.1640\n",
      "\n",
      "Average: 0.6829\n",
      "Lift: 0.1769\n",
      "\n"
     ]
    }
   ],
   "source": [
    "# Verify with 10-fold Cross-validation\n",
    "start_time = time.time()\n",
    "\n",
    "scores = cross_val_score(clf_knn, features_train_scaled, target_train, cv = 10)\n",
    "\n",
    "np.set_printoptions(formatter = {'float': '{: 0.4f}'.format}, linewidth = 45)\n",
    "\n",
    "running_time()\n",
    "print(cv_results(scores))"
   ]
  },
  {
   "cell_type": "markdown",
   "metadata": {},
   "source": [
    "##### Grid Search"
   ]
  },
  {
   "cell_type": "code",
   "execution_count": 115,
   "metadata": {},
   "outputs": [
    {
     "name": "stdout",
     "output_type": "stream",
     "text": [
      "Running time: 00:02:26\n",
      "\n",
      "Best Score:  0.7623\n",
      "Best Params: {'n_neighbors': 43, 'p': 1, 'weights': 'uniform'}\n"
     ]
    }
   ],
   "source": [
    "# Grid search for KNN\n",
    "start_time = time.time()\n",
    "\n",
    "# Define the model to test\n",
    "clf_knn = KNeighborsClassifier()\n",
    "\n",
    "# Define range of parameters\n",
    "param_grid = {\n",
    "    'n_neighbors': range(3, 50,   # Search range\n",
    "                         1),      # Search increments\n",
    "    'p': [1, 2],\n",
    "    'weights': ['uniform', 'distance']\n",
    "}\n",
    "\n",
    "# Run grid search with 10-fold CV\n",
    "grid_search = GridSearchCV(clf_knn,  # <- Specify model to use\n",
    "                           param_grid = param_grid, \n",
    "                           scoring = 'accuracy',\n",
    "                           n_jobs = -1,  # Parallel processing. -1 to use all available cores\n",
    "                           cv = 10)\n",
    "\n",
    "grid_search.fit(features_train_scaled, target_train)\n",
    "\n",
    "running_time()\n",
    "print(\"Best Score: {0: .4f}\".format(grid_search.best_score_))\n",
    "print(\"Best Params: {}\".format(grid_search.best_params_))"
   ]
  },
  {
   "cell_type": "markdown",
   "metadata": {},
   "source": [
    "Based on the grid search results, I tried several different values of *k* to manually optimize the CV Spread and reduce overfitting. \n",
    "\n",
    "The two best models are below."
   ]
  },
  {
   "cell_type": "markdown",
   "metadata": {},
   "source": [
    "##### k = 15"
   ]
  },
  {
   "cell_type": "code",
   "execution_count": 116,
   "metadata": {},
   "outputs": [
    {
     "name": "stdout",
     "output_type": "stream",
     "text": [
      "Running time: 00:00:00\n",
      "\n",
      "KNN-15 Accuracy: 0.7576\n",
      "KNN-15 Lift: 0.2515\n",
      "\n",
      "             precision    recall  f1-score   support\n",
      "\n",
      "       Loss       0.78      0.73      0.75       167\n",
      "        Win       0.74      0.79      0.76       163\n",
      "\n",
      "avg / total       0.76      0.76      0.76       330\n",
      "\n"
     ]
    }
   ],
   "source": [
    "# KNN, tuned model, k = 15\n",
    "start_time = time.time()\n",
    "\n",
    "# Define\n",
    "clf_knn_15 = KNeighborsClassifier(n_neighbors = 15, \n",
    "                                  p = 1, \n",
    "                                  weights = 'uniform')\n",
    "\n",
    "# Fit\n",
    "clf_knn_15.fit(features_train_scaled, target_train)\n",
    "\n",
    "# Predict\n",
    "target_predicted_knn_15 = clf_knn_15.predict(features_test_scaled)\n",
    "\n",
    "# Evaluate\n",
    "running_time()\n",
    "model_results(clf_knn_15, target_predicted_nbb, 'KNN-15')"
   ]
  },
  {
   "cell_type": "code",
   "execution_count": 117,
   "metadata": {},
   "outputs": [
    {
     "name": "stdout",
     "output_type": "stream",
     "text": [
      "Running time: 00:00:00\n",
      "\n",
      "Cross Validation Score for each K:\n",
      "[ 0.7436  0.6923  0.7436  0.7564  0.7143\n",
      "  0.7273  0.7237  0.7237  0.7632  0.7632]\n",
      "\n",
      "Range: 0.0709\n",
      "\n",
      "Average: 0.7351\n",
      "Lift: 0.2291\n",
      "\n"
     ]
    }
   ],
   "source": [
    "# Verify with 10-fold Cross-validation\n",
    "start_time = time.time()\n",
    "\n",
    "scores = cross_val_score(clf_knn_15, features_train_scaled, target_train, cv = 10)\n",
    "\n",
    "np.set_printoptions(formatter = {'float': '{: 0.4f}'.format}, linewidth = 45)\n",
    "\n",
    "running_time()\n",
    "print(cv_results(scores))"
   ]
  },
  {
   "cell_type": "markdown",
   "metadata": {},
   "source": [
    "##### k = 36"
   ]
  },
  {
   "cell_type": "code",
   "execution_count": 118,
   "metadata": {},
   "outputs": [
    {
     "name": "stdout",
     "output_type": "stream",
     "text": [
      "Running time: 00:00:00\n",
      "\n",
      "KNN-36 Accuracy: 0.7576\n",
      "KNN-36 Lift: 0.2515\n",
      "\n",
      "             precision    recall  f1-score   support\n",
      "\n",
      "       Loss       0.78      0.73      0.75       167\n",
      "        Win       0.74      0.79      0.76       163\n",
      "\n",
      "avg / total       0.76      0.76      0.76       330\n",
      "\n"
     ]
    }
   ],
   "source": [
    "# KNN, tuned model, k = 36\n",
    "start_time = time.time()\n",
    "\n",
    "# Define\n",
    "clf_knn_36 = KNeighborsClassifier(n_neighbors = 36, \n",
    "                                  p = 1, \n",
    "                                  weights = 'uniform')\n",
    "\n",
    "# Fit\n",
    "clf_knn_36.fit(features_train_scaled, target_train)\n",
    "\n",
    "# Predict\n",
    "target_predicted_knn_36 = clf_knn_36.predict(features_test_scaled)\n",
    "\n",
    "# Evaluate\n",
    "running_time()\n",
    "model_results(clf_knn_36, target_predicted_nbb, 'KNN-36')"
   ]
  },
  {
   "cell_type": "code",
   "execution_count": 119,
   "metadata": {},
   "outputs": [
    {
     "name": "stdout",
     "output_type": "stream",
     "text": [
      "Running time: 00:00:00\n",
      "\n",
      "Cross Validation Score for each K:\n",
      "[ 0.7308  0.7308  0.7692  0.7949  0.7273\n",
      "  0.7792  0.6974  0.8026  0.7895  0.7763]\n",
      "\n",
      "Range: 0.1053\n",
      "\n",
      "Average: 0.7598\n",
      "Lift: 0.2537\n",
      "\n"
     ]
    }
   ],
   "source": [
    "# Verify with 10-fold Cross-validation\n",
    "start_time = time.time()\n",
    "\n",
    "scores = cross_val_score(clf_knn_36, features_train_scaled, target_train, cv = 10)\n",
    "\n",
    "np.set_printoptions(formatter = {'float': '{: 0.4f}'.format}, linewidth = 45)\n",
    "\n",
    "running_time()\n",
    "print(cv_results(scores))"
   ]
  },
  {
   "cell_type": "code",
   "execution_count": 120,
   "metadata": {},
   "outputs": [
    {
     "data": {
      "image/png": "[encoded data removed]",
      "text/plain": [
       "<matplotlib.figure.Figure at 0x281de764e48>"
      ]
     },
     "metadata": {},
     "output_type": "display_data"
    },
    {
     "data": {
      "text/html": [
       "<div>\n",
       "<style scoped>\n",
       "    .dataframe tbody tr th:only-of-type {\n",
       "        vertical-align: middle;\n",
       "    }\n",
       "\n",
       "    .dataframe tbody tr th {\n",
       "        vertical-align: top;\n",
       "    }\n",
       "\n",
       "    .dataframe thead th {\n",
       "        text-align: right;\n",
       "    }\n",
       "</style>\n",
       "<table border=\"1\" class=\"dataframe\">\n",
       "  <thead>\n",
       "    <tr style=\"text-align: right;\">\n",
       "      <th></th>\n",
       "      <th>Pred L</th>\n",
       "      <th>Pred W</th>\n",
       "    </tr>\n",
       "  </thead>\n",
       "  <tbody>\n",
       "    <tr>\n",
       "      <th>True L</th>\n",
       "      <td>122</td>\n",
       "      <td>45</td>\n",
       "    </tr>\n",
       "    <tr>\n",
       "      <th>True W</th>\n",
       "      <td>39</td>\n",
       "      <td>124</td>\n",
       "    </tr>\n",
       "  </tbody>\n",
       "</table>\n",
       "</div>"
      ],
      "text/plain": [
       "        Pred L  Pred W\n",
       "True L     122      45\n",
       "True W      39     124"
      ]
     },
     "execution_count": 120,
     "metadata": {},
     "output_type": "execute_result"
    }
   ],
   "source": [
    "# Confusion Matrix for KNN, k = 36\n",
    "\n",
    "# Compute confusion matrix\n",
    "cnf_matrix_knn_36 = confusion_matrix(target_test, target_predicted_knn_36)  # <- Specify model to use\n",
    "np.set_printoptions(precision = 2)\n",
    "\n",
    "# Plot normalized confusion matrix\n",
    "plt.figure()\n",
    "plot_confusion_matrix(cnf_matrix_knn_36, classes = target_names, normalize = True, title = '\\n')\n",
    "plt.clim(0, 1.0) # Normalizes color scale to (0, 1) instead of (min, max) values\n",
    "plt.suptitle('KNN-36 Confusion Matrix, normalized', fontproperties = main, fontsize = 16)\n",
    "plt.show()\n",
    "\n",
    "# View absolute count matrix in a table\n",
    "tidy(cnf_matrix_knn_36)"
   ]
  },
  {
   "cell_type": "markdown",
   "metadata": {},
   "source": [
    "[Back to Models](#models)"
   ]
  },
  {
   "cell_type": "raw",
   "metadata": {},
   "source": [
    "<a id = 'stacking'></a>"
   ]
  },
  {
   "cell_type": "markdown",
   "metadata": {},
   "source": [
    "<br>"
   ]
  },
  {
   "cell_type": "markdown",
   "metadata": {},
   "source": [
    "#### Ensemble Voting (Stacking)\n",
    "___\n",
    "This is simply a method which combines (\"stacks\") a number of existing models and then makes final predictions based on the \"majority vote\" of the component models.\n",
    "\n",
    "For this example, we're creating an ensemble from the random forest, gradient boosting, bagging, naïve Bayes, and logistic regression models already evaluated."
   ]
  },
  {
   "cell_type": "markdown",
   "metadata": {},
   "source": [
    "<center><i>Results in Brief</i></center>\n",
    "\n",
    "| **Model**   |**CV Accuracy**|             **Lift**             |        **CV Spread**        |\n",
    "|-------------|---------------|----------------------------------|-----------------------------|\n",
    "|    STK-5    |     82.08%    |<font color=\"green\">+31.47%</font>|<font color=\"yellowgreen\">8.92%</font>|"
   ]
  },
  {
   "cell_type": "code",
   "execution_count": 121,
   "metadata": {},
   "outputs": [],
   "source": [
    "from sklearn.ensemble import VotingClassifier\n",
    "from sklearn.ensemble import RandomForestClassifier\n",
    "from sklearn.ensemble import GradientBoostingClassifier\n",
    "from sklearn.ensemble import BaggingClassifier\n",
    "from sklearn.naive_bayes import BernoulliNB\n",
    "from sklearn.linear_model import LogisticRegression\n",
    "from sklearn.tree import DecisionTreeClassifier"
   ]
  },
  {
   "cell_type": "code",
   "execution_count": 122,
   "metadata": {},
   "outputs": [
    {
     "name": "stdout",
     "output_type": "stream",
     "text": [
      "Accuracy: 0.7975 (+/- 0.0221) [Logistic Regression]\n",
      "Accuracy: 0.8026 (+/- 0.0236) [Random Forest]\n",
      "Accuracy: 0.8196 (+/- 0.0281) [Gradient Boosting]\n",
      "Accuracy: 0.8117 (+/- 0.0209) [Bagging]\n",
      "Accuracy: 0.7468 (+/- 0.0233) [Naïve Bayes, Bernoulli]\n",
      "Accuracy: 0.8156 (+/- 0.0202) [Ensemble]\n",
      "\n",
      "Running time: 00:04:12\n",
      "\n"
     ]
    },
    {
     "data": {
      "text/plain": [
       "''"
      ]
     },
     "execution_count": 122,
     "metadata": {},
     "output_type": "execute_result"
    }
   ],
   "source": [
    "# Stacking (Ensemble Voting Classifier)\n",
    "# Takes ~ 15 minutes\n",
    "start_time = time.time()\n",
    "\n",
    "# Define\n",
    "### Random Forest\n",
    "clf_rf = RandomForestClassifier(criterion = 'gini', \n",
    "                                class_weight = 'balanced', \n",
    "                                n_estimators = 500, \n",
    "                                max_features = 18, \n",
    "                                min_samples_split = 12, \n",
    "                                n_jobs = -1,\n",
    "                                random_state = 7)\n",
    "\n",
    "### Gradient Boosting\n",
    "clf_gbc = GradientBoostingClassifier(learning_rate = 0.10, \n",
    "                                     n_estimators = 200, \n",
    "                                     min_samples_split = 15, \n",
    "                                     min_samples_leaf = 3,\n",
    "                                     random_state = 7)\n",
    "\n",
    "### Bagging\n",
    "clf_bag = BaggingClassifier(n_estimators = 500, \n",
    "                            max_features = 0.9, \n",
    "                            max_samples = 0.8,\n",
    "                            n_jobs = -1,\n",
    "                            random_state = 7)\n",
    "\n",
    "### Naïve Bayes, Bernoulli\n",
    "clf_nbb = BernoulliNB(alpha = 7.6, \n",
    "                      binarize = 0)\n",
    "\n",
    "### Logistic Regression, L1\n",
    "clf_log_l1 = LogisticRegression(solver = 'saga', \n",
    "                                penalty = 'l1',\n",
    "                                class_weight = None, \n",
    "                                C = 0.30, \n",
    "                                max_iter = 10000,\n",
    "                                n_jobs = -1,\n",
    "                                random_state = 7)\n",
    "\n",
    "\n",
    "\n",
    "### Ensemble\n",
    "eclf = VotingClassifier(estimators = [('rf', clf_rf), \n",
    "                                      ('gbc', clf_gbc), \n",
    "                                      ('bag', clf_bag), \n",
    "                                      ('nbb', clf_nbb), \n",
    "                                      ('log_l1', clf_log_l1)], \n",
    "                        voting = 'hard', \n",
    "                        n_jobs = -1)\n",
    "\n",
    "# Summarize\n",
    "for MV, label in zip([clf_log_l1],\n",
    "                     ['Logistic Regression']): # Run logistic Reg separately because it needs to use the Scaled data\n",
    "\n",
    "    scores = cross_val_score(MV, features_train_scaled, target_train, \n",
    "                             cv = 5, \n",
    "                             scoring = 'accuracy')\n",
    "    print(\"Accuracy: %0.4f (+/- %0.4f) [%s]\" % (scores.mean(), scores.std(), label))\n",
    "    \n",
    "for MV, label in zip([clf_rf, clf_gbc, clf_bag, clf_nbb, \n",
    "                      eclf],\n",
    "                     ['Random Forest', 'Gradient Boosting', 'Bagging', 'Naïve Bayes, Bernoulli', \n",
    "                      'Ensemble']):\n",
    "\n",
    "    scores = cross_val_score(MV, features_train, target_train,\n",
    "                             cv = 5,\n",
    "                             scoring = 'accuracy')\n",
    "    print(\"Accuracy: %0.4f (+/- %0.4f) [%s]\" % (scores.mean(), scores.std(), label))\n",
    "    \n",
    "print(\"\")\n",
    "running_time()"
   ]
  },
  {
   "cell_type": "code",
   "execution_count": 123,
   "metadata": {},
   "outputs": [
    {
     "name": "stdout",
     "output_type": "stream",
     "text": [
      "Running time: 00:00:46\n",
      "\n",
      "STK Accuracy: 0.8455\n",
      "STK Lift: 0.3394\n",
      "\n",
      "             precision    recall  f1-score   support\n",
      "\n",
      "       Loss       0.85      0.84      0.85       167\n",
      "        Win       0.84      0.85      0.84       163\n",
      "\n",
      "avg / total       0.85      0.85      0.85       330\n",
      "\n"
     ]
    }
   ],
   "source": [
    "# Ensemble Voting, continued\n",
    "start_time = time.time()\n",
    "\n",
    "# Fit\n",
    "eclf.fit(features_train, target_train)\n",
    "\n",
    "# Predict\n",
    "target_predicted_eclf = eclf.predict(features_test)\n",
    "\n",
    "# Evaluate\n",
    "running_time()\n",
    "model_results(eclf, target_predicted_eclf, 'STK')"
   ]
  },
  {
   "cell_type": "markdown",
   "metadata": {},
   "source": [
    "> Note how long it took this model just to fit to the data and make predictions—45 seconds, compared to the instant results of other models."
   ]
  },
  {
   "cell_type": "code",
   "execution_count": 124,
   "metadata": {},
   "outputs": [
    {
     "name": "stdout",
     "output_type": "stream",
     "text": [
      "Running time: 00:02:41\n",
      "\n",
      "Cross Validation Score for each K:\n",
      "[ 0.7949  0.8333  0.8205  0.8590  0.8052\n",
      "  0.7792  0.7895  0.8289  0.8684  0.8289]\n",
      "\n",
      "Range: 0.0892\n",
      "\n",
      "Average: 0.8208\n",
      "Lift: 0.3147\n",
      "\n"
     ]
    }
   ],
   "source": [
    "# Verify with 10-fold Cross-validation\n",
    "start_time = time.time()\n",
    "\n",
    "scores = cross_val_score(eclf, features_train_scaled, target_train, cv = 10)\n",
    "\n",
    "np.set_printoptions(formatter = {'float': '{: 0.4f}'.format}, linewidth = 45)\n",
    "\n",
    "running_time()\n",
    "print(cv_results(scores))"
   ]
  },
  {
   "cell_type": "code",
   "execution_count": 125,
   "metadata": {},
   "outputs": [
    {
     "data": {
      "image/png": "[encoded data removed]",
      "text/plain": [
       "<matplotlib.figure.Figure at 0x281df706f28>"
      ]
     },
     "metadata": {},
     "output_type": "display_data"
    },
    {
     "data": {
      "text/html": [
       "<div>\n",
       "<style scoped>\n",
       "    .dataframe tbody tr th:only-of-type {\n",
       "        vertical-align: middle;\n",
       "    }\n",
       "\n",
       "    .dataframe tbody tr th {\n",
       "        vertical-align: top;\n",
       "    }\n",
       "\n",
       "    .dataframe thead th {\n",
       "        text-align: right;\n",
       "    }\n",
       "</style>\n",
       "<table border=\"1\" class=\"dataframe\">\n",
       "  <thead>\n",
       "    <tr style=\"text-align: right;\">\n",
       "      <th></th>\n",
       "      <th>Pred L</th>\n",
       "      <th>Pred W</th>\n",
       "    </tr>\n",
       "  </thead>\n",
       "  <tbody>\n",
       "    <tr>\n",
       "      <th>True L</th>\n",
       "      <td>141</td>\n",
       "      <td>26</td>\n",
       "    </tr>\n",
       "    <tr>\n",
       "      <th>True W</th>\n",
       "      <td>25</td>\n",
       "      <td>138</td>\n",
       "    </tr>\n",
       "  </tbody>\n",
       "</table>\n",
       "</div>"
      ],
      "text/plain": [
       "        Pred L  Pred W\n",
       "True L     141      26\n",
       "True W      25     138"
      ]
     },
     "execution_count": 125,
     "metadata": {},
     "output_type": "execute_result"
    }
   ],
   "source": [
    "# Confusion Matrix for Ensemble Voting\n",
    "\n",
    "# Compute confusion matrix\n",
    "cnf_matrix_eclf = confusion_matrix(target_test, target_predicted_eclf)  # <- Specify model to use\n",
    "np.set_printoptions(precision = 2)\n",
    "\n",
    "# Plot normalized confusion matrix\n",
    "plt.figure()\n",
    "plot_confusion_matrix(cnf_matrix_eclf, classes = target_names, normalize = True, title = '\\n')\n",
    "plt.clim(0, 1.0) # Normalizes color scale to (0, 1) instead of (min, max) values\n",
    "plt.suptitle('STK Ensemble Confusion Matrix, normalized', fontproperties = main, fontsize = 16)\n",
    "plt.show()\n",
    "\n",
    "# View absolute count matrix in a table\n",
    "tidy(cnf_matrix_eclf)"
   ]
  },
  {
   "cell_type": "markdown",
   "metadata": {},
   "source": [
    "> Is it better than what we had already?"
   ]
  },
  {
   "cell_type": "code",
   "execution_count": 126,
   "metadata": {},
   "outputs": [
    {
     "data": {
      "text/html": [
       "<div>\n",
       "<style scoped>\n",
       "    .dataframe tbody tr th:only-of-type {\n",
       "        vertical-align: middle;\n",
       "    }\n",
       "\n",
       "    .dataframe tbody tr th {\n",
       "        vertical-align: top;\n",
       "    }\n",
       "\n",
       "    .dataframe thead th {\n",
       "        text-align: right;\n",
       "    }\n",
       "</style>\n",
       "<table border=\"1\" class=\"dataframe\">\n",
       "  <thead>\n",
       "    <tr style=\"text-align: right;\">\n",
       "      <th></th>\n",
       "      <th>Pred L</th>\n",
       "      <th>Pred W</th>\n",
       "    </tr>\n",
       "  </thead>\n",
       "  <tbody>\n",
       "    <tr>\n",
       "      <th>True L</th>\n",
       "      <td>141</td>\n",
       "      <td>26</td>\n",
       "    </tr>\n",
       "    <tr>\n",
       "      <th>True W</th>\n",
       "      <td>26</td>\n",
       "      <td>137</td>\n",
       "    </tr>\n",
       "  </tbody>\n",
       "</table>\n",
       "</div>"
      ],
      "text/plain": [
       "        Pred L  Pred W\n",
       "True L     141      26\n",
       "True W      26     137"
      ]
     },
     "execution_count": 126,
     "metadata": {},
     "output_type": "execute_result"
    }
   ],
   "source": [
    "# Random Forest confusion matrix table\n",
    "tidy(cnf_matrix_rf)"
   ]
  },
  {
   "cell_type": "markdown",
   "metadata": {},
   "source": [
    "> Compared to the Random Forest, which was the previous \"best model\", the Ensemble correctly predicted one additional Win.\n",
    ">\n",
    "> Technically, it is an improvement. But practically, we've already squeezed just about all the \"juice\" we can out of this data."
   ]
  },
  {
   "cell_type": "markdown",
   "metadata": {},
   "source": [
    "[Back to Models](#models)"
   ]
  },
  {
   "cell_type": "raw",
   "metadata": {},
   "source": [
    "<a id = 'svm'></a>"
   ]
  },
  {
   "cell_type": "markdown",
   "metadata": {},
   "source": [
    "<br>"
   ]
  },
  {
   "cell_type": "markdown",
   "metadata": {},
   "source": [
    "#### Support Vector Machines (SVM)\n",
    "___"
   ]
  },
  {
   "cell_type": "markdown",
   "metadata": {},
   "source": [
    "<center><i>Results in Brief</i></center>\n",
    "\n",
    "|    **Model**    |**CV Accuracy**|             **Lift**             |        **CV Spread**        |\n",
    "|-----------------|---------------|----------------------------------|-----------------------------|\n",
    "| Default SVM-Lin |     79.88%    |<font color=\"green\">+29.27%</font>|<font color=\"darkorange\">11.13%</font>|\n",
    "|   Tuned SVM-Lin |     80.79%    |<font color=\"green\">+30.19%</font>|<font color=\"yellowgreen\">9.89%</font>|\n",
    "| Default SVM-RBF |     77.79%    |<font color=\"green\">+27.18%</font>|<font color=\"yellowgreen\">7.89%</font>|\n",
    "|   Tuned SVM-RBF |     81.18%    |<font color=\"green\">+30.57%</font>|<font color=\"yellowgreen\">7.69%</font>|"
   ]
  },
  {
   "cell_type": "markdown",
   "metadata": {},
   "source": [
    "##### SVM Linear"
   ]
  },
  {
   "cell_type": "code",
   "execution_count": 127,
   "metadata": {},
   "outputs": [
    {
     "name": "stdout",
     "output_type": "stream",
     "text": [
      "Running time: 00:00:00\n",
      "\n",
      "Default Parameters:\n",
      "SVC(C=1.0, cache_size=200, class_weight=None, coef0=0.0,\n",
      "  decision_function_shape='ovr', degree=3, gamma='auto', kernel='linear',\n",
      "  max_iter=-1, probability=False, random_state=7, shrinking=True,\n",
      "  tol=0.001, verbose=False)\n",
      "\n",
      "SVM-Lin Accuracy: 0.7758\n",
      "SVM-Lin Lift: 0.2697\n",
      "\n",
      "             precision    recall  f1-score   support\n",
      "\n",
      "       Loss       0.78      0.77      0.78       167\n",
      "        Win       0.77      0.78      0.77       163\n",
      "\n",
      "avg / total       0.78      0.78      0.78       330\n",
      "\n"
     ]
    }
   ],
   "source": [
    "# SVM Linear, base model\n",
    "from sklearn.svm import SVC\n",
    "start_time = time.time()\n",
    "\n",
    "# Define\n",
    "svm_lin = SVC(kernel = 'linear', \n",
    "              random_state = 7)\n",
    "\n",
    "# Fit\n",
    "svm_lin.fit(features_train_scaled, target_train)\n",
    "\n",
    "# Predict\n",
    "target_predicted_svm_lin = svm_lin.predict(features_test_scaled)\n",
    "\n",
    "# Evaluate\n",
    "running_time()\n",
    "model_results_default(svm_lin, target_predicted_svm_lin, 'SVM-Lin')"
   ]
  },
  {
   "cell_type": "code",
   "execution_count": 128,
   "metadata": {},
   "outputs": [
    {
     "name": "stdout",
     "output_type": "stream",
     "text": [
      "Running time: 00:00:00\n",
      "\n",
      "Cross Validation Score for each K:\n",
      "[ 0.7692  0.8333  0.8205  0.7308  0.7922\n",
      "  0.8052  0.7763  0.8289  0.7895  0.8421]\n",
      "\n",
      "Range: 0.1113\n",
      "\n",
      "Average: 0.7988\n",
      "Lift: 0.2927\n",
      "\n"
     ]
    }
   ],
   "source": [
    "# Verify with 10-fold Cross-validation\n",
    "start_time = time.time()\n",
    "\n",
    "scores = cross_val_score(svm_lin, features_train_scaled, target_train, cv = 10)\n",
    "\n",
    "np.set_printoptions(formatter = {'float': '{: 0.4f}'.format}, linewidth = 45)\n",
    "\n",
    "running_time()\n",
    "print(cv_results(scores))"
   ]
  },
  {
   "cell_type": "markdown",
   "metadata": {},
   "source": [
    "> Accuracy and Range are both quite good. Let's tune it."
   ]
  },
  {
   "cell_type": "code",
   "execution_count": 129,
   "metadata": {},
   "outputs": [
    {
     "name": "stdout",
     "output_type": "stream",
     "text": [
      "Running time: 00:00:00\n",
      "\n",
      "SVM-Lin Accuracy: 0.7667\n",
      "SVM-Lin Lift: 0.2606\n",
      "\n",
      "             precision    recall  f1-score   support\n",
      "\n",
      "       Loss       0.78      0.75      0.77       167\n",
      "        Win       0.76      0.78      0.77       163\n",
      "\n",
      "avg / total       0.77      0.77      0.77       330\n",
      "\n"
     ]
    }
   ],
   "source": [
    "# SVM Linear, tuned model\n",
    "start_time = time.time()\n",
    "\n",
    "# Define\n",
    "svm_lin = SVC(kernel = 'linear', \n",
    "              C = 0.31, \n",
    "              random_state = 7)\n",
    "\n",
    "# Fit\n",
    "svm_lin.fit(features_train_scaled, target_train)\n",
    "\n",
    "# Predict\n",
    "target_predicted_svm_lin = svm_lin.predict(features_test_scaled)\n",
    "\n",
    "# Evaluate\n",
    "running_time()\n",
    "model_results(svm_lin, target_predicted_svm_lin, 'SVM-Lin')"
   ]
  },
  {
   "cell_type": "code",
   "execution_count": 130,
   "metadata": {},
   "outputs": [
    {
     "name": "stdout",
     "output_type": "stream",
     "text": [
      "Running time: 00:00:00\n",
      "\n",
      "Cross Validation Score for each K:\n",
      "[ 0.7564  0.8333  0.7949  0.7821  0.8182\n",
      "  0.8182  0.7763  0.8553  0.8158  0.8289]\n",
      "\n",
      "Range: 0.0989\n",
      "\n",
      "Average: 0.8079\n",
      "Lift: 0.3019\n",
      "\n"
     ]
    }
   ],
   "source": [
    "# Verify with 10-fold Cross-validation\n",
    "start_time = time.time()\n",
    "\n",
    "scores = cross_val_score(svm_lin, features_train_scaled, target_train, cv = 10)\n",
    "\n",
    "np.set_printoptions(formatter = {'float': '{: 0.4f}'.format}, linewidth = 45)\n",
    "\n",
    "running_time()\n",
    "print(cv_results(scores))"
   ]
  },
  {
   "cell_type": "code",
   "execution_count": 131,
   "metadata": {},
   "outputs": [
    {
     "data": {
      "image/png": "[encoded data removed]",
      "text/plain": [
       "<matplotlib.figure.Figure at 0x281e096c390>"
      ]
     },
     "metadata": {},
     "output_type": "display_data"
    },
    {
     "data": {
      "text/html": [
       "<div>\n",
       "<style scoped>\n",
       "    .dataframe tbody tr th:only-of-type {\n",
       "        vertical-align: middle;\n",
       "    }\n",
       "\n",
       "    .dataframe tbody tr th {\n",
       "        vertical-align: top;\n",
       "    }\n",
       "\n",
       "    .dataframe thead th {\n",
       "        text-align: right;\n",
       "    }\n",
       "</style>\n",
       "<table border=\"1\" class=\"dataframe\">\n",
       "  <thead>\n",
       "    <tr style=\"text-align: right;\">\n",
       "      <th></th>\n",
       "      <th>Pred L</th>\n",
       "      <th>Pred W</th>\n",
       "    </tr>\n",
       "  </thead>\n",
       "  <tbody>\n",
       "    <tr>\n",
       "      <th>True L</th>\n",
       "      <td>126</td>\n",
       "      <td>41</td>\n",
       "    </tr>\n",
       "    <tr>\n",
       "      <th>True W</th>\n",
       "      <td>36</td>\n",
       "      <td>127</td>\n",
       "    </tr>\n",
       "  </tbody>\n",
       "</table>\n",
       "</div>"
      ],
      "text/plain": [
       "        Pred L  Pred W\n",
       "True L     126      41\n",
       "True W      36     127"
      ]
     },
     "execution_count": 131,
     "metadata": {},
     "output_type": "execute_result"
    }
   ],
   "source": [
    "# Confusion Matrix for SVM Linear, tuned model\n",
    "\n",
    "# Compute confusion matrix\n",
    "cnf_matrix_svm_lin = confusion_matrix(target_test, target_predicted_svm_lin)  # <- Specify model to use\n",
    "np.set_printoptions(precision = 2)\n",
    "\n",
    "# Plot normalized confusion matrix\n",
    "plt.figure()\n",
    "plot_confusion_matrix(cnf_matrix_svm_lin, classes = target_names, normalize = True, title = '\\n')\n",
    "plt.clim(0, 1.0) # Normalizes color scale to (0, 1) instead of (min, max) values\n",
    "plt.suptitle('SVM-Lin Confusion Matrix, normalized', fontproperties = main, fontsize = 16)\n",
    "plt.show()\n",
    "\n",
    "# View absolute count matrix in a table\n",
    "tidy(cnf_matrix_svm_lin)"
   ]
  },
  {
   "cell_type": "markdown",
   "metadata": {},
   "source": [
    "##### SVM RBF (Radial Basis Function)"
   ]
  },
  {
   "cell_type": "code",
   "execution_count": 132,
   "metadata": {},
   "outputs": [
    {
     "name": "stdout",
     "output_type": "stream",
     "text": [
      "Running time: 00:00:00\n",
      "\n",
      "Default Parameters:\n",
      "SVC(C=1.0, cache_size=200, class_weight=None, coef0=0.0,\n",
      "  decision_function_shape='ovr', degree=3, gamma='auto', kernel='rbf',\n",
      "  max_iter=-1, probability=False, random_state=7, shrinking=True,\n",
      "  tol=0.001, verbose=False)\n",
      "\n",
      "SVM-RBF Accuracy: 0.7515\n",
      "SVM-RBF Lift: 0.2455\n",
      "\n",
      "             precision    recall  f1-score   support\n",
      "\n",
      "       Loss       0.76      0.75      0.75       167\n",
      "        Win       0.75      0.75      0.75       163\n",
      "\n",
      "avg / total       0.75      0.75      0.75       330\n",
      "\n"
     ]
    }
   ],
   "source": [
    "# SVM RBF, base model\n",
    "from sklearn.svm import SVC\n",
    "start_time = time.time()\n",
    "\n",
    "# Define\n",
    "svm_rbf = SVC(kernel = 'rbf', \n",
    "              random_state = 7)\n",
    "\n",
    "# Fit\n",
    "svm_rbf.fit(features_train_scaled, target_train)\n",
    "\n",
    "# Predict\n",
    "target_predicted_svm_rbf = svm_rbf.predict(features_test_scaled)\n",
    "\n",
    "# Evaluate\n",
    "running_time()\n",
    "model_results_default(svm_rbf, target_predicted_svm_rbf, 'SVM-RBF')"
   ]
  },
  {
   "cell_type": "code",
   "execution_count": 133,
   "metadata": {},
   "outputs": [
    {
     "name": "stdout",
     "output_type": "stream",
     "text": [
      "Running time: 00:00:01\n",
      "\n",
      "Cross Validation Score for each K:\n",
      "[ 0.7564  0.7949  0.7692  0.7949  0.7662\n",
      "  0.7922  0.7368  0.7895  0.8158  0.7632]\n",
      "\n",
      "Range: 0.0789\n",
      "\n",
      "Average: 0.7779\n",
      "Lift: 0.2718\n",
      "\n"
     ]
    }
   ],
   "source": [
    "# Verify with 10-fold Cross-validation\n",
    "start_time = time.time()\n",
    "\n",
    "scores = cross_val_score(svm_rbf, features_train_scaled, target_train, cv = 10)\n",
    "\n",
    "np.set_printoptions(formatter = {'float': '{: 0.4f}'.format}, linewidth = 45)\n",
    "\n",
    "running_time()\n",
    "print(cv_results(scores))"
   ]
  },
  {
   "cell_type": "markdown",
   "metadata": {},
   "source": [
    "Setting up a grid search for SVM RBF, according to the [documentation](http://scikit-learn.org/stable/modules/svm.html#parameters-of-the-rbf-kernel):\n",
    "> Proper choice of `C` and `gamma` is critical to the SVM’s performance. One is advised to use `sklearn.model_selection.GridSearchCV` with `C` and `gamma` spaced exponentially far apart to choose good values."
   ]
  },
  {
   "cell_type": "code",
   "execution_count": 134,
   "metadata": {},
   "outputs": [
    {
     "name": "stdout",
     "output_type": "stream",
     "text": [
      "Running time: 00:00:54\n",
      "\n",
      "Best Score:  0.8039\n",
      "Best Params: {'C': 10, 'gamma': 0.01}\n"
     ]
    }
   ],
   "source": [
    "# Grid search for SVM RBF\n",
    "start_time = time.time()\n",
    "\n",
    "# Define the model to test\n",
    "svm_rbf = SVC(kernel = 'rbf', \n",
    "              random_state = 7)\n",
    "\n",
    "# Define range of parameters\n",
    "param_grid = {\n",
    "    'C': [0.001, 0.01, 0.1, 1, 10, 100, 1000],\n",
    "    'gamma': [0.001, 0.01, 0.1, 1, 10, 100, 1000]\n",
    "}\n",
    "\n",
    "# Run grid search with 10-fold CV\n",
    "grid_search = GridSearchCV(svm_rbf,  # <- Specify model to use\n",
    "                           param_grid = param_grid, \n",
    "                           scoring = 'accuracy',\n",
    "                           n_jobs = -1,  # Parallel processing. -1 to use all available cores\n",
    "                           cv = 10)\n",
    "\n",
    "grid_search.fit(features_train_scaled, target_train)\n",
    "\n",
    "running_time()\n",
    "print(\"Best Score: {0: .4f}\".format(grid_search.best_score_))\n",
    "print(\"Best Params: {}\".format(grid_search.best_params_))"
   ]
  },
  {
   "cell_type": "markdown",
   "metadata": {},
   "source": [
    "Now use those values to re-run the grid search on a narrower range."
   ]
  },
  {
   "cell_type": "code",
   "execution_count": 135,
   "metadata": {},
   "outputs": [
    {
     "name": "stdout",
     "output_type": "stream",
     "text": [
      "Running time: 00:01:34\n",
      "\n",
      "Best Score:  0.8117\n",
      "Best Params: {'C': 9, 'gamma': 0.02}\n"
     ]
    }
   ],
   "source": [
    "# Refined Grid search for SVM RBF\n",
    "start_time = time.time()\n",
    "\n",
    "# Define the model to test\n",
    "svm_rbf = SVC(kernel = 'rbf', \n",
    "              random_state = 7)\n",
    "\n",
    "# Define range of parameters\n",
    "param_grid = {\n",
    "    'C': range(3, 25, \n",
    "               2),\n",
    "    'gamma': np.arange(0.005, 0.075, \n",
    "                       0.005)\n",
    "}\n",
    "\n",
    "# Run grid search with 10-fold CV\n",
    "grid_search = GridSearchCV(svm_rbf,  # <- Specify model to use\n",
    "                           param_grid = param_grid, \n",
    "                           scoring = 'accuracy',\n",
    "                           n_jobs = -1,  # Parallel processing. -1 to use all available cores\n",
    "                           cv = 10)\n",
    "\n",
    "grid_search.fit(features_train_scaled, target_train)\n",
    "\n",
    "running_time()\n",
    "print(\"Best Score: {0: .4f}\".format(grid_search.best_score_))\n",
    "print(\"Best Params: {}\".format(grid_search.best_params_))"
   ]
  },
  {
   "cell_type": "markdown",
   "metadata": {},
   "source": [
    "And now we can load those parameters into the model."
   ]
  },
  {
   "cell_type": "code",
   "execution_count": 136,
   "metadata": {},
   "outputs": [
    {
     "name": "stdout",
     "output_type": "stream",
     "text": [
      "Running time: 00:00:00\n",
      "\n",
      "SVM-RBF Accuracy: 0.7758\n",
      "SVM-RBF Lift: 0.2697\n",
      "\n",
      "             precision    recall  f1-score   support\n",
      "\n",
      "       Loss       0.78      0.77      0.78       167\n",
      "        Win       0.77      0.78      0.77       163\n",
      "\n",
      "avg / total       0.78      0.78      0.78       330\n",
      "\n"
     ]
    }
   ],
   "source": [
    "# SVM RBF, tuned model\n",
    "start_time = time.time()\n",
    "\n",
    "# Define\n",
    "svm_rbf = SVC(kernel = 'rbf', \n",
    "              C = 9, \n",
    "              gamma = 0.02,\n",
    "              random_state = 7)\n",
    "\n",
    "# Fit\n",
    "svm_rbf.fit(features_train_scaled, target_train)\n",
    "\n",
    "# Predict\n",
    "target_predicted_svm_rbf = svm_rbf.predict(features_test_scaled)\n",
    "\n",
    "# Evaluate\n",
    "running_time()\n",
    "model_results(svm_rbf, target_predicted_svm_rbf, 'SVM-RBF')"
   ]
  },
  {
   "cell_type": "code",
   "execution_count": 137,
   "metadata": {},
   "outputs": [
    {
     "name": "stdout",
     "output_type": "stream",
     "text": [
      "Running time: 00:00:01\n",
      "\n",
      "Cross Validation Score for each K:\n",
      "[ 0.7692  0.8462  0.8077  0.7692  0.8182\n",
      "  0.8312  0.7895  0.8421  0.8289  0.8158]\n",
      "\n",
      "Range: 0.0769\n",
      "\n",
      "Average: 0.8118\n",
      "Lift: 0.3057\n",
      "\n"
     ]
    }
   ],
   "source": [
    "# Verify with 10-fold Cross-validation\n",
    "start_time = time.time()\n",
    "\n",
    "scores = cross_val_score(svm_rbf, features_train_scaled, target_train, cv = 10)\n",
    "\n",
    "np.set_printoptions(formatter = {'float': '{: 0.4f}'.format}, linewidth = 45)\n",
    "\n",
    "running_time()\n",
    "print(cv_results(scores))"
   ]
  },
  {
   "cell_type": "code",
   "execution_count": 138,
   "metadata": {},
   "outputs": [
    {
     "data": {
      "image/png": "[encoded data removed]",
      "text/plain": [
       "<matplotlib.figure.Figure at 0x281de060cf8>"
      ]
     },
     "metadata": {},
     "output_type": "display_data"
    },
    {
     "data": {
      "text/html": [
       "<div>\n",
       "<style scoped>\n",
       "    .dataframe tbody tr th:only-of-type {\n",
       "        vertical-align: middle;\n",
       "    }\n",
       "\n",
       "    .dataframe tbody tr th {\n",
       "        vertical-align: top;\n",
       "    }\n",
       "\n",
       "    .dataframe thead th {\n",
       "        text-align: right;\n",
       "    }\n",
       "</style>\n",
       "<table border=\"1\" class=\"dataframe\">\n",
       "  <thead>\n",
       "    <tr style=\"text-align: right;\">\n",
       "      <th></th>\n",
       "      <th>Pred L</th>\n",
       "      <th>Pred W</th>\n",
       "    </tr>\n",
       "  </thead>\n",
       "  <tbody>\n",
       "    <tr>\n",
       "      <th>True L</th>\n",
       "      <td>129</td>\n",
       "      <td>38</td>\n",
       "    </tr>\n",
       "    <tr>\n",
       "      <th>True W</th>\n",
       "      <td>36</td>\n",
       "      <td>127</td>\n",
       "    </tr>\n",
       "  </tbody>\n",
       "</table>\n",
       "</div>"
      ],
      "text/plain": [
       "        Pred L  Pred W\n",
       "True L     129      38\n",
       "True W      36     127"
      ]
     },
     "execution_count": 138,
     "metadata": {},
     "output_type": "execute_result"
    }
   ],
   "source": [
    "# Confusion Matrix for SVM RBF, tuned model\n",
    "\n",
    "# Compute confusion matrix\n",
    "cnf_matrix_svm_rbf = confusion_matrix(target_test, target_predicted_svm_rbf)  # <- Specify model to use\n",
    "np.set_printoptions(precision = 2)\n",
    "\n",
    "# Plot normalized confusion matrix\n",
    "plt.figure()\n",
    "plot_confusion_matrix(cnf_matrix_svm_rbf, classes = target_names, normalize = True, title = '\\n')\n",
    "plt.clim(0, 1.0) # Normalizes color scale to (0, 1) instead of (min, max) values\n",
    "plt.suptitle('SVM-RBF Confusion Matrix, normalized', fontproperties = main, fontsize = 16)\n",
    "plt.show()\n",
    "\n",
    "# View absolute count matrix in a table\n",
    "tidy(cnf_matrix_svm_rbf)"
   ]
  },
  {
   "cell_type": "markdown",
   "metadata": {},
   "source": [
    "[Back to Models](#models)"
   ]
  },
  {
   "cell_type": "raw",
   "metadata": {},
   "source": [
    "<a id = 'ann'></a>"
   ]
  },
  {
   "cell_type": "markdown",
   "metadata": {},
   "source": [
    "<br>"
   ]
  },
  {
   "cell_type": "markdown",
   "metadata": {},
   "source": [
    "#### Artificial Neural Network (ANN)\n",
    "___\n",
    "The heart of the ANN model class resides in \"Hidden Layers\"—magical black-boxes that transform input data beyond all human comprehension."
   ]
  },
  {
   "cell_type": "markdown",
   "metadata": {},
   "source": [
    "<center><i>Results in Brief</i></center>\n",
    "\n",
    "|      **Model**       |**CV Accuracy**|             **Lift**             |        **CV Spread**        |\n",
    "|----------------------|---------------|----------------------------------|-----------------------------|\n",
    "| Default ANN, 1-layer |     75.73%    |<font color=\"green\">+25.12%</font>|<font color=\"darkorange\">14.98%</font>|\n",
    "|   Tuned ANN, 1-layer |     80.78%    |<font color=\"green\">+30.18%</font>|<font color=\"yellowgreen\">9.62%</font>|\n",
    "|   Tuned ANN, 2-layer |     80.79%    |<font color=\"green\">+30.18%</font>|<font color=\"darkorange\">11.36%</font>|"
   ]
  },
  {
   "cell_type": "code",
   "execution_count": 139,
   "metadata": {},
   "outputs": [
    {
     "name": "stdout",
     "output_type": "stream",
     "text": [
      "Running time: 00:00:01\n",
      "\n",
      "Default Parameters:\n",
      "MLPClassifier(activation='relu', alpha=0.0001, batch_size='auto', beta_1=0.9,\n",
      "       beta_2=0.999, early_stopping=False, epsilon=1e-08,\n",
      "       hidden_layer_sizes=(100,), learning_rate='constant',\n",
      "       learning_rate_init=0.001, max_iter=200, momentum=0.9,\n",
      "       nesterovs_momentum=True, power_t=0.5, random_state=7, shuffle=True,\n",
      "       solver='adam', tol=0.0001, validation_fraction=0.1, verbose=False,\n",
      "       warm_start=False)\n",
      "\n",
      "ANN Accuracy: 0.7485\n",
      "ANN Lift: 0.2424\n",
      "\n",
      "             precision    recall  f1-score   support\n",
      "\n",
      "       Loss       0.74      0.78      0.76       167\n",
      "        Win       0.76      0.71      0.74       163\n",
      "\n",
      "avg / total       0.75      0.75      0.75       330\n",
      "\n"
     ]
    }
   ],
   "source": [
    "# Neural Network, base model\n",
    "from sklearn.neural_network import MLPClassifier\n",
    "start_time = time.time()\n",
    "\n",
    "# Define\n",
    "clf_ann = MLPClassifier(random_state = 7)\n",
    "\n",
    "# Fit\n",
    "clf_ann.fit(features_train_scaled, target_train)\n",
    "\n",
    "# Predict\n",
    "target_predicted_ann = clf_ann.predict(features_test_scaled)\n",
    "\n",
    "# Evaluate\n",
    "running_time()\n",
    "model_results_default(clf_ann, target_predicted_ann, 'ANN')"
   ]
  },
  {
   "cell_type": "code",
   "execution_count": 140,
   "metadata": {},
   "outputs": [
    {
     "name": "stdout",
     "output_type": "stream",
     "text": [
      "Running time: 00:00:14\n",
      "\n",
      "Cross Validation Score for each K:\n",
      "[ 0.7436  0.7692  0.7821  0.6923  0.7532\n",
      "  0.7273  0.7105  0.8421  0.7500  0.8026]\n",
      "\n",
      "Range: 0.1498\n",
      "\n",
      "Average: 0.7573\n",
      "Lift: 0.2512\n",
      "\n"
     ]
    }
   ],
   "source": [
    "# Verify with 10-fold Cross-validation\n",
    "start_time = time.time()\n",
    "\n",
    "scores = cross_val_score(clf_ann, features_train_scaled, target_train, cv = 10)\n",
    "\n",
    "np.set_printoptions(formatter = {'float': '{: 0.4f}'.format}, linewidth = 45)\n",
    "\n",
    "running_time()\n",
    "print(cv_results(scores))"
   ]
  },
  {
   "cell_type": "markdown",
   "metadata": {},
   "source": [
    "##### One Hidden Layer"
   ]
  },
  {
   "cell_type": "code",
   "execution_count": 141,
   "metadata": {},
   "outputs": [
    {
     "name": "stdout",
     "output_type": "stream",
     "text": [
      "Running time: 00:00:00\n",
      "\n",
      "ANN-1 Accuracy: 0.7727\n",
      "ANN-1 Lift: 0.2667\n",
      "\n",
      "             precision    recall  f1-score   support\n",
      "\n",
      "       Loss       0.77      0.78      0.78       167\n",
      "        Win       0.78      0.76      0.77       163\n",
      "\n",
      "avg / total       0.77      0.77      0.77       330\n",
      "\n"
     ]
    }
   ],
   "source": [
    "# Neural Network, tuned model (one layer)\n",
    "start_time = time.time()\n",
    "\n",
    "# Define\n",
    "clf_ann_1 = MLPClassifier(solver = 'lbfgs', \n",
    "                          alpha = 10, \n",
    "                          hidden_layer_sizes = (72), \n",
    "                          random_state = 7)\n",
    "\n",
    "# Fit\n",
    "clf_ann_1.fit(features_train_scaled, target_train)\n",
    "\n",
    "# Predict\n",
    "target_predicted_ann_1 = clf_ann_1.predict(features_test_scaled)\n",
    "\n",
    "# Evaluate\n",
    "running_time()\n",
    "model_results(clf_ann_1, target_predicted_ann_1, 'ANN-1')"
   ]
  },
  {
   "cell_type": "code",
   "execution_count": 142,
   "metadata": {},
   "outputs": [
    {
     "name": "stdout",
     "output_type": "stream",
     "text": [
      "Running time: 00:00:07\n",
      "\n",
      "Cross Validation Score for each K:\n",
      "[ 0.7692  0.8462  0.8205  0.7821  0.8052\n",
      "  0.8182  0.7500  0.8421  0.8026  0.8421]\n",
      "\n",
      "Range: 0.0962\n",
      "\n",
      "Average: 0.8078\n",
      "Lift: 0.3018\n",
      "\n"
     ]
    }
   ],
   "source": [
    "# Verify with 10-fold Cross-validation\n",
    "start_time = time.time()\n",
    "\n",
    "scores = cross_val_score(clf_ann_1, features_train_scaled, target_train, cv = 10)\n",
    "\n",
    "np.set_printoptions(formatter = {'float': '{: 0.4f}'.format}, linewidth = 45)\n",
    "\n",
    "running_time()\n",
    "print(cv_results(scores))"
   ]
  },
  {
   "cell_type": "markdown",
   "metadata": {},
   "source": [
    "##### Two Hidden Layers\n",
    "\n",
    "The general \"rule\" for hidden layer sizes is that each layer should have fewer nodes than its input, but more than its output. Input can be either the features themselves or a previous hidden layer. Output can be either another downstream hidden layer, or the final classification outcomes. (Generally, one Hidden Layer is sufficient. Any more than two is considered excessive in most cases.)\n",
    "\n",
    "So in the code below, we've settled on:\n",
    "\n",
    "**293** data fratures <br>\n",
    "\\/ <br>\n",
    "**168** nodes in HL1 <br>\n",
    "\\/ <br>\n",
    "**18** nodes in HL2 <br>\n",
    "\\/ <br>\n",
    "**2** final outcomes"
   ]
  },
  {
   "cell_type": "code",
   "execution_count": 143,
   "metadata": {},
   "outputs": [
    {
     "name": "stdout",
     "output_type": "stream",
     "text": [
      "Running time: 00:00:02\n",
      "\n",
      "ANN-2 Accuracy: 0.7788\n",
      "ANN-2 Lift: 0.2727\n",
      "\n",
      "             precision    recall  f1-score   support\n",
      "\n",
      "       Loss       0.77      0.80      0.79       167\n",
      "        Win       0.79      0.75      0.77       163\n",
      "\n",
      "avg / total       0.78      0.78      0.78       330\n",
      "\n"
     ]
    }
   ],
   "source": [
    "# Neural Network, tuned model (two layers)\n",
    "start_time = time.time()\n",
    "\n",
    "# Define\n",
    "clf_ann_2 = MLPClassifier(solver = 'lbfgs', \n",
    "                          alpha = 15, \n",
    "                          hidden_layer_sizes = (168, 18),\n",
    "                          random_state = 7)\n",
    "\n",
    "# Fit\n",
    "clf_ann_2.fit(features_train_scaled, target_train)\n",
    "\n",
    "# Predict\n",
    "target_predicted_ann_2 = clf_ann_2.predict(features_test_scaled)\n",
    "\n",
    "# Evaluate\n",
    "running_time()\n",
    "model_results(clf_ann_2, target_predicted_ann_2, 'ANN-2')"
   ]
  },
  {
   "cell_type": "code",
   "execution_count": 144,
   "metadata": {},
   "outputs": [
    {
     "name": "stdout",
     "output_type": "stream",
     "text": [
      "Running time: 00:00:20\n",
      "\n",
      "Cross Validation Score for each K:\n",
      "[ 0.7436  0.8333  0.7949  0.7821  0.8571\n",
      "  0.8312  0.7500  0.8553  0.7895  0.8421]\n",
      "\n",
      "Range: 0.1136\n",
      "\n",
      "Average: 0.8079\n",
      "Lift: 0.3018\n",
      "\n"
     ]
    }
   ],
   "source": [
    "# Verify with 10-fold Cross-validation\n",
    "start_time = time.time()\n",
    "\n",
    "scores = cross_val_score(clf_ann_2, features_train_scaled, target_train, cv = 10)\n",
    "\n",
    "np.set_printoptions(formatter = {'float': '{: 0.4f}'.format}, linewidth = 45)\n",
    "\n",
    "running_time()\n",
    "print(cv_results(scores))"
   ]
  },
  {
   "cell_type": "code",
   "execution_count": 145,
   "metadata": {},
   "outputs": [
    {
     "data": {
      "image/png": "[encoded data removed]",
      "text/plain": [
       "<matplotlib.figure.Figure at 0x281e09c6c18>"
      ]
     },
     "metadata": {},
     "output_type": "display_data"
    },
    {
     "data": {
      "image/png": "[encoded data removed]",
      "text/plain": [
       "<matplotlib.figure.Figure at 0x281e09d9f60>"
      ]
     },
     "metadata": {},
     "output_type": "display_data"
    }
   ],
   "source": [
    "# Confusion Matrix for Neural Network, tuned models 1 & 2\n",
    "\n",
    "# Compute confusion matrices\n",
    "cnf_matrix_ann_1 = confusion_matrix(target_test, target_predicted_ann_1)  # <- Specify model to use\n",
    "cnf_matrix_ann_2 = confusion_matrix(target_test, target_predicted_ann_2)  # <- Specify model to use\n",
    "np.set_printoptions(precision = 2)\n",
    "\n",
    "# Plot normalized confusion matrix, ANN-1\n",
    "plt.figure()\n",
    "plot_confusion_matrix(cnf_matrix_ann_1, classes = target_names, normalize = True, title = '\\n')\n",
    "plt.clim(0, 1.0)\n",
    "plt.suptitle('ANN-1 Confusion Matrix, normalized', fontproperties = main, fontsize = 16)\n",
    "plt.show()\n",
    "\n",
    "# Plot normalized confusion matrix, ANN-2\n",
    "plt.figure()\n",
    "plot_confusion_matrix(cnf_matrix_ann_2, classes = target_names, normalize = True, title = '\\n')\n",
    "plt.clim(0, 1.0)\n",
    "plt.suptitle('ANN-2 Confusion Matrix, normalized', fontproperties = main, fontsize = 16)\n",
    "plt.show()"
   ]
  },
  {
   "cell_type": "code",
   "execution_count": 146,
   "metadata": {},
   "outputs": [
    {
     "name": "stdout",
     "output_type": "stream",
     "text": [
      "ANN-1, absolute counts\n"
     ]
    },
    {
     "data": {
      "text/html": [
       "<div>\n",
       "<style scoped>\n",
       "    .dataframe tbody tr th:only-of-type {\n",
       "        vertical-align: middle;\n",
       "    }\n",
       "\n",
       "    .dataframe tbody tr th {\n",
       "        vertical-align: top;\n",
       "    }\n",
       "\n",
       "    .dataframe thead th {\n",
       "        text-align: right;\n",
       "    }\n",
       "</style>\n",
       "<table border=\"1\" class=\"dataframe\">\n",
       "  <thead>\n",
       "    <tr style=\"text-align: right;\">\n",
       "      <th></th>\n",
       "      <th>Pred L</th>\n",
       "      <th>Pred W</th>\n",
       "    </tr>\n",
       "  </thead>\n",
       "  <tbody>\n",
       "    <tr>\n",
       "      <th>True L</th>\n",
       "      <td>131</td>\n",
       "      <td>36</td>\n",
       "    </tr>\n",
       "    <tr>\n",
       "      <th>True W</th>\n",
       "      <td>39</td>\n",
       "      <td>124</td>\n",
       "    </tr>\n",
       "  </tbody>\n",
       "</table>\n",
       "</div>"
      ],
      "text/plain": [
       "        Pred L  Pred W\n",
       "True L     131      36\n",
       "True W      39     124"
      ]
     },
     "execution_count": 146,
     "metadata": {},
     "output_type": "execute_result"
    }
   ],
   "source": [
    "# View absolute count matrix in a table\n",
    "print(\"ANN-1, absolute counts\")\n",
    "tidy(cnf_matrix_ann_1)"
   ]
  },
  {
   "cell_type": "code",
   "execution_count": 147,
   "metadata": {
    "scrolled": true
   },
   "outputs": [
    {
     "name": "stdout",
     "output_type": "stream",
     "text": [
      "ANN-2, absolute counts\n"
     ]
    },
    {
     "data": {
      "text/html": [
       "<div>\n",
       "<style scoped>\n",
       "    .dataframe tbody tr th:only-of-type {\n",
       "        vertical-align: middle;\n",
       "    }\n",
       "\n",
       "    .dataframe tbody tr th {\n",
       "        vertical-align: top;\n",
       "    }\n",
       "\n",
       "    .dataframe thead th {\n",
       "        text-align: right;\n",
       "    }\n",
       "</style>\n",
       "<table border=\"1\" class=\"dataframe\">\n",
       "  <thead>\n",
       "    <tr style=\"text-align: right;\">\n",
       "      <th></th>\n",
       "      <th>Pred L</th>\n",
       "      <th>Pred W</th>\n",
       "    </tr>\n",
       "  </thead>\n",
       "  <tbody>\n",
       "    <tr>\n",
       "      <th>True L</th>\n",
       "      <td>134</td>\n",
       "      <td>33</td>\n",
       "    </tr>\n",
       "    <tr>\n",
       "      <th>True W</th>\n",
       "      <td>40</td>\n",
       "      <td>123</td>\n",
       "    </tr>\n",
       "  </tbody>\n",
       "</table>\n",
       "</div>"
      ],
      "text/plain": [
       "        Pred L  Pred W\n",
       "True L     134      33\n",
       "True W      40     123"
      ]
     },
     "execution_count": 147,
     "metadata": {},
     "output_type": "execute_result"
    }
   ],
   "source": [
    "# View absolute count matrix in a table\n",
    "print(\"ANN-2, absolute counts\")\n",
    "tidy(cnf_matrix_ann_2)"
   ]
  },
  {
   "cell_type": "markdown",
   "metadata": {},
   "source": [
    "[Back to Models](#models)"
   ]
  },
  {
   "cell_type": "raw",
   "metadata": {},
   "source": [
    "<a id = 'results'></a>"
   ]
  },
  {
   "cell_type": "markdown",
   "metadata": {},
   "source": [
    "<br>"
   ]
  },
  {
   "cell_type": "markdown",
   "metadata": {},
   "source": [
    "### Results & Conclusion\n",
    "___"
   ]
  },
  {
   "cell_type": "markdown",
   "metadata": {},
   "source": [
    "<center><b>Model Performance Comparison</b></center>\n",
    "<center><i>Best Results from Each Section</i></center>\n",
    "\n",
    "|                   **Model**                 |**CV Accuracy**|             **Lift**             |        **CV Spread**        |\n",
    "|---------------------------------------------|---------------|----------------------------------|-----------------------------|\n",
    "|<div title=\"Decision Tree\">DT</div>          |69.36%|<font color=\"green\">+18.75%</font>|<font color=\"darkorange\">12.66%</font>|\n",
    "|<div title=\"Extra Trees\">XT</div>            |79.73%|<font color=\"green\">+29.13%</font>|<font color=\"darkorange\">11.84%</font>|\n",
    "|<div title=\"Random Forest\">RF</div>          |81.82%|<font color=\"green\">+31.21%</font>|<font color=\"yellowgreen\">9.27%</font>|\n",
    "|<div title=\"Boosted Decision Tree\">BDT</div> |78.19%|<font color=\"green\">+27.59%</font>|<font color=\"darkorange\">12.82%</font>|\n",
    "|<div title=\"Gradient Boosting\">GB</div>      |81.05%|<font color=\"green\">+30.44%</font>|<font color=\"yellowgreen\">7.59%</font>|\n",
    "|<div title=\"Bagging\">BAG</div>               |80.78%|<font color=\"green\">+30.18%</font>|<font color=\"yellowgreen\">8.27%</font>|\n",
    "|<div title=\"Logistic Regression, L2 regularized\">LOG (L2)</div>|80.13%|<font color=\"green\">+29.53%</font>|<font color=\"yellowgreen\">8.97%</font>|\n",
    "|<div title=\"Logistic Regression, L1 regularized\">LOG (L1)</div>|80.66%|<font color=\"green\">+30.05%</font>|<font color=\"yellowgreen\">7.29%</font>|\n",
    "|<div title=\"Naïve Bayes, Bernoulli\">NB-B</div>|74.27%|<font color=\"green\">+23.66%</font>|<font color=\"yellowgreen\">8.47%</font>|\n",
    "|<div title=\"15-Nearest Neighbors\">KNN-15</div>|73.51%|<font color=\"green\">+22.91%</font>|<font color=\"yellowgreen\">7.09%</font>|\n",
    "|<div title=\"36-Nearest Neighbors\">KNN-36</div>|75.98%|<font color=\"green\">+25.37%</font>|<font color=\"darkorange\">10.53%</font>|\n",
    "|<div title=\"5-model Ensemble Stack (RF, GB, BAG, NB-B, LOG-L2)\">STK-5</div>|82.08%|<font color=\"green\">+31.47%</font>|<font color=\"yellowgreen\">8.92%</font>|\n",
    "|<div title=\"Support Vector Machine, Linear\">SVM (Lin)</div>|80.79%|<font color=\"green\">+30.19%</font>|<font color=\"yellowgreen\">9.89%</font>|\n",
    "|<div title=\"Support Vector Machine, RBF kernel\">SVM (RBF)</div>|81.18%|<font color=\"green\">+30.57%</font>|<font color=\"yellowgreen\">7.69%</font>|\n",
    "|<div title=\"Artificial Neural Network, 1 Hidden Layer\">ANN-1</div>|80.78%|<font color=\"green\">+30.18%</font>|<font color=\"yellowgreen\">9.62%</font>|"
   ]
  },
  {
   "cell_type": "markdown",
   "metadata": {},
   "source": [
    "Based on the results, the best models appear to be RF (Random Forest) and STK-5 (Stack Ensemble). The Stack model incorporates five of the above models, including the random forest.\n",
    "\n",
    "Despite the STK model's slightly higher score, it comes with a massive increase in running time. The **random forest**, therefore, gets my recommendation for \"best\" model.\n",
    "\n",
    "We should note, however, the unusual similarities in performance across models. Regardless of the model, optimal performance was always very similar, with nearly-identical result patterns (confusion matrices). Another concern is the constant issue with overfitting. No model, when tested with 10-fold cross-validation, resulted in a spread of less than 7 points in accuracy scores. \n",
    "\n",
    "These two issues combined—a plateau in accuracy scores and an unavoidable risk of overfitting—have led me to conclude that we simply need more data. \n",
    "\n",
    "Of course, a single person couldn't play enough matches in a lifetime to generate the amount of data we need. But if the scope of the question is expanded—from \"what causes **me** to win?\" to \"what causes **anyone** to win?\"—we just might be able to get even better answers.\n",
    "\n",
    "##### Looking Forward\n",
    "\n",
    "Scaling up this project presents interesting challenges. How many rows of data do we want? 10,000? 100,000? Running these kinds of models on that much data would likely require the use of a distributed computing service, likely Apache Spark. Constraints to scaling include the cost of that service, as well as the time required to make the API calls necessary to gather the data.\n",
    "\n",
    "Beyond scaling, a further possibility is implementation, i.e. turning the knowledge gained into something useful. [Websites already exist](http://www.metasrc.com/na/aram/current?ranks=all) which are dedicated to aggregating match data to provide recommendations to users, but the use of predictive modeling could add new insight to such operations. Another possibility could make use of conditional probability to update in real-time the likelihood of a team winning their match, as new information becomes available."
   ]
  },
  {
   "cell_type": "markdown",
   "metadata": {},
   "source": [
    "___\n",
    "<center><i>— End of Notebook —</i></center>\n",
    "___"
   ]
  },
  {
   "cell_type": "markdown",
   "metadata": {},
   "source": [
    "[Respawn at Base](#top)"
   ]
  }
 ],
 "metadata": {
  "kernelspec": {
   "display_name": "Python 3",
   "language": "python",
   "name": "python3"
  },
  "language_info": {
   "codemirror_mode": {
    "name": "ipython",
    "version": 3
   },
   "file_extension": ".py",
   "mimetype": "text/x-python",
   "name": "python",
   "nbconvert_exporter": "python",
   "pygments_lexer": "ipython3",
   "version": "3.6.4"
  }
 },
 "nbformat": 4,
 "nbformat_minor": 2
}
